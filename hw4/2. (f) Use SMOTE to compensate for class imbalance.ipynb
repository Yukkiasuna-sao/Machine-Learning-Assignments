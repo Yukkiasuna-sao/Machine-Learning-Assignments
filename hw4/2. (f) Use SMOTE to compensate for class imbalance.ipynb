{
 "cells": [
  {
   "cell_type": "markdown",
   "metadata": {},
   "source": [
    "# (f) Use SMOTE to compensate for class imbalance\n",
    "The 5-fold cross validation to estimate the error of the trained model is in Tree-Based Methods.ipynb"
   ]
  },
  {
   "cell_type": "code",
   "execution_count": 8,
   "metadata": {},
   "outputs": [],
   "source": [
    "cls_sm = Classifier(classname='weka.classifiers.trees.LMT', options=['-I' ,'1'])\n",
    "loader = Loader(classname='weka.core.converters.ArffLoader')\n",
    "sm_data = loader.load_file('SMOTE_train_data.arff')\n",
    "sm_data.class_is_last()"
   ]
  },
  {
   "cell_type": "code",
   "execution_count": 9,
   "metadata": {
    "scrolled": true
   },
   "outputs": [
    {
     "name": "stdout",
     "output_type": "stream",
     "text": [
      "start build\n",
      "end build\n"
     ]
    }
   ],
   "source": [
    "print(\"start build\")\n",
    "cls_sm.build_classifier(sm_data)\n",
    "print(\"end build\")\n",
    "\n",
    "s_train_pred = []\n",
    "s_train_prob = []\n",
    "s_test_pred = []\n",
    "s_test_prob = []\n",
    "s_train_label = []\n",
    "s_test_label = []\n",
    "for i in sm_data:\n",
    "    s_train_pred.append(cls_sm.classify_instance(i))\n",
    "    s_train_prob.append(cls_sm.distribution_for_instance(i))\n",
    "    if list(i)[-1]=='neg':\n",
    "        s_train_label.append(0)\n",
    "    else:\n",
    "        s_train_label.append(1)\n",
    "\n",
    "for i in test_data:\n",
    "    s_test_pred.append(cls_sm.classify_instance(i))\n",
    "    s_test_prob.append(cls_sm.distribution_for_instance(i))"
   ]
  },
  {
   "cell_type": "code",
   "execution_count": 10,
   "metadata": {},
   "outputs": [
    {
     "name": "stdout",
     "output_type": "stream",
     "text": [
      "For training set:\n",
      "The confusion matrix is:\n",
      "[[58848   152]\n",
      " [   29 58971]]\n",
      "AUC and ROC:\n",
      "AUC is 0.9995846230968113\n",
      "The misclassification rate is: 0.0015338983050847688\n"
     ]
    },
    {
     "data": {
      "image/png": "[encoded data removed]",
      "text/plain": [
       "<Figure size 432x288 with 1 Axes>"
      ]
     },
     "metadata": {
      "needs_background": "light"
     },
     "output_type": "display_data"
    }
   ],
   "source": [
    "s_train_prob = np.array(s_train_prob)\n",
    "\n",
    "print('For training set:')\n",
    "print('The confusion matrix is:')\n",
    "print(metrics.confusion_matrix(s_train_label, s_train_pred))\n",
    "\n",
    "print('AUC and ROC:')\n",
    "fpr, tpr, thresholds = metrics.roc_curve(s_train_label, s_train_prob[:,0], pos_label=0)\n",
    "print('AUC is', metrics.auc(fpr,tpr))\n",
    "\n",
    "plt.title('ROC curve for training set')\n",
    "plt.xlabel('false positive rate')\n",
    "plt.ylabel('true positive rate')\n",
    "plt.plot(fpr,tpr)\n",
    "\n",
    "print(\"The misclassification rate is:\", 1-accuracy_score(s_train_label, s_train_pred))"
   ]
  },
  {
   "cell_type": "code",
   "execution_count": 11,
   "metadata": {},
   "outputs": [
    {
     "name": "stdout",
     "output_type": "stream",
     "text": [
      "For test set:\n",
      "The confusion matrix is:\n",
      "[[15124   501]\n",
      " [   78   297]]\n",
      "AUC and ROC:\n",
      "AUC is 0.9641065813333333\n",
      "The misclassification rate is: 0.03618750000000004\n"
     ]
    },
    {
     "data": {
      "image/png": "[encoded data removed]",
      "text/plain": [
       "<Figure size 432x288 with 1 Axes>"
      ]
     },
     "metadata": {
      "needs_background": "light"
     },
     "output_type": "display_data"
    }
   ],
   "source": [
    "s_test_prob = np.array(s_test_prob)\n",
    "print('For test set:')\n",
    "\n",
    "print('The confusion matrix is:')\n",
    "print(metrics.confusion_matrix(test_label, s_test_pred))\n",
    "\n",
    "print('AUC and ROC:')\n",
    "fpr, tpr, thresholds = metrics.roc_curve(test_label, s_test_prob[:,0], pos_label=0)\n",
    "print('AUC is',metrics.auc(fpr,tpr))\n",
    "\n",
    "plt.title('ROC curve for test set')\n",
    "plt.xlabel('false positive rate')\n",
    "plt.ylabel('true positive rate')\n",
    "plt.plot(fpr,tpr)\n",
    "\n",
    "print('The misclassification rate is:', 1-accuracy_score(test_label, s_test_pred))"
   ]
  }
 ],
 "metadata": {
  "kernelspec": {
   "display_name": "Python 3",
   "language": "python",
   "name": "python3"
  },
  "language_info": {
   "codemirror_mode": {
    "name": "ipython",
    "version": 3
   },
   "file_extension": ".py",
   "mimetype": "text/x-python",
   "name": "python",
   "nbconvert_exporter": "python",
   "pygments_lexer": "ipython3",
   "version": "3.6.5"
  }
 },
 "nbformat": 4,
 "nbformat_minor": 2
}
