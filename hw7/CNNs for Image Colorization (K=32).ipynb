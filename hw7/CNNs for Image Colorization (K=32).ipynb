{
 "cells": [
  {
   "cell_type": "code",
   "execution_count": 1,
   "metadata": {},
   "outputs": [],
   "source": [
    "def unpickle(file):\n",
    "    import pickle\n",
    "    with open(file, 'rb') as fo:\n",
    "        dict = pickle.load(fo, encoding='bytes')\n",
    "    return dict"
   ]
  },
  {
   "cell_type": "code",
   "execution_count": 2,
   "metadata": {},
   "outputs": [],
   "source": [
    "baches_meta = unpickle('cifar-10-batches-py/batches.meta')"
   ]
  },
  {
   "cell_type": "code",
   "execution_count": 3,
   "metadata": {},
   "outputs": [
    {
     "data": {
      "text/plain": [
       "2"
      ]
     },
     "execution_count": 3,
     "metadata": {},
     "output_type": "execute_result"
    }
   ],
   "source": [
    "class_name=baches_meta[b'label_names']\n",
    "dict_class={}\n",
    "j=0\n",
    "for i in class_name:\n",
    "    dict_class[i]=j\n",
    "    j+=1\n",
    "dict_class[b'bird']"
   ]
  },
  {
   "cell_type": "code",
   "execution_count": 4,
   "metadata": {},
   "outputs": [
    {
     "name": "stdout",
     "output_type": "stream",
     "text": [
      "(1000, 3072)\n",
      "test size =  1000\n",
      "(1032, 3072)\n",
      "(1010, 3072)\n",
      "(965, 3072)\n",
      "(1041, 3072)\n",
      "(952, 3072)\n",
      "train size = 5000\n"
     ]
    }
   ],
   "source": [
    "import numpy as np\n",
    "test_batch=unpickle('cifar-10-batches-py/test_batch')\n",
    "test_labels=test_batch[b'labels']\n",
    "test_data=test_batch[b'data']\n",
    "a=np.argwhere(test_labels==np.uint8(dict_class[b'bird']))\n",
    "bird_test_index=np.ndarray.flatten(a)\n",
    "bird_test_data=test_data[bird_test_index]\n",
    "print(bird_test_data.shape)\n",
    "print('test size = ', bird_test_data.shape[0])\n",
    "\n",
    "train_batch1 = unpickle('cifar-10-batches-py/data_batch_1')\n",
    "train_label1 = train_batch1[b'labels']\n",
    "train_data1 = train_batch1[b'data']\n",
    "a=np.argwhere(train_label1==np.uint8(dict_class[b'bird']))\n",
    "bird_train_index1=np.ndarray.flatten(a)\n",
    "bird_train_data1=train_data1[bird_train_index1]\n",
    "print(bird_train_data1.shape)\n",
    "\n",
    "train_batch2 = unpickle('cifar-10-batches-py/data_batch_2')\n",
    "train_label2 = train_batch2[b'labels']\n",
    "train_data2 = train_batch2[b'data']\n",
    "a=np.argwhere(train_label2==np.uint8(dict_class[b'bird']))\n",
    "bird_train_index2=np.ndarray.flatten(a)\n",
    "bird_train_data2=train_data2[bird_train_index2]\n",
    "print(bird_train_data2.shape) \n",
    "\n",
    "train_batch3 = unpickle('cifar-10-batches-py/data_batch_3')\n",
    "train_label3 = train_batch3[b'labels']\n",
    "train_data3 = train_batch3[b'data']\n",
    "a=np.argwhere(train_label3==np.uint8(dict_class[b'bird']))\n",
    "bird_train_index3=np.ndarray.flatten(a)\n",
    "bird_train_data3=train_data3[bird_train_index3]\n",
    "print(bird_train_data3.shape) \n",
    "\n",
    "train_batch4 = unpickle('cifar-10-batches-py/data_batch_4')\n",
    "train_label4 = train_batch4[b'labels']\n",
    "train_data4 = train_batch4[b'data']\n",
    "a=np.argwhere(train_label4==np.uint8(dict_class[b'bird']))\n",
    "bird_train_index4=np.ndarray.flatten(a)\n",
    "bird_train_data4=train_data4[bird_train_index4]\n",
    "print(bird_train_data4.shape) \n",
    "\n",
    "train_batch5 = unpickle('cifar-10-batches-py/data_batch_5')\n",
    "train_label5 = train_batch5[b'labels']\n",
    "train_data5 = train_batch5[b'data']\n",
    "a=np.argwhere(train_label5==np.uint8(dict_class[b'bird']))\n",
    "bird_train_index5=np.ndarray.flatten(a)\n",
    "bird_train_data5=train_data5[bird_train_index5]\n",
    "print(bird_train_data5.shape) \n",
    "print('train size =', bird_train_data1.shape[0]+bird_train_data2.shape[0]+bird_train_data3.shape[0]+bird_train_data4.shape[0]+bird_train_data5.shape[0])"
   ]
  },
  {
   "cell_type": "code",
   "execution_count": 5,
   "metadata": {},
   "outputs": [
    {
     "data": {
      "text/plain": [
       "(6000, 3072)"
      ]
     },
     "execution_count": 5,
     "metadata": {},
     "output_type": "execute_result"
    }
   ],
   "source": [
    "bird_data = np.concatenate((bird_test_data, bird_train_data1, bird_train_data2, bird_train_data3, bird_train_data4, bird_train_data5), axis=0)\n",
    "bird_data.shape"
   ]
  },
  {
   "cell_type": "markdown",
   "metadata": {},
   "source": [
    "The image is stored in row-major order, so that the first 32 entries of the array are the red channel values of the first row of the image."
   ]
  },
  {
   "cell_type": "code",
   "execution_count": 6,
   "metadata": {},
   "outputs": [
    {
     "data": {
      "text/plain": [
       "array([[100,  68, 116, ...,  68,  94, 100],\n",
       "       [ 66,  66,  64, ..., 146, 145, 144],\n",
       "       [201, 187, 146, ...,  28,  21,  11],\n",
       "       ...,\n",
       "       [ 84,  79,  87, ...,  31,  54,  53],\n",
       "       [188, 186, 187, ..., 186, 171, 170],\n",
       "       [145, 151, 156, ...,  56,  53,  54]], dtype=uint8)"
      ]
     },
     "execution_count": 6,
     "metadata": {},
     "output_type": "execute_result"
    }
   ],
   "source": [
    "bird_data"
   ]
  },
  {
   "cell_type": "code",
   "execution_count": 7,
   "metadata": {},
   "outputs": [],
   "source": [
    "pixel_list = []\n",
    "for i in range(6000):\n",
    "    for j in range(1024):\n",
    "        red = bird_data[i][j]\n",
    "        green = bird_data[i][j+1024]\n",
    "        blue = bird_data[i][j+2048]\n",
    "        pixel = np.array([red, green, blue])\n",
    "        pixel_list.append(pixel) "
   ]
  },
  {
   "cell_type": "code",
   "execution_count": 8,
   "metadata": {
    "scrolled": true
   },
   "outputs": [
    {
     "name": "stdout",
     "output_type": "stream",
     "text": [
      "[[100 103  74]\n",
      " [ 68  91  65]\n",
      " [116 162 109]\n",
      " ...\n",
      " [ 39  41  56]\n",
      " [ 36  38  53]\n",
      " [ 37  39  54]]\n",
      "(6144000, 3)\n"
     ]
    }
   ],
   "source": [
    "pixel_array=np.array(pixel_list)\n",
    "print(pixel_array)\n",
    "print(pixel_array.shape)"
   ]
  },
  {
   "cell_type": "code",
   "execution_count": 9,
   "metadata": {},
   "outputs": [],
   "source": [
    "import PIL.Image as image\n",
    "from sklearn.cluster import KMeans\n",
    "km = KMeans(n_clusters=32)\n",
    "label = km.fit_predict(pixel_array)"
   ]
  },
  {
   "cell_type": "code",
   "execution_count": 10,
   "metadata": {},
   "outputs": [
    {
     "data": {
      "text/plain": [
       "array([[159.5787582 , 140.21312922, 104.42089569],\n",
       "       [173.0258192 , 172.23978061, 164.16593777],\n",
       "       [ 72.53999137,  72.77989063,  64.70680543],\n",
       "       [246.9708122 , 247.8864006 , 246.13810454],\n",
       "       [ 13.65202533,  14.28678695,  11.93495041],\n",
       "       [105.94007803, 125.88342378,  54.51661729],\n",
       "       [172.59896804, 206.02824117, 237.06188085],\n",
       "       [103.50939495, 163.69462645, 225.29553677],\n",
       "       [103.64008741, 111.95831641, 111.8639181 ],\n",
       "       [181.59249603, 160.85689546, 125.4034042 ],\n",
       "       [204.05326103, 188.32106522, 142.8812511 ],\n",
       "       [ 36.01805058,  36.89977685,  27.78587652],\n",
       "       [155.3648946 , 177.57652005, 105.33255896],\n",
       "       [220.68420253, 221.59801352, 219.60899942],\n",
       "       [ 72.7221249 ,  98.43966709,  40.38205793],\n",
       "       [114.82043745, 104.82603971,  80.51019713],\n",
       "       [110.79156571, 139.42871175, 167.84589839],\n",
       "       [ 48.93979687,  54.38478144,  50.74001666],\n",
       "       [131.0867893 , 132.56763394, 124.85321333],\n",
       "       [156.36883193, 108.84422786,  61.87267677],\n",
       "       [ 69.79566727,  59.15880814,  33.97403691],\n",
       "       [191.87527554, 193.50879638, 191.86547952],\n",
       "       [151.5507787 , 151.29974625, 144.7009076 ],\n",
       "       [131.30290155, 150.7037025 ,  75.71791992],\n",
       "       [ 89.34528465,  92.15121287,  82.59726485],\n",
       "       [147.0113084 , 172.48959459, 200.59223096],\n",
       "       [105.50657568,  82.45022368,  52.0325004 ],\n",
       "       [ 56.82615408, 114.97803445, 177.83967563],\n",
       "       [202.80063476, 171.124544  ,  69.01265869],\n",
       "       [223.81837268, 209.7312212 , 176.67182824],\n",
       "       [132.46142938, 121.73483615,  95.73477834],\n",
       "       [ 50.2859333 ,  81.68896851, 114.99521119]])"
      ]
     },
     "execution_count": 10,
     "metadata": {},
     "output_type": "execute_result"
    }
   ],
   "source": [
    "km.cluster_centers_"
   ]
  },
  {
   "cell_type": "code",
   "execution_count": 11,
   "metadata": {},
   "outputs": [
    {
     "data": {
      "text/plain": [
       "dtype('uint8')"
      ]
     },
     "execution_count": 11,
     "metadata": {},
     "output_type": "execute_result"
    }
   ],
   "source": [
    "pixel_array.dtype\n",
    "# out = np.zeros((4,), dtype=np.ndarray)"
   ]
  },
  {
   "cell_type": "code",
   "execution_count": 12,
   "metadata": {},
   "outputs": [
    {
     "data": {
      "text/plain": [
       "array([[0, 0, 0, ..., 0, 0, 0],\n",
       "       [0, 0, 1, ..., 0, 0, 0],\n",
       "       [0, 0, 0, ..., 0, 0, 0],\n",
       "       ...,\n",
       "       [0, 0, 0, ..., 0, 0, 0],\n",
       "       [0, 0, 0, ..., 0, 0, 0],\n",
       "       [0, 0, 0, ..., 0, 0, 0]])"
      ]
     },
     "execution_count": 12,
     "metadata": {},
     "output_type": "execute_result"
    }
   ],
   "source": [
    "label_list = []\n",
    "for x in label:\n",
    "        out = np.zeros((32,), dtype=int)\n",
    "        out[x] += 1\n",
    "        label_list.append(out)\n",
    "label_array = np.array(label_list)\n",
    "label_array"
   ]
  },
  {
   "cell_type": "code",
   "execution_count": 13,
   "metadata": {},
   "outputs": [],
   "source": [
    "label_array=label_array.reshape(6000, 32, 32, 32)"
   ]
  },
  {
   "cell_type": "code",
   "execution_count": 14,
   "metadata": {},
   "outputs": [
    {
     "data": {
      "text/plain": [
       "array([[[[0, 0, 0, ..., 0, 0, 0],\n",
       "         [0, 0, 1, ..., 0, 0, 0],\n",
       "         [0, 0, 0, ..., 0, 0, 0],\n",
       "         ...,\n",
       "         [0, 0, 0, ..., 0, 0, 0],\n",
       "         [0, 0, 0, ..., 0, 0, 0],\n",
       "         [0, 0, 0, ..., 0, 0, 0]],\n",
       "\n",
       "        [[0, 0, 0, ..., 0, 0, 0],\n",
       "         [0, 0, 0, ..., 0, 0, 0],\n",
       "         [0, 0, 0, ..., 0, 0, 0],\n",
       "         ...,\n",
       "         [0, 0, 0, ..., 0, 0, 0],\n",
       "         [0, 0, 0, ..., 0, 0, 0],\n",
       "         [0, 0, 0, ..., 0, 0, 0]],\n",
       "\n",
       "        [[0, 0, 0, ..., 0, 0, 0],\n",
       "         [0, 0, 0, ..., 0, 0, 0],\n",
       "         [0, 0, 0, ..., 0, 0, 0],\n",
       "         ...,\n",
       "         [0, 0, 0, ..., 0, 0, 0],\n",
       "         [0, 0, 0, ..., 0, 0, 0],\n",
       "         [0, 0, 0, ..., 0, 0, 0]],\n",
       "\n",
       "        ...,\n",
       "\n",
       "        [[0, 0, 0, ..., 0, 0, 0],\n",
       "         [0, 0, 0, ..., 0, 0, 0],\n",
       "         [0, 0, 0, ..., 0, 0, 0],\n",
       "         ...,\n",
       "         [0, 0, 0, ..., 0, 0, 0],\n",
       "         [0, 0, 0, ..., 0, 0, 0],\n",
       "         [0, 1, 0, ..., 0, 0, 0]],\n",
       "\n",
       "        [[0, 0, 0, ..., 0, 0, 0],\n",
       "         [0, 0, 0, ..., 0, 0, 0],\n",
       "         [0, 0, 0, ..., 0, 0, 0],\n",
       "         ...,\n",
       "         [1, 0, 0, ..., 0, 0, 0],\n",
       "         [0, 0, 0, ..., 0, 0, 0],\n",
       "         [0, 0, 0, ..., 0, 0, 0]],\n",
       "\n",
       "        [[0, 0, 0, ..., 0, 0, 0],\n",
       "         [0, 0, 0, ..., 0, 0, 0],\n",
       "         [0, 0, 0, ..., 0, 0, 0],\n",
       "         ...,\n",
       "         [0, 0, 0, ..., 0, 0, 0],\n",
       "         [0, 0, 0, ..., 0, 1, 0],\n",
       "         [1, 0, 0, ..., 0, 0, 0]]],\n",
       "\n",
       "\n",
       "       [[[0, 0, 1, ..., 0, 0, 0],\n",
       "         [0, 0, 1, ..., 0, 0, 0],\n",
       "         [0, 0, 1, ..., 0, 0, 0],\n",
       "         ...,\n",
       "         [0, 0, 0, ..., 0, 0, 0],\n",
       "         [0, 0, 0, ..., 0, 0, 0],\n",
       "         [0, 0, 0, ..., 0, 0, 0]],\n",
       "\n",
       "        [[0, 0, 0, ..., 0, 0, 0],\n",
       "         [0, 0, 0, ..., 0, 0, 0],\n",
       "         [0, 0, 0, ..., 0, 0, 0],\n",
       "         ...,\n",
       "         [0, 0, 0, ..., 0, 0, 0],\n",
       "         [0, 0, 0, ..., 0, 0, 0],\n",
       "         [0, 0, 0, ..., 0, 0, 0]],\n",
       "\n",
       "        [[0, 0, 0, ..., 0, 0, 0],\n",
       "         [0, 0, 0, ..., 0, 0, 0],\n",
       "         [0, 0, 0, ..., 0, 0, 0],\n",
       "         ...,\n",
       "         [0, 0, 1, ..., 0, 0, 0],\n",
       "         [0, 0, 1, ..., 0, 0, 0],\n",
       "         [0, 0, 1, ..., 0, 0, 0]],\n",
       "\n",
       "        ...,\n",
       "\n",
       "        [[0, 0, 0, ..., 0, 0, 0],\n",
       "         [0, 0, 0, ..., 0, 1, 0],\n",
       "         [0, 0, 1, ..., 0, 0, 0],\n",
       "         ...,\n",
       "         [0, 0, 0, ..., 0, 0, 0],\n",
       "         [0, 0, 0, ..., 0, 0, 0],\n",
       "         [0, 0, 0, ..., 0, 0, 0]],\n",
       "\n",
       "        [[0, 0, 0, ..., 0, 0, 0],\n",
       "         [0, 0, 0, ..., 0, 0, 0],\n",
       "         [0, 0, 0, ..., 0, 0, 0],\n",
       "         ...,\n",
       "         [0, 0, 0, ..., 0, 0, 0],\n",
       "         [0, 0, 0, ..., 0, 0, 0],\n",
       "         [0, 0, 0, ..., 0, 0, 0]],\n",
       "\n",
       "        [[0, 0, 0, ..., 0, 0, 0],\n",
       "         [0, 0, 0, ..., 0, 0, 0],\n",
       "         [0, 0, 0, ..., 0, 1, 0],\n",
       "         ...,\n",
       "         [0, 0, 0, ..., 0, 0, 0],\n",
       "         [0, 0, 0, ..., 0, 0, 0],\n",
       "         [0, 0, 0, ..., 0, 0, 0]]],\n",
       "\n",
       "\n",
       "       [[[0, 0, 0, ..., 1, 0, 0],\n",
       "         [0, 0, 0, ..., 0, 0, 0],\n",
       "         [0, 0, 0, ..., 0, 0, 0],\n",
       "         ...,\n",
       "         [0, 0, 0, ..., 0, 0, 0],\n",
       "         [0, 0, 0, ..., 0, 0, 0],\n",
       "         [0, 0, 0, ..., 0, 0, 0]],\n",
       "\n",
       "        [[0, 0, 0, ..., 1, 0, 0],\n",
       "         [0, 0, 0, ..., 0, 0, 0],\n",
       "         [0, 0, 0, ..., 0, 0, 0],\n",
       "         ...,\n",
       "         [0, 0, 0, ..., 0, 0, 0],\n",
       "         [0, 0, 0, ..., 0, 0, 0],\n",
       "         [0, 0, 0, ..., 0, 0, 0]],\n",
       "\n",
       "        [[0, 0, 0, ..., 1, 0, 0],\n",
       "         [1, 0, 0, ..., 0, 0, 0],\n",
       "         [0, 0, 0, ..., 0, 0, 0],\n",
       "         ...,\n",
       "         [0, 0, 0, ..., 0, 0, 0],\n",
       "         [0, 0, 0, ..., 0, 0, 0],\n",
       "         [0, 0, 0, ..., 0, 0, 0]],\n",
       "\n",
       "        ...,\n",
       "\n",
       "        [[0, 0, 0, ..., 0, 0, 0],\n",
       "         [0, 0, 0, ..., 0, 0, 0],\n",
       "         [0, 0, 0, ..., 0, 0, 0],\n",
       "         ...,\n",
       "         [0, 0, 0, ..., 0, 0, 0],\n",
       "         [0, 0, 0, ..., 0, 0, 0],\n",
       "         [0, 0, 0, ..., 0, 0, 0]],\n",
       "\n",
       "        [[0, 0, 0, ..., 0, 0, 0],\n",
       "         [0, 0, 0, ..., 0, 0, 0],\n",
       "         [0, 0, 0, ..., 0, 0, 0],\n",
       "         ...,\n",
       "         [0, 0, 1, ..., 0, 0, 0],\n",
       "         [0, 0, 0, ..., 0, 0, 0],\n",
       "         [0, 0, 0, ..., 0, 0, 0]],\n",
       "\n",
       "        [[0, 0, 0, ..., 0, 0, 0],\n",
       "         [0, 0, 0, ..., 0, 0, 0],\n",
       "         [0, 0, 0, ..., 0, 0, 0],\n",
       "         ...,\n",
       "         [0, 0, 0, ..., 0, 0, 0],\n",
       "         [0, 0, 0, ..., 0, 0, 0],\n",
       "         [0, 0, 0, ..., 0, 0, 0]]],\n",
       "\n",
       "\n",
       "       ...,\n",
       "\n",
       "\n",
       "       [[[0, 0, 0, ..., 0, 0, 0],\n",
       "         [0, 0, 1, ..., 0, 0, 0],\n",
       "         [0, 0, 0, ..., 0, 0, 0],\n",
       "         ...,\n",
       "         [0, 0, 0, ..., 0, 1, 0],\n",
       "         [0, 0, 0, ..., 0, 1, 0],\n",
       "         [0, 0, 0, ..., 0, 1, 0]],\n",
       "\n",
       "        [[0, 0, 0, ..., 0, 0, 0],\n",
       "         [0, 0, 0, ..., 0, 0, 0],\n",
       "         [0, 0, 0, ..., 0, 0, 0],\n",
       "         ...,\n",
       "         [0, 0, 0, ..., 0, 1, 0],\n",
       "         [0, 0, 0, ..., 0, 1, 0],\n",
       "         [0, 0, 0, ..., 0, 1, 0]],\n",
       "\n",
       "        [[0, 0, 0, ..., 0, 0, 0],\n",
       "         [0, 0, 0, ..., 0, 0, 0],\n",
       "         [0, 0, 1, ..., 0, 0, 0],\n",
       "         ...,\n",
       "         [0, 0, 0, ..., 0, 1, 0],\n",
       "         [0, 0, 0, ..., 0, 0, 0],\n",
       "         [0, 0, 0, ..., 0, 0, 0]],\n",
       "\n",
       "        ...,\n",
       "\n",
       "        [[0, 0, 0, ..., 0, 0, 0],\n",
       "         [0, 0, 0, ..., 0, 0, 0],\n",
       "         [0, 0, 0, ..., 0, 0, 0],\n",
       "         ...,\n",
       "         [0, 0, 0, ..., 0, 0, 0],\n",
       "         [0, 0, 0, ..., 0, 1, 0],\n",
       "         [0, 0, 0, ..., 0, 0, 0]],\n",
       "\n",
       "        [[0, 0, 0, ..., 0, 0, 0],\n",
       "         [0, 0, 0, ..., 0, 0, 0],\n",
       "         [0, 0, 0, ..., 0, 0, 0],\n",
       "         ...,\n",
       "         [0, 0, 0, ..., 0, 0, 0],\n",
       "         [0, 0, 0, ..., 0, 0, 0],\n",
       "         [0, 0, 0, ..., 0, 0, 0]],\n",
       "\n",
       "        [[0, 0, 0, ..., 0, 0, 0],\n",
       "         [0, 0, 0, ..., 0, 0, 0],\n",
       "         [0, 0, 0, ..., 0, 0, 0],\n",
       "         ...,\n",
       "         [0, 0, 0, ..., 0, 0, 0],\n",
       "         [0, 0, 1, ..., 0, 0, 0],\n",
       "         [0, 0, 1, ..., 0, 0, 0]]],\n",
       "\n",
       "\n",
       "       [[[0, 0, 0, ..., 0, 0, 0],\n",
       "         [0, 0, 0, ..., 0, 0, 0],\n",
       "         [0, 0, 0, ..., 0, 0, 0],\n",
       "         ...,\n",
       "         [0, 0, 0, ..., 0, 0, 0],\n",
       "         [0, 0, 0, ..., 0, 0, 0],\n",
       "         [0, 0, 0, ..., 0, 0, 0]],\n",
       "\n",
       "        [[0, 0, 0, ..., 0, 0, 0],\n",
       "         [0, 0, 0, ..., 0, 0, 0],\n",
       "         [0, 0, 0, ..., 0, 0, 0],\n",
       "         ...,\n",
       "         [0, 0, 0, ..., 0, 0, 0],\n",
       "         [0, 0, 0, ..., 0, 0, 0],\n",
       "         [0, 0, 0, ..., 0, 0, 0]],\n",
       "\n",
       "        [[0, 0, 0, ..., 0, 0, 0],\n",
       "         [0, 0, 0, ..., 0, 0, 0],\n",
       "         [0, 0, 0, ..., 0, 0, 0],\n",
       "         ...,\n",
       "         [0, 0, 0, ..., 0, 0, 0],\n",
       "         [0, 0, 0, ..., 0, 0, 0],\n",
       "         [0, 0, 0, ..., 0, 0, 0]],\n",
       "\n",
       "        ...,\n",
       "\n",
       "        [[0, 0, 0, ..., 0, 0, 0],\n",
       "         [0, 0, 0, ..., 0, 0, 0],\n",
       "         [0, 0, 0, ..., 0, 0, 0],\n",
       "         ...,\n",
       "         [0, 0, 0, ..., 0, 0, 0],\n",
       "         [0, 0, 0, ..., 0, 0, 0],\n",
       "         [0, 0, 0, ..., 0, 0, 0]],\n",
       "\n",
       "        [[0, 0, 0, ..., 0, 0, 0],\n",
       "         [0, 0, 0, ..., 0, 0, 0],\n",
       "         [0, 0, 0, ..., 0, 0, 0],\n",
       "         ...,\n",
       "         [0, 0, 0, ..., 0, 0, 0],\n",
       "         [0, 0, 0, ..., 0, 0, 0],\n",
       "         [0, 0, 0, ..., 0, 0, 0]],\n",
       "\n",
       "        [[0, 0, 0, ..., 0, 0, 0],\n",
       "         [0, 0, 0, ..., 0, 0, 0],\n",
       "         [0, 0, 0, ..., 0, 0, 0],\n",
       "         ...,\n",
       "         [0, 1, 0, ..., 0, 0, 0],\n",
       "         [0, 1, 0, ..., 0, 0, 0],\n",
       "         [0, 1, 0, ..., 0, 0, 0]]],\n",
       "\n",
       "\n",
       "       [[[0, 0, 0, ..., 0, 0, 0],\n",
       "         [0, 0, 0, ..., 0, 0, 0],\n",
       "         [0, 0, 0, ..., 0, 0, 0],\n",
       "         ...,\n",
       "         [0, 0, 0, ..., 0, 0, 0],\n",
       "         [0, 0, 0, ..., 0, 0, 0],\n",
       "         [0, 0, 0, ..., 0, 0, 0]],\n",
       "\n",
       "        [[0, 0, 0, ..., 0, 0, 0],\n",
       "         [0, 0, 0, ..., 0, 0, 0],\n",
       "         [0, 0, 0, ..., 0, 0, 0],\n",
       "         ...,\n",
       "         [0, 0, 0, ..., 0, 0, 0],\n",
       "         [0, 0, 0, ..., 0, 0, 0],\n",
       "         [0, 0, 0, ..., 0, 0, 0]],\n",
       "\n",
       "        [[0, 0, 0, ..., 0, 0, 0],\n",
       "         [0, 0, 0, ..., 0, 0, 0],\n",
       "         [0, 0, 0, ..., 0, 0, 0],\n",
       "         ...,\n",
       "         [0, 0, 0, ..., 0, 0, 0],\n",
       "         [0, 0, 0, ..., 0, 0, 0],\n",
       "         [0, 0, 0, ..., 0, 0, 0]],\n",
       "\n",
       "        ...,\n",
       "\n",
       "        [[0, 0, 0, ..., 0, 0, 0],\n",
       "         [0, 0, 1, ..., 0, 0, 0],\n",
       "         [0, 0, 0, ..., 0, 0, 0],\n",
       "         ...,\n",
       "         [0, 0, 0, ..., 0, 0, 0],\n",
       "         [0, 0, 0, ..., 0, 0, 0],\n",
       "         [0, 0, 0, ..., 0, 0, 0]],\n",
       "\n",
       "        [[0, 0, 0, ..., 0, 0, 0],\n",
       "         [0, 0, 0, ..., 0, 0, 0],\n",
       "         [0, 0, 0, ..., 0, 0, 0],\n",
       "         ...,\n",
       "         [0, 0, 0, ..., 0, 0, 0],\n",
       "         [0, 0, 0, ..., 0, 0, 0],\n",
       "         [0, 0, 0, ..., 0, 0, 0]],\n",
       "\n",
       "        [[0, 0, 0, ..., 0, 0, 0],\n",
       "         [0, 0, 0, ..., 0, 0, 0],\n",
       "         [0, 0, 0, ..., 0, 0, 0],\n",
       "         ...,\n",
       "         [0, 0, 0, ..., 0, 0, 0],\n",
       "         [0, 0, 0, ..., 0, 0, 0],\n",
       "         [0, 0, 0, ..., 0, 0, 0]]]])"
      ]
     },
     "execution_count": 14,
     "metadata": {},
     "output_type": "execute_result"
    }
   ],
   "source": [
    "label_array # output"
   ]
  },
  {
   "cell_type": "code",
   "execution_count": 15,
   "metadata": {},
   "outputs": [],
   "source": [
    "pixel_array=pixel_array.reshape(6000,32,32,3)"
   ]
  },
  {
   "cell_type": "code",
   "execution_count": 16,
   "metadata": {},
   "outputs": [],
   "source": [
    "a = map(lambda x: image.fromarray(x), pixel_array)\n",
    "gray_imgs = map(lambda x: x.convert(mode='L'), a)"
   ]
  },
  {
   "cell_type": "code",
   "execution_count": 17,
   "metadata": {},
   "outputs": [],
   "source": [
    "gray_imgs = list(gray_imgs)\n",
    "gray_imgs = np.array(list(map(lambda x: np.array(x), gray_imgs)))"
   ]
  },
  {
   "cell_type": "code",
   "execution_count": 18,
   "metadata": {
    "scrolled": true
   },
   "outputs": [
    {
     "data": {
      "text/plain": [
       "(6000, 32, 32)"
      ]
     },
     "execution_count": 18,
     "metadata": {},
     "output_type": "execute_result"
    }
   ],
   "source": [
    "gray_imgs.shape"
   ]
  },
  {
   "cell_type": "code",
   "execution_count": 19,
   "metadata": {},
   "outputs": [],
   "source": [
    "gray_imgs = gray_imgs.reshape(6000, 32, 32, 1)\n",
    "import tensorflow as tf\n",
    "def ce(y_true, y_pred):\n",
    "        return tf.nn.softmax_cross_entropy_with_logits(labels=y_true,logits=y_pred,dim=3)"
   ]
  },
  {
   "cell_type": "code",
   "execution_count": 20,
   "metadata": {},
   "outputs": [
    {
     "name": "stderr",
     "output_type": "stream",
     "text": [
      "Using TensorFlow backend.\n"
     ]
    },
    {
     "name": "stdout",
     "output_type": "stream",
     "text": [
      "WARNING:tensorflow:From <ipython-input-19-b31499b2da01>:4: softmax_cross_entropy_with_logits (from tensorflow.python.ops.nn_ops) is deprecated and will be removed in a future version.\n",
      "Instructions for updating:\n",
      "\n",
      "Future major versions of TensorFlow will allow gradients to flow\n",
      "into the labels input on backprop by default.\n",
      "\n",
      "See `tf.nn.softmax_cross_entropy_with_logits_v2`.\n",
      "\n",
      "Train on 6000 samples, validate on 1000 samples\n",
      "Epoch 1/30\n",
      "6000/6000 [==============================] - 109s 18ms/step - loss: 75.3881 - acc: 0.0378 - val_loss: 60.2579 - val_acc: 0.0439\n",
      "Epoch 2/30\n",
      "6000/6000 [==============================] - 107s 18ms/step - loss: 23.4819 - acc: 0.0488 - val_loss: 6.1460 - val_acc: 0.0551\n",
      "Epoch 3/30\n",
      "6000/6000 [==============================] - 97s 16ms/step - loss: 4.5512 - acc: 0.0646 - val_loss: 3.5626 - val_acc: 0.0823\n",
      "Epoch 4/30\n",
      "6000/6000 [==============================] - 94s 16ms/step - loss: 3.3275 - acc: 0.0886 - val_loss: 3.1120 - val_acc: 0.1219\n",
      "Epoch 5/30\n",
      "6000/6000 [==============================] - 8147s 1s/step - loss: 3.0501 - acc: 0.1329 - val_loss: 2.8584 - val_acc: 0.1887\n",
      "Epoch 6/30\n",
      "6000/6000 [==============================] - 69310s 12s/step - loss: 2.8001 - acc: 0.1962 - val_loss: 2.5816 - val_acc: 0.2603\n",
      "Epoch 7/30\n",
      "6000/6000 [==============================] - 138s 23ms/step - loss: 2.5472 - acc: 0.2616 - val_loss: 2.3221 - val_acc: 0.3338\n",
      "Epoch 8/30\n",
      "6000/6000 [==============================] - 94s 16ms/step - loss: 2.3081 - acc: 0.3289 - val_loss: 2.0939 - val_acc: 0.4014\n",
      "Epoch 9/30\n",
      "6000/6000 [==============================] - 171s 28ms/step - loss: 2.0918 - acc: 0.3917 - val_loss: 1.8975 - val_acc: 0.4635\n",
      "Epoch 10/30\n",
      "6000/6000 [==============================] - 154s 26ms/step - loss: 1.9097 - acc: 0.4477 - val_loss: 1.7200 - val_acc: 0.5164\n",
      "Epoch 11/30\n",
      "6000/6000 [==============================] - 190s 32ms/step - loss: 1.7360 - acc: 0.5001 - val_loss: 1.5599 - val_acc: 0.5626\n",
      "Epoch 12/30\n",
      "6000/6000 [==============================] - 216s 36ms/step - loss: 1.5799 - acc: 0.5490 - val_loss: 1.4195 - val_acc: 0.6073\n",
      "Epoch 13/30\n",
      "6000/6000 [==============================] - 128s 21ms/step - loss: 1.4421 - acc: 0.5917 - val_loss: 1.2960 - val_acc: 0.6429\n",
      "Epoch 14/30\n",
      "6000/6000 [==============================] - 194s 32ms/step - loss: 1.3171 - acc: 0.6304 - val_loss: 1.1753 - val_acc: 0.6846\n",
      "Epoch 15/30\n",
      "6000/6000 [==============================] - 108s 18ms/step - loss: 1.2006 - acc: 0.6674 - val_loss: 1.0715 - val_acc: 0.7159\n",
      "Epoch 16/30\n",
      "6000/6000 [==============================] - 133s 22ms/step - loss: 1.0958 - acc: 0.7000 - val_loss: 0.9806 - val_acc: 0.7434\n",
      "Epoch 17/30\n",
      "6000/6000 [==============================] - 116s 19ms/step - loss: 1.0038 - acc: 0.7295 - val_loss: 0.8955 - val_acc: 0.7687\n",
      "Epoch 18/30\n",
      "6000/6000 [==============================] - 109s 18ms/step - loss: 0.9166 - acc: 0.7567 - val_loss: 0.8202 - val_acc: 0.7920\n",
      "Epoch 19/30\n",
      "6000/6000 [==============================] - 117s 20ms/step - loss: 0.8400 - acc: 0.7808 - val_loss: 0.7456 - val_acc: 0.8119\n",
      "Epoch 20/30\n",
      "6000/6000 [==============================] - 129s 21ms/step - loss: 0.7705 - acc: 0.8018 - val_loss: 0.6837 - val_acc: 0.8306\n",
      "Epoch 21/30\n",
      "6000/6000 [==============================] - 108s 18ms/step - loss: 0.7060 - acc: 0.8216 - val_loss: 0.6317 - val_acc: 0.8460\n",
      "Epoch 22/30\n",
      "6000/6000 [==============================] - 127s 21ms/step - loss: 0.6499 - acc: 0.8387 - val_loss: 0.5804 - val_acc: 0.8609\n",
      "Epoch 23/30\n",
      "6000/6000 [==============================] - 125s 21ms/step - loss: 0.5981 - acc: 0.8542 - val_loss: 0.5345 - val_acc: 0.8738\n",
      "Epoch 24/30\n",
      "6000/6000 [==============================] - 115s 19ms/step - loss: 0.5524 - acc: 0.8676 - val_loss: 0.4909 - val_acc: 0.8867\n",
      "Epoch 25/30\n",
      "6000/6000 [==============================] - 103s 17ms/step - loss: 0.5083 - acc: 0.8807 - val_loss: 0.4571 - val_acc: 0.8973\n",
      "Epoch 26/30\n",
      "6000/6000 [==============================] - 113s 19ms/step - loss: 0.4717 - acc: 0.8915 - val_loss: 0.4193 - val_acc: 0.9066\n",
      "Epoch 27/30\n",
      "6000/6000 [==============================] - 120s 20ms/step - loss: 0.4340 - acc: 0.9022 - val_loss: 0.3873 - val_acc: 0.9147\n",
      "Epoch 28/30\n",
      "6000/6000 [==============================] - 152s 25ms/step - loss: 0.4020 - acc: 0.9112 - val_loss: 0.3558 - val_acc: 0.9240\n",
      "Epoch 29/30\n",
      "6000/6000 [==============================] - 130s 22ms/step - loss: 0.3701 - acc: 0.9206 - val_loss: 0.3289 - val_acc: 0.9310\n",
      "Epoch 30/30\n",
      "6000/6000 [==============================] - 122s 20ms/step - loss: 0.3415 - acc: 0.9284 - val_loss: 0.3013 - val_acc: 0.9388\n"
     ]
    },
    {
     "data": {
      "text/plain": [
       "<keras.callbacks.History at 0x1715fc668>"
      ]
     },
     "execution_count": 20,
     "metadata": {},
     "output_type": "execute_result"
    }
   ],
   "source": [
    "from keras.models import Sequential\n",
    "from keras.layers import Dense, Conv2D, Flatten, MaxPool2D, Reshape\n",
    "from keras.callbacks import ModelCheckpoint\n",
    "# create model\n",
    "model = Sequential()\n",
    "# add model layers\n",
    "model.add(Conv2D(20, kernel_size=5, activation='relu', input_shape=(32, 32, 1),padding='same'))\n",
    "model.add(MaxPool2D(pool_size=2, strides=2))\n",
    "# model.add(Conv2D(32, kernel_size=5, activation='relu',padding='same'))\n",
    "# model.add(MaxPool2D(pool_size=2, strides=2))\n",
    "model.add(Flatten())\n",
    "model.add(Dense(32768))\n",
    "model.add(Reshape((32, 32, 32)))\n",
    "# compile model using accuracy to measure model performance\n",
    "model.compile(optimizer='adam', loss=ce, metrics=['accuracy'])\n",
    "# train the model\n",
    "model.fit(gray_imgs, label_array, epochs=30, validation_data=(gray_imgs[0:1000], label_array[0:1000]), batch_size=500)"
   ]
  },
  {
   "cell_type": "code",
   "execution_count": 31,
   "metadata": {},
   "outputs": [
    {
     "data": {
      "text/plain": [
       "<matplotlib.image.AxesImage at 0x15ab25390>"
      ]
     },
     "execution_count": 31,
     "metadata": {},
     "output_type": "execute_result"
    },
    {
     "data": {
      "image/png": "[encoded data removed]",
      "text/plain": [
       "<Figure size 432x288 with 2 Axes>"
      ]
     },
     "metadata": {
      "needs_background": "light"
     },
     "output_type": "display_data"
    }
   ],
   "source": [
    "test=gray_imgs[0]\n",
    "test=test.reshape(1,32,32,1)\n",
    "\n",
    "session=tf.Session()\n",
    "result=session.run(tf.argmax(tf.nn.softmax(model.predict(test),-1),-1))\n",
    "result = result.reshape(32,32)\n",
    "result_array=np.zeros((32,32,3),'uint8')\n",
    "cent=np.uint8(km.cluster_centers_)\n",
    "for i in range(32):\n",
    "    for j in range(32):\n",
    "        result_array[i,j,:] = cent[result[i][j]]\n",
    "image.fromarray(result_array)\n",
    "import matplotlib.pyplot as plt\n",
    "plt.subplot(121)\n",
    "plt.imshow(image.fromarray(result_array))\n",
    "plt.subplot(122)\n",
    "plt.imshow(image.fromarray(pixel_array[0]))"
   ]
  },
  {
   "cell_type": "code",
   "execution_count": 22,
   "metadata": {},
   "outputs": [
    {
     "data": {
      "text/plain": [
       "<matplotlib.image.AxesImage at 0x15a0649e8>"
      ]
     },
     "execution_count": 22,
     "metadata": {},
     "output_type": "execute_result"
    },
    {
     "data": {
      "image/png": "[encoded data removed]",
      "text/plain": [
       "<Figure size 432x288 with 2 Axes>"
      ]
     },
     "metadata": {
      "needs_background": "light"
     },
     "output_type": "display_data"
    }
   ],
   "source": [
    "test=gray_imgs[1]\n",
    "test=test.reshape(1,32,32,1)\n",
    "session=tf.Session()\n",
    "result=session.run(tf.argmax(tf.nn.softmax(model.predict(test),-1),-1))\n",
    "result = result.reshape(32,32)\n",
    "result_array=np.zeros((32,32,3),'uint8')\n",
    "cent=np.uint8(km.cluster_centers_)\n",
    "for i in range(32):\n",
    "    for j in range(32):\n",
    "        result_array[i,j,:] = cent[result[i][j]]\n",
    "image.fromarray(result_array)\n",
    "\n",
    "plt.subplot(121)\n",
    "plt.imshow(image.fromarray(result_array))\n",
    "plt.subplot(122)\n",
    "plt.imshow(image.fromarray(pixel_array[1]))"
   ]
  },
  {
   "cell_type": "code",
   "execution_count": 23,
   "metadata": {},
   "outputs": [
    {
     "data": {
      "text/plain": [
       "<matplotlib.image.AxesImage at 0x15a0a7d30>"
      ]
     },
     "execution_count": 23,
     "metadata": {},
     "output_type": "execute_result"
    },
    {
     "data": {
      "image/png": "[encoded data removed]",
      "text/plain": [
       "<Figure size 432x288 with 2 Axes>"
      ]
     },
     "metadata": {
      "needs_background": "light"
     },
     "output_type": "display_data"
    }
   ],
   "source": [
    "test=gray_imgs[2]\n",
    "test=test.reshape(1,32,32,1)\n",
    "session=tf.Session()\n",
    "result=session.run(tf.argmax(tf.nn.softmax(model.predict(test),-1),-1))\n",
    "result = result.reshape(32,32)\n",
    "result_array=np.zeros((32,32,3),'uint8')\n",
    "cent=np.uint8(km.cluster_centers_)\n",
    "for i in range(32):\n",
    "    for j in range(32):\n",
    "        result_array[i,j,:] = cent[result[i][j]]\n",
    "image.fromarray(result_array)\n",
    "\n",
    "plt.subplot(121)\n",
    "plt.imshow(image.fromarray(result_array))\n",
    "plt.subplot(122)\n",
    "plt.imshow(image.fromarray(pixel_array[2]))"
   ]
  },
  {
   "cell_type": "code",
   "execution_count": 24,
   "metadata": {},
   "outputs": [
    {
     "data": {
      "text/plain": [
       "<matplotlib.image.AxesImage at 0x14c753048>"
      ]
     },
     "execution_count": 24,
     "metadata": {},
     "output_type": "execute_result"
    },
    {
     "data": {
      "image/png": "[encoded data removed]",
      "text/plain": [
       "<Figure size 432x288 with 2 Axes>"
      ]
     },
     "metadata": {
      "needs_background": "light"
     },
     "output_type": "display_data"
    }
   ],
   "source": [
    "test=gray_imgs[3]\n",
    "test=test.reshape(1,32,32,1)\n",
    "session=tf.Session()\n",
    "result=session.run(tf.argmax(tf.nn.softmax(model.predict(test),-1),-1))\n",
    "result = result.reshape(32,32)\n",
    "result_array=np.zeros((32,32,3),'uint8')\n",
    "cent=np.uint8(km.cluster_centers_)\n",
    "for i in range(32):\n",
    "    for j in range(32):\n",
    "        result_array[i,j,:] = cent[result[i][j]]\n",
    "image.fromarray(result_array)\n",
    "\n",
    "plt.subplot(121)\n",
    "plt.imshow(image.fromarray(result_array))\n",
    "plt.subplot(122)\n",
    "plt.imshow(image.fromarray(pixel_array[3]))"
   ]
  },
  {
   "cell_type": "code",
   "execution_count": 25,
   "metadata": {},
   "outputs": [
    {
     "data": {
      "text/plain": [
       "<matplotlib.image.AxesImage at 0x15a350128>"
      ]
     },
     "execution_count": 25,
     "metadata": {},
     "output_type": "execute_result"
    },
    {
     "data": {
      "image/png": "[encoded data removed]",
      "text/plain": [
       "<Figure size 432x288 with 2 Axes>"
      ]
     },
     "metadata": {
      "needs_background": "light"
     },
     "output_type": "display_data"
    }
   ],
   "source": [
    "test=gray_imgs[4]\n",
    "test=test.reshape(1,32,32,1)\n",
    "session=tf.Session()\n",
    "result=session.run(tf.argmax(tf.nn.softmax(model.predict(test),-1),-1))\n",
    "result = result.reshape(32,32)\n",
    "result_array=np.zeros((32,32,3),'uint8')\n",
    "cent=np.uint8(km.cluster_centers_)\n",
    "for i in range(32):\n",
    "    for j in range(32):\n",
    "        result_array[i,j,:] = cent[result[i][j]]\n",
    "image.fromarray(result_array)\n",
    "\n",
    "plt.subplot(121)\n",
    "plt.imshow(image.fromarray(result_array))\n",
    "plt.subplot(122)\n",
    "plt.imshow(image.fromarray(pixel_array[4]))"
   ]
  },
  {
   "cell_type": "code",
   "execution_count": 26,
   "metadata": {},
   "outputs": [
    {
     "data": {
      "text/plain": [
       "<matplotlib.image.AxesImage at 0x15a3bf6d8>"
      ]
     },
     "execution_count": 26,
     "metadata": {},
     "output_type": "execute_result"
    },
    {
     "data": {
      "image/png": "[encoded data removed]",
      "text/plain": [
       "<Figure size 432x288 with 2 Axes>"
      ]
     },
     "metadata": {
      "needs_background": "light"
     },
     "output_type": "display_data"
    }
   ],
   "source": [
    "test=gray_imgs[5]\n",
    "test=test.reshape(1,32,32,1)\n",
    "session=tf.Session()\n",
    "result=session.run(tf.argmax(tf.nn.softmax(model.predict(test),-1),-1))\n",
    "result = result.reshape(32,32)\n",
    "result_array=np.zeros((32,32,3),'uint8')\n",
    "cent=np.uint8(km.cluster_centers_)\n",
    "for i in range(32):\n",
    "    for j in range(32):\n",
    "        result_array[i,j,:] = cent[result[i][j]]\n",
    "image.fromarray(result_array)\n",
    "\n",
    "plt.subplot(121)\n",
    "plt.imshow(image.fromarray(result_array))\n",
    "plt.subplot(122)\n",
    "plt.imshow(image.fromarray(pixel_array[5]))"
   ]
  },
  {
   "cell_type": "code",
   "execution_count": 27,
   "metadata": {},
   "outputs": [
    {
     "data": {
      "text/plain": [
       "<matplotlib.image.AxesImage at 0x15a536518>"
      ]
     },
     "execution_count": 27,
     "metadata": {},
     "output_type": "execute_result"
    },
    {
     "data": {
      "image/png": "[encoded data removed]",
      "text/plain": [
       "<Figure size 432x288 with 2 Axes>"
      ]
     },
     "metadata": {
      "needs_background": "light"
     },
     "output_type": "display_data"
    }
   ],
   "source": [
    "test=gray_imgs[6]\n",
    "test=test.reshape(1,32,32,1)\n",
    "session=tf.Session()\n",
    "result=session.run(tf.argmax(tf.nn.softmax(model.predict(test),-1),-1))\n",
    "result = result.reshape(32,32)\n",
    "result_array=np.zeros((32,32,3),'uint8')\n",
    "cent=np.uint8(km.cluster_centers_)\n",
    "for i in range(32):\n",
    "    for j in range(32):\n",
    "        result_array[i,j,:] = cent[result[i][j]]\n",
    "image.fromarray(result_array)\n",
    "\n",
    "plt.subplot(121)\n",
    "plt.imshow(image.fromarray(result_array))\n",
    "plt.subplot(122)\n",
    "plt.imshow(image.fromarray(pixel_array[6]))"
   ]
  },
  {
   "cell_type": "code",
   "execution_count": 28,
   "metadata": {},
   "outputs": [
    {
     "data": {
      "text/plain": [
       "<matplotlib.image.AxesImage at 0x15a6ec358>"
      ]
     },
     "execution_count": 28,
     "metadata": {},
     "output_type": "execute_result"
    },
    {
     "data": {
      "image/png": "[encoded data removed]",
      "text/plain": [
       "<Figure size 432x288 with 2 Axes>"
      ]
     },
     "metadata": {
      "needs_background": "light"
     },
     "output_type": "display_data"
    }
   ],
   "source": [
    "test=gray_imgs[7]\n",
    "test=test.reshape(1,32,32,1)\n",
    "session=tf.Session()\n",
    "result=session.run(tf.argmax(tf.nn.softmax(model.predict(test),-1),-1))\n",
    "result = result.reshape(32,32)\n",
    "result_array=np.zeros((32,32,3),'uint8')\n",
    "cent=np.uint8(km.cluster_centers_)\n",
    "for i in range(32):\n",
    "    for j in range(32):\n",
    "        result_array[i,j,:] = cent[result[i][j]]\n",
    "image.fromarray(result_array)\n",
    "\n",
    "plt.subplot(121)\n",
    "plt.imshow(image.fromarray(result_array))\n",
    "plt.subplot(122)\n",
    "plt.imshow(image.fromarray(pixel_array[7]))"
   ]
  },
  {
   "cell_type": "code",
   "execution_count": 29,
   "metadata": {},
   "outputs": [
    {
     "data": {
      "text/plain": [
       "<matplotlib.image.AxesImage at 0x15a840198>"
      ]
     },
     "execution_count": 29,
     "metadata": {},
     "output_type": "execute_result"
    },
    {
     "data": {
      "image/png": "[encoded data removed]",
      "text/plain": [
       "<Figure size 432x288 with 2 Axes>"
      ]
     },
     "metadata": {
      "needs_background": "light"
     },
     "output_type": "display_data"
    }
   ],
   "source": [
    "test=gray_imgs[8]\n",
    "test=test.reshape(1,32,32,1)\n",
    "session=tf.Session()\n",
    "result=session.run(tf.argmax(tf.nn.softmax(model.predict(test),-1),-1))\n",
    "result = result.reshape(32,32)\n",
    "result_array=np.zeros((32,32,3),'uint8')\n",
    "cent=np.uint8(km.cluster_centers_)\n",
    "for i in range(32):\n",
    "    for j in range(32):\n",
    "        result_array[i,j,:] = cent[result[i][j]]\n",
    "image.fromarray(result_array)\n",
    "\n",
    "plt.subplot(121)\n",
    "plt.imshow(image.fromarray(result_array))\n",
    "plt.subplot(122)\n",
    "plt.imshow(image.fromarray(pixel_array[8]))"
   ]
  },
  {
   "cell_type": "code",
   "execution_count": 30,
   "metadata": {},
   "outputs": [
    {
     "data": {
      "text/plain": [
       "<matplotlib.image.AxesImage at 0x15a9adf98>"
      ]
     },
     "execution_count": 30,
     "metadata": {},
     "output_type": "execute_result"
    },
    {
     "data": {
      "image/png": "[encoded data removed]",
      "text/plain": [
       "<Figure size 432x288 with 2 Axes>"
      ]
     },
     "metadata": {
      "needs_background": "light"
     },
     "output_type": "display_data"
    }
   ],
   "source": [
    "test=gray_imgs[9]\n",
    "test=test.reshape(1,32,32,1)\n",
    "session=tf.Session()\n",
    "result=session.run(tf.argmax(tf.nn.softmax(model.predict(test),-1),-1))\n",
    "result = result.reshape(32,32)\n",
    "result_array=np.zeros((32,32,3),'uint8')\n",
    "cent=np.uint8(km.cluster_centers_)\n",
    "for i in range(32):\n",
    "    for j in range(32):\n",
    "        result_array[i,j,:] = cent[result[i][j]]\n",
    "image.fromarray(result_array)\n",
    "\n",
    "plt.subplot(121)\n",
    "plt.imshow(image.fromarray(result_array))\n",
    "plt.subplot(122)\n",
    "plt.imshow(image.fromarray(pixel_array[9]))"
   ]
  }
 ],
 "metadata": {
  "kernelspec": {
   "display_name": "Python 3",
   "language": "python",
   "name": "python3"
  },
  "language_info": {
   "codemirror_mode": {
    "name": "ipython",
    "version": 3
   },
   "file_extension": ".py",
   "mimetype": "text/x-python",
   "name": "python",
   "nbconvert_exporter": "python",
   "pygments_lexer": "ipython3",
   "version": "3.6.7"
  }
 },
 "nbformat": 4,
 "nbformat_minor": 2
}
