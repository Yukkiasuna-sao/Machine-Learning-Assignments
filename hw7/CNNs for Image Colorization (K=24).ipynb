{
 "cells": [
  {
   "cell_type": "code",
   "execution_count": 1,
   "metadata": {},
   "outputs": [],
   "source": [
    "def unpickle(file):\n",
    "    import pickle\n",
    "    with open(file, 'rb') as fo:\n",
    "        dict = pickle.load(fo, encoding='bytes')\n",
    "    return dict"
   ]
  },
  {
   "cell_type": "code",
   "execution_count": 2,
   "metadata": {},
   "outputs": [],
   "source": [
    "baches_meta = unpickle('cifar-10-batches-py/batches.meta')"
   ]
  },
  {
   "cell_type": "code",
   "execution_count": 3,
   "metadata": {},
   "outputs": [
    {
     "data": {
      "text/plain": [
       "2"
      ]
     },
     "execution_count": 3,
     "metadata": {},
     "output_type": "execute_result"
    }
   ],
   "source": [
    "class_name=baches_meta[b'label_names']\n",
    "dict_class={}\n",
    "j=0\n",
    "for i in class_name:\n",
    "    dict_class[i]=j\n",
    "    j+=1\n",
    "dict_class[b'bird']"
   ]
  },
  {
   "cell_type": "code",
   "execution_count": 4,
   "metadata": {},
   "outputs": [
    {
     "name": "stdout",
     "output_type": "stream",
     "text": [
      "(1000, 3072)\n",
      "test size =  1000\n",
      "(1032, 3072)\n",
      "(1010, 3072)\n",
      "(965, 3072)\n",
      "(1041, 3072)\n",
      "(952, 3072)\n",
      "train size = 5000\n"
     ]
    }
   ],
   "source": [
    "import numpy as np\n",
    "test_batch=unpickle('cifar-10-batches-py/test_batch')\n",
    "test_labels=test_batch[b'labels']\n",
    "test_data=test_batch[b'data']\n",
    "a=np.argwhere(test_labels==np.uint8(dict_class[b'bird']))\n",
    "bird_test_index=np.ndarray.flatten(a)\n",
    "bird_test_data=test_data[bird_test_index]\n",
    "print(bird_test_data.shape)\n",
    "print('test size = ', bird_test_data.shape[0])\n",
    "\n",
    "train_batch1 = unpickle('cifar-10-batches-py/data_batch_1')\n",
    "train_label1 = train_batch1[b'labels']\n",
    "train_data1 = train_batch1[b'data']\n",
    "a=np.argwhere(train_label1==np.uint8(dict_class[b'bird']))\n",
    "bird_train_index1=np.ndarray.flatten(a)\n",
    "bird_train_data1=train_data1[bird_train_index1]\n",
    "print(bird_train_data1.shape)\n",
    "\n",
    "train_batch2 = unpickle('cifar-10-batches-py/data_batch_2')\n",
    "train_label2 = train_batch2[b'labels']\n",
    "train_data2 = train_batch2[b'data']\n",
    "a=np.argwhere(train_label2==np.uint8(dict_class[b'bird']))\n",
    "bird_train_index2=np.ndarray.flatten(a)\n",
    "bird_train_data2=train_data2[bird_train_index2]\n",
    "print(bird_train_data2.shape) \n",
    "\n",
    "train_batch3 = unpickle('cifar-10-batches-py/data_batch_3')\n",
    "train_label3 = train_batch3[b'labels']\n",
    "train_data3 = train_batch3[b'data']\n",
    "a=np.argwhere(train_label3==np.uint8(dict_class[b'bird']))\n",
    "bird_train_index3=np.ndarray.flatten(a)\n",
    "bird_train_data3=train_data3[bird_train_index3]\n",
    "print(bird_train_data3.shape) \n",
    "\n",
    "train_batch4 = unpickle('cifar-10-batches-py/data_batch_4')\n",
    "train_label4 = train_batch4[b'labels']\n",
    "train_data4 = train_batch4[b'data']\n",
    "a=np.argwhere(train_label4==np.uint8(dict_class[b'bird']))\n",
    "bird_train_index4=np.ndarray.flatten(a)\n",
    "bird_train_data4=train_data4[bird_train_index4]\n",
    "print(bird_train_data4.shape) \n",
    "\n",
    "train_batch5 = unpickle('cifar-10-batches-py/data_batch_5')\n",
    "train_label5 = train_batch5[b'labels']\n",
    "train_data5 = train_batch5[b'data']\n",
    "a=np.argwhere(train_label5==np.uint8(dict_class[b'bird']))\n",
    "bird_train_index5=np.ndarray.flatten(a)\n",
    "bird_train_data5=train_data5[bird_train_index5]\n",
    "print(bird_train_data5.shape) \n",
    "print('train size =', bird_train_data1.shape[0]+bird_train_data2.shape[0]+bird_train_data3.shape[0]+bird_train_data4.shape[0]+bird_train_data5.shape[0])"
   ]
  },
  {
   "cell_type": "code",
   "execution_count": 5,
   "metadata": {},
   "outputs": [
    {
     "data": {
      "text/plain": [
       "(6000, 3072)"
      ]
     },
     "execution_count": 5,
     "metadata": {},
     "output_type": "execute_result"
    }
   ],
   "source": [
    "bird_data = np.concatenate((bird_test_data, bird_train_data1, bird_train_data2, bird_train_data3, bird_train_data4, bird_train_data5), axis=0)\n",
    "bird_data.shape"
   ]
  },
  {
   "cell_type": "markdown",
   "metadata": {},
   "source": [
    "The image is stored in row-major order, so that the first 32 entries of the array are the red channel values of the first row of the image."
   ]
  },
  {
   "cell_type": "code",
   "execution_count": 6,
   "metadata": {},
   "outputs": [
    {
     "data": {
      "text/plain": [
       "array([[100,  68, 116, ...,  68,  94, 100],\n",
       "       [ 66,  66,  64, ..., 146, 145, 144],\n",
       "       [201, 187, 146, ...,  28,  21,  11],\n",
       "       ...,\n",
       "       [ 84,  79,  87, ...,  31,  54,  53],\n",
       "       [188, 186, 187, ..., 186, 171, 170],\n",
       "       [145, 151, 156, ...,  56,  53,  54]], dtype=uint8)"
      ]
     },
     "execution_count": 6,
     "metadata": {},
     "output_type": "execute_result"
    }
   ],
   "source": [
    "bird_data"
   ]
  },
  {
   "cell_type": "code",
   "execution_count": 7,
   "metadata": {},
   "outputs": [],
   "source": [
    "pixel_list = []\n",
    "for i in range(6000):\n",
    "    for j in range(1024):\n",
    "        red = bird_data[i][j]\n",
    "        green = bird_data[i][j+1024]\n",
    "        blue = bird_data[i][j+2048]\n",
    "        pixel = np.array([red, green, blue])\n",
    "        pixel_list.append(pixel) "
   ]
  },
  {
   "cell_type": "code",
   "execution_count": 8,
   "metadata": {
    "scrolled": true
   },
   "outputs": [
    {
     "name": "stdout",
     "output_type": "stream",
     "text": [
      "[[100 103  74]\n",
      " [ 68  91  65]\n",
      " [116 162 109]\n",
      " ...\n",
      " [ 39  41  56]\n",
      " [ 36  38  53]\n",
      " [ 37  39  54]]\n",
      "(6144000, 3)\n"
     ]
    }
   ],
   "source": [
    "pixel_array=np.array(pixel_list)\n",
    "print(pixel_array)\n",
    "print(pixel_array.shape)"
   ]
  },
  {
   "cell_type": "code",
   "execution_count": 9,
   "metadata": {},
   "outputs": [],
   "source": [
    "import PIL.Image as image\n",
    "from sklearn.cluster import KMeans\n",
    "km = KMeans(n_clusters=24)\n",
    "label = km.fit_predict(pixel_array)"
   ]
  },
  {
   "cell_type": "code",
   "execution_count": 10,
   "metadata": {},
   "outputs": [
    {
     "data": {
      "text/plain": [
       "array([[ 43.03828575,  43.32698174,  32.40669925],\n",
       "       [155.4030637 , 140.94438611, 110.03847219],\n",
       "       [176.05108351, 207.16120417, 235.81229779],\n",
       "       [104.41065038, 104.80734557,  93.69607424],\n",
       "       [245.44478275, 246.68628529, 245.41406068],\n",
       "       [212.02031055, 194.7707489 , 151.15651139],\n",
       "       [ 77.74041271,  74.53397659,  39.16585218],\n",
       "       [ 88.91085616, 135.99021616, 188.30645693],\n",
       "       [191.04751744, 192.60818431, 190.3870233 ],\n",
       "       [135.08020941, 157.74683982,  80.38429824],\n",
       "       [121.2179202 , 125.13469862, 120.45990386],\n",
       "       [121.00220085,  89.71003003,  56.17199437],\n",
       "       [ 57.7523337 ,  97.65769134, 137.3592767 ],\n",
       "       [178.6682179 , 168.24601002, 124.17935839],\n",
       "       [ 83.70997837,  85.04743626,  73.56632085],\n",
       "       [144.79140753, 148.45728011, 145.12758896],\n",
       "       [ 57.52015504,  62.38348504,  59.04674193],\n",
       "       [195.53553702, 158.96971404,  71.17654099],\n",
       "       [ 16.62166898,  17.32929663,  14.27788998],\n",
       "       [136.96424281, 119.57483087,  84.04721259],\n",
       "       [101.63628454, 123.76157133,  54.15586432],\n",
       "       [221.95640885, 219.496634  , 211.2534935 ],\n",
       "       [132.40770346, 171.04532848, 213.06855783],\n",
       "       [170.56746685, 170.63251076, 164.06094534]])"
      ]
     },
     "execution_count": 10,
     "metadata": {},
     "output_type": "execute_result"
    }
   ],
   "source": [
    "km.cluster_centers_"
   ]
  },
  {
   "cell_type": "code",
   "execution_count": 11,
   "metadata": {},
   "outputs": [
    {
     "data": {
      "text/plain": [
       "dtype('uint8')"
      ]
     },
     "execution_count": 11,
     "metadata": {},
     "output_type": "execute_result"
    }
   ],
   "source": [
    "pixel_array.dtype\n",
    "# out = np.zeros((4,), dtype=np.ndarray)"
   ]
  },
  {
   "cell_type": "code",
   "execution_count": 12,
   "metadata": {},
   "outputs": [
    {
     "data": {
      "text/plain": [
       "array([[0, 0, 0, ..., 0, 0, 0],\n",
       "       [0, 0, 0, ..., 0, 0, 0],\n",
       "       [0, 0, 0, ..., 0, 0, 0],\n",
       "       ...,\n",
       "       [1, 0, 0, ..., 0, 0, 0],\n",
       "       [1, 0, 0, ..., 0, 0, 0],\n",
       "       [1, 0, 0, ..., 0, 0, 0]])"
      ]
     },
     "execution_count": 12,
     "metadata": {},
     "output_type": "execute_result"
    }
   ],
   "source": [
    "label_list = []\n",
    "for x in label:\n",
    "        out = np.zeros((24,), dtype=int)\n",
    "        out[x] += 1\n",
    "        label_list.append(out)\n",
    "label_array = np.array(label_list)\n",
    "label_array"
   ]
  },
  {
   "cell_type": "code",
   "execution_count": 13,
   "metadata": {},
   "outputs": [],
   "source": [
    "label_array=label_array.reshape(6000, 32, 32, 24)"
   ]
  },
  {
   "cell_type": "code",
   "execution_count": 14,
   "metadata": {},
   "outputs": [
    {
     "data": {
      "text/plain": [
       "array([[[[0, 0, 0, ..., 0, 0, 0],\n",
       "         [0, 0, 0, ..., 0, 0, 0],\n",
       "         [0, 0, 0, ..., 0, 0, 0],\n",
       "         ...,\n",
       "         [0, 0, 0, ..., 0, 0, 0],\n",
       "         [0, 0, 0, ..., 0, 0, 0],\n",
       "         [0, 0, 0, ..., 0, 0, 0]],\n",
       "\n",
       "        [[0, 0, 0, ..., 0, 0, 0],\n",
       "         [0, 0, 0, ..., 0, 0, 0],\n",
       "         [0, 0, 0, ..., 0, 0, 0],\n",
       "         ...,\n",
       "         [0, 0, 0, ..., 0, 0, 0],\n",
       "         [0, 0, 0, ..., 0, 0, 0],\n",
       "         [0, 0, 0, ..., 0, 0, 0]],\n",
       "\n",
       "        [[0, 0, 0, ..., 0, 0, 0],\n",
       "         [0, 0, 0, ..., 0, 0, 0],\n",
       "         [0, 0, 0, ..., 0, 0, 0],\n",
       "         ...,\n",
       "         [0, 0, 0, ..., 0, 0, 0],\n",
       "         [0, 0, 0, ..., 0, 0, 0],\n",
       "         [0, 0, 0, ..., 0, 0, 0]],\n",
       "\n",
       "        ...,\n",
       "\n",
       "        [[0, 0, 0, ..., 0, 0, 0],\n",
       "         [0, 0, 0, ..., 0, 0, 0],\n",
       "         [0, 0, 0, ..., 0, 0, 0],\n",
       "         ...,\n",
       "         [0, 0, 0, ..., 0, 0, 0],\n",
       "         [0, 0, 0, ..., 0, 0, 0],\n",
       "         [0, 0, 0, ..., 0, 0, 1]],\n",
       "\n",
       "        [[0, 0, 0, ..., 0, 0, 0],\n",
       "         [0, 0, 0, ..., 0, 0, 0],\n",
       "         [0, 0, 0, ..., 0, 0, 0],\n",
       "         ...,\n",
       "         [0, 1, 0, ..., 0, 0, 0],\n",
       "         [0, 0, 0, ..., 0, 0, 0],\n",
       "         [0, 0, 0, ..., 0, 0, 0]],\n",
       "\n",
       "        [[0, 0, 0, ..., 0, 0, 0],\n",
       "         [0, 0, 0, ..., 0, 0, 0],\n",
       "         [0, 0, 0, ..., 0, 0, 0],\n",
       "         ...,\n",
       "         [0, 0, 0, ..., 0, 0, 0],\n",
       "         [0, 0, 0, ..., 0, 0, 0],\n",
       "         [0, 1, 0, ..., 0, 0, 0]]],\n",
       "\n",
       "\n",
       "       [[[0, 0, 0, ..., 0, 0, 0],\n",
       "         [0, 0, 0, ..., 0, 0, 0],\n",
       "         [0, 0, 0, ..., 0, 0, 0],\n",
       "         ...,\n",
       "         [0, 0, 0, ..., 0, 0, 0],\n",
       "         [0, 0, 0, ..., 0, 0, 0],\n",
       "         [0, 0, 0, ..., 0, 0, 0]],\n",
       "\n",
       "        [[0, 0, 0, ..., 0, 0, 0],\n",
       "         [0, 0, 0, ..., 0, 0, 0],\n",
       "         [0, 0, 0, ..., 0, 0, 0],\n",
       "         ...,\n",
       "         [0, 0, 0, ..., 0, 0, 0],\n",
       "         [0, 0, 0, ..., 0, 0, 0],\n",
       "         [0, 0, 0, ..., 0, 0, 0]],\n",
       "\n",
       "        [[0, 0, 0, ..., 0, 0, 0],\n",
       "         [0, 0, 0, ..., 0, 0, 0],\n",
       "         [0, 0, 0, ..., 0, 0, 0],\n",
       "         ...,\n",
       "         [0, 0, 0, ..., 0, 0, 0],\n",
       "         [0, 0, 0, ..., 0, 0, 0],\n",
       "         [0, 0, 0, ..., 0, 0, 0]],\n",
       "\n",
       "        ...,\n",
       "\n",
       "        [[0, 0, 0, ..., 0, 0, 0],\n",
       "         [0, 0, 0, ..., 0, 0, 0],\n",
       "         [0, 0, 0, ..., 0, 0, 0],\n",
       "         ...,\n",
       "         [0, 0, 0, ..., 0, 0, 0],\n",
       "         [0, 0, 0, ..., 0, 0, 0],\n",
       "         [0, 0, 0, ..., 0, 0, 0]],\n",
       "\n",
       "        [[0, 0, 0, ..., 0, 0, 0],\n",
       "         [0, 1, 0, ..., 0, 0, 0],\n",
       "         [0, 0, 0, ..., 0, 0, 0],\n",
       "         ...,\n",
       "         [0, 0, 0, ..., 0, 0, 0],\n",
       "         [0, 0, 0, ..., 0, 0, 0],\n",
       "         [0, 0, 0, ..., 0, 0, 0]],\n",
       "\n",
       "        [[0, 0, 0, ..., 0, 0, 0],\n",
       "         [0, 1, 0, ..., 0, 0, 0],\n",
       "         [0, 0, 0, ..., 0, 0, 0],\n",
       "         ...,\n",
       "         [0, 0, 0, ..., 0, 0, 0],\n",
       "         [0, 0, 0, ..., 0, 0, 0],\n",
       "         [0, 0, 0, ..., 0, 0, 0]]],\n",
       "\n",
       "\n",
       "       [[[0, 0, 0, ..., 0, 0, 0],\n",
       "         [0, 0, 0, ..., 0, 0, 0],\n",
       "         [0, 0, 0, ..., 0, 0, 0],\n",
       "         ...,\n",
       "         [0, 0, 0, ..., 0, 0, 0],\n",
       "         [0, 0, 0, ..., 0, 0, 0],\n",
       "         [1, 0, 0, ..., 0, 0, 0]],\n",
       "\n",
       "        [[0, 0, 0, ..., 0, 0, 0],\n",
       "         [0, 0, 0, ..., 0, 0, 0],\n",
       "         [0, 0, 0, ..., 0, 0, 0],\n",
       "         ...,\n",
       "         [0, 0, 0, ..., 0, 0, 0],\n",
       "         [0, 0, 0, ..., 0, 0, 0],\n",
       "         [1, 0, 0, ..., 0, 0, 0]],\n",
       "\n",
       "        [[0, 0, 0, ..., 0, 0, 0],\n",
       "         [0, 1, 0, ..., 0, 0, 0],\n",
       "         [0, 0, 0, ..., 0, 0, 0],\n",
       "         ...,\n",
       "         [0, 0, 0, ..., 0, 0, 0],\n",
       "         [0, 0, 0, ..., 0, 0, 0],\n",
       "         [0, 0, 0, ..., 0, 0, 0]],\n",
       "\n",
       "        ...,\n",
       "\n",
       "        [[0, 0, 0, ..., 0, 0, 0],\n",
       "         [0, 0, 0, ..., 0, 0, 0],\n",
       "         [0, 0, 0, ..., 0, 0, 0],\n",
       "         ...,\n",
       "         [1, 0, 0, ..., 0, 0, 0],\n",
       "         [1, 0, 0, ..., 0, 0, 0],\n",
       "         [0, 0, 0, ..., 0, 0, 0]],\n",
       "\n",
       "        [[0, 0, 0, ..., 0, 0, 0],\n",
       "         [0, 0, 0, ..., 0, 0, 0],\n",
       "         [0, 0, 0, ..., 0, 0, 0],\n",
       "         ...,\n",
       "         [0, 0, 0, ..., 0, 0, 0],\n",
       "         [1, 0, 0, ..., 0, 0, 0],\n",
       "         [0, 0, 0, ..., 0, 0, 0]],\n",
       "\n",
       "        [[0, 0, 0, ..., 0, 0, 0],\n",
       "         [0, 0, 0, ..., 0, 0, 0],\n",
       "         [0, 0, 0, ..., 0, 0, 0],\n",
       "         ...,\n",
       "         [1, 0, 0, ..., 0, 0, 0],\n",
       "         [0, 0, 0, ..., 0, 0, 0],\n",
       "         [0, 0, 0, ..., 0, 0, 0]]],\n",
       "\n",
       "\n",
       "       ...,\n",
       "\n",
       "\n",
       "       [[[0, 0, 0, ..., 0, 0, 0],\n",
       "         [0, 0, 0, ..., 0, 0, 0],\n",
       "         [0, 0, 0, ..., 0, 0, 0],\n",
       "         ...,\n",
       "         [0, 0, 0, ..., 0, 0, 0],\n",
       "         [0, 0, 0, ..., 0, 0, 0],\n",
       "         [0, 0, 0, ..., 0, 0, 0]],\n",
       "\n",
       "        [[0, 0, 0, ..., 0, 0, 0],\n",
       "         [0, 0, 0, ..., 0, 0, 0],\n",
       "         [0, 0, 0, ..., 0, 0, 0],\n",
       "         ...,\n",
       "         [0, 0, 0, ..., 0, 0, 0],\n",
       "         [0, 0, 0, ..., 0, 0, 0],\n",
       "         [0, 0, 0, ..., 0, 0, 0]],\n",
       "\n",
       "        [[0, 0, 0, ..., 0, 0, 0],\n",
       "         [0, 0, 0, ..., 0, 0, 0],\n",
       "         [0, 0, 0, ..., 0, 0, 0],\n",
       "         ...,\n",
       "         [0, 0, 0, ..., 0, 0, 0],\n",
       "         [0, 0, 0, ..., 0, 0, 0],\n",
       "         [0, 0, 0, ..., 0, 0, 0]],\n",
       "\n",
       "        ...,\n",
       "\n",
       "        [[0, 0, 0, ..., 0, 0, 0],\n",
       "         [0, 0, 0, ..., 0, 0, 0],\n",
       "         [0, 0, 0, ..., 0, 0, 0],\n",
       "         ...,\n",
       "         [0, 0, 0, ..., 0, 0, 0],\n",
       "         [0, 0, 0, ..., 0, 0, 0],\n",
       "         [0, 0, 0, ..., 0, 0, 0]],\n",
       "\n",
       "        [[0, 0, 0, ..., 0, 0, 0],\n",
       "         [0, 0, 0, ..., 0, 0, 0],\n",
       "         [0, 0, 0, ..., 0, 0, 0],\n",
       "         ...,\n",
       "         [0, 0, 0, ..., 0, 0, 0],\n",
       "         [0, 0, 0, ..., 0, 0, 0],\n",
       "         [0, 0, 0, ..., 0, 0, 0]],\n",
       "\n",
       "        [[0, 0, 0, ..., 0, 0, 0],\n",
       "         [0, 0, 0, ..., 0, 0, 0],\n",
       "         [0, 0, 0, ..., 0, 0, 0],\n",
       "         ...,\n",
       "         [1, 0, 0, ..., 0, 0, 0],\n",
       "         [0, 0, 0, ..., 0, 0, 0],\n",
       "         [0, 0, 0, ..., 0, 0, 0]]],\n",
       "\n",
       "\n",
       "       [[[0, 0, 0, ..., 0, 0, 0],\n",
       "         [0, 0, 0, ..., 0, 0, 0],\n",
       "         [0, 0, 0, ..., 0, 0, 0],\n",
       "         ...,\n",
       "         [0, 0, 0, ..., 0, 0, 0],\n",
       "         [0, 0, 0, ..., 0, 0, 0],\n",
       "         [0, 0, 0, ..., 0, 0, 0]],\n",
       "\n",
       "        [[0, 0, 0, ..., 0, 0, 0],\n",
       "         [0, 0, 0, ..., 0, 0, 0],\n",
       "         [0, 0, 0, ..., 0, 0, 0],\n",
       "         ...,\n",
       "         [0, 0, 0, ..., 0, 0, 0],\n",
       "         [0, 0, 0, ..., 0, 0, 0],\n",
       "         [0, 0, 0, ..., 0, 0, 0]],\n",
       "\n",
       "        [[0, 0, 0, ..., 0, 0, 0],\n",
       "         [0, 0, 0, ..., 0, 0, 0],\n",
       "         [0, 0, 0, ..., 0, 0, 0],\n",
       "         ...,\n",
       "         [0, 0, 0, ..., 0, 0, 0],\n",
       "         [0, 0, 0, ..., 0, 0, 0],\n",
       "         [0, 0, 0, ..., 0, 0, 0]],\n",
       "\n",
       "        ...,\n",
       "\n",
       "        [[0, 0, 0, ..., 0, 0, 0],\n",
       "         [0, 0, 0, ..., 0, 0, 0],\n",
       "         [0, 0, 0, ..., 0, 0, 0],\n",
       "         ...,\n",
       "         [0, 0, 0, ..., 0, 0, 0],\n",
       "         [0, 0, 0, ..., 0, 0, 0],\n",
       "         [0, 0, 0, ..., 0, 0, 0]],\n",
       "\n",
       "        [[0, 0, 0, ..., 0, 0, 0],\n",
       "         [0, 0, 0, ..., 0, 0, 0],\n",
       "         [0, 0, 0, ..., 0, 0, 0],\n",
       "         ...,\n",
       "         [0, 0, 0, ..., 0, 0, 0],\n",
       "         [0, 0, 0, ..., 0, 0, 0],\n",
       "         [0, 0, 0, ..., 0, 0, 0]],\n",
       "\n",
       "        [[0, 0, 0, ..., 0, 0, 0],\n",
       "         [0, 0, 0, ..., 0, 0, 0],\n",
       "         [0, 0, 0, ..., 0, 0, 0],\n",
       "         ...,\n",
       "         [0, 0, 0, ..., 0, 0, 0],\n",
       "         [0, 0, 0, ..., 0, 0, 1],\n",
       "         [0, 0, 0, ..., 0, 0, 1]]],\n",
       "\n",
       "\n",
       "       [[[0, 0, 0, ..., 0, 1, 0],\n",
       "         [0, 0, 0, ..., 0, 1, 0],\n",
       "         [0, 0, 0, ..., 0, 1, 0],\n",
       "         ...,\n",
       "         [0, 0, 0, ..., 0, 1, 0],\n",
       "         [0, 0, 0, ..., 0, 1, 0],\n",
       "         [0, 0, 0, ..., 0, 1, 0]],\n",
       "\n",
       "        [[0, 0, 0, ..., 0, 1, 0],\n",
       "         [0, 0, 0, ..., 0, 1, 0],\n",
       "         [0, 0, 0, ..., 0, 1, 0],\n",
       "         ...,\n",
       "         [0, 0, 0, ..., 0, 1, 0],\n",
       "         [0, 0, 0, ..., 0, 1, 0],\n",
       "         [0, 0, 0, ..., 0, 0, 0]],\n",
       "\n",
       "        [[0, 0, 0, ..., 0, 1, 0],\n",
       "         [0, 0, 0, ..., 0, 1, 0],\n",
       "         [0, 0, 0, ..., 0, 1, 0],\n",
       "         ...,\n",
       "         [0, 0, 0, ..., 0, 1, 0],\n",
       "         [0, 0, 0, ..., 0, 1, 0],\n",
       "         [0, 0, 0, ..., 0, 1, 0]],\n",
       "\n",
       "        ...,\n",
       "\n",
       "        [[0, 0, 0, ..., 0, 0, 0],\n",
       "         [0, 0, 0, ..., 0, 0, 0],\n",
       "         [0, 0, 0, ..., 0, 0, 0],\n",
       "         ...,\n",
       "         [0, 0, 0, ..., 0, 0, 0],\n",
       "         [0, 0, 0, ..., 0, 0, 0],\n",
       "         [0, 0, 0, ..., 0, 0, 0]],\n",
       "\n",
       "        [[0, 0, 0, ..., 0, 0, 0],\n",
       "         [0, 0, 0, ..., 0, 0, 0],\n",
       "         [0, 0, 0, ..., 0, 0, 0],\n",
       "         ...,\n",
       "         [1, 0, 0, ..., 0, 0, 0],\n",
       "         [0, 0, 0, ..., 0, 0, 0],\n",
       "         [0, 0, 0, ..., 0, 0, 0]],\n",
       "\n",
       "        [[0, 0, 0, ..., 0, 0, 0],\n",
       "         [0, 0, 0, ..., 0, 0, 0],\n",
       "         [0, 0, 0, ..., 0, 0, 0],\n",
       "         ...,\n",
       "         [1, 0, 0, ..., 0, 0, 0],\n",
       "         [1, 0, 0, ..., 0, 0, 0],\n",
       "         [1, 0, 0, ..., 0, 0, 0]]]])"
      ]
     },
     "execution_count": 14,
     "metadata": {},
     "output_type": "execute_result"
    }
   ],
   "source": [
    "label_array # output"
   ]
  },
  {
   "cell_type": "code",
   "execution_count": 15,
   "metadata": {},
   "outputs": [
    {
     "data": {
      "image/png": "[encoded data removed]",
      "text/plain": [
       "<PIL.Image.Image image mode=RGB size=32x32 at 0x14751F780>"
      ]
     },
     "execution_count": 15,
     "metadata": {},
     "output_type": "execute_result"
    }
   ],
   "source": [
    "pixel_array=pixel_array.reshape(6000,32,32,3)\n",
    "org_img = image.fromarray(pixel_array[0])\n",
    "org_img"
   ]
  },
  {
   "cell_type": "code",
   "execution_count": 17,
   "metadata": {},
   "outputs": [],
   "source": [
    "a = map(lambda x: image.fromarray(x), pixel_array)\n",
    "gray_imgs = map(lambda x: x.convert(mode='L'), a)"
   ]
  },
  {
   "cell_type": "code",
   "execution_count": 18,
   "metadata": {},
   "outputs": [],
   "source": [
    "gray_imgs = list(gray_imgs)\n",
    "gray_imgs = np.array(list(map(lambda x: np.array(x), gray_imgs)))"
   ]
  },
  {
   "cell_type": "code",
   "execution_count": 19,
   "metadata": {
    "scrolled": true
   },
   "outputs": [
    {
     "data": {
      "text/plain": [
       "(6000, 32, 32)"
      ]
     },
     "execution_count": 19,
     "metadata": {},
     "output_type": "execute_result"
    }
   ],
   "source": [
    "gray_imgs.shape"
   ]
  },
  {
   "cell_type": "code",
   "execution_count": 20,
   "metadata": {},
   "outputs": [],
   "source": [
    "gray_imgs = gray_imgs.reshape(6000, 32, 32, 1)\n",
    "import tensorflow as tf\n",
    "def ce(y_true, y_pred):\n",
    "        return tf.nn.softmax_cross_entropy_with_logits(labels=y_true,logits=y_pred,dim=3)"
   ]
  },
  {
   "cell_type": "code",
   "execution_count": 21,
   "metadata": {
    "scrolled": true
   },
   "outputs": [
    {
     "name": "stderr",
     "output_type": "stream",
     "text": [
      "Using TensorFlow backend.\n"
     ]
    },
    {
     "name": "stdout",
     "output_type": "stream",
     "text": [
      "WARNING:tensorflow:From <ipython-input-20-b31499b2da01>:4: softmax_cross_entropy_with_logits (from tensorflow.python.ops.nn_ops) is deprecated and will be removed in a future version.\n",
      "Instructions for updating:\n",
      "\n",
      "Future major versions of TensorFlow will allow gradients to flow\n",
      "into the labels input on backprop by default.\n",
      "\n",
      "See `tf.nn.softmax_cross_entropy_with_logits_v2`.\n",
      "\n",
      "Train on 6000 samples, validate on 1000 samples\n",
      "Epoch 1/30\n",
      "6000/6000 [==============================] - 63s 10ms/step - loss: 79.1456 - acc: 0.0498 - val_loss: 58.8347 - val_acc: 0.0575\n",
      "Epoch 2/30\n",
      "6000/6000 [==============================] - 59s 10ms/step - loss: 22.8092 - acc: 0.0653 - val_loss: 5.3634 - val_acc: 0.0765\n",
      "Epoch 3/30\n",
      "6000/6000 [==============================] - 54s 9ms/step - loss: 3.8776 - acc: 0.0844 - val_loss: 3.1510 - val_acc: 0.1001\n",
      "Epoch 4/30\n",
      "6000/6000 [==============================] - 55s 9ms/step - loss: 3.0510 - acc: 0.1068 - val_loss: 2.8984 - val_acc: 0.1365\n",
      "Epoch 5/30\n",
      "6000/6000 [==============================] - 54s 9ms/step - loss: 2.8440 - acc: 0.1463 - val_loss: 2.6866 - val_acc: 0.1890\n",
      "Epoch 6/30\n",
      "6000/6000 [==============================] - 58s 10ms/step - loss: 2.6391 - acc: 0.1987 - val_loss: 2.4627 - val_acc: 0.2546\n",
      "Epoch 7/30\n",
      "6000/6000 [==============================] - 54s 9ms/step - loss: 2.4408 - acc: 0.2547 - val_loss: 2.2639 - val_acc: 0.3174\n",
      "Epoch 8/30\n",
      "6000/6000 [==============================] - 53s 9ms/step - loss: 2.2484 - acc: 0.3127 - val_loss: 2.0722 - val_acc: 0.3790\n",
      "Epoch 9/30\n",
      "6000/6000 [==============================] - 59s 10ms/step - loss: 2.0696 - acc: 0.3676 - val_loss: 1.9018 - val_acc: 0.4343\n",
      "Epoch 10/30\n",
      "6000/6000 [==============================] - 54s 9ms/step - loss: 1.9119 - acc: 0.4176 - val_loss: 1.7556 - val_acc: 0.4808\n",
      "Epoch 11/30\n",
      "6000/6000 [==============================] - 57s 9ms/step - loss: 1.7680 - acc: 0.4639 - val_loss: 1.6125 - val_acc: 0.5241\n",
      "Epoch 12/30\n",
      "6000/6000 [==============================] - 55s 9ms/step - loss: 1.6385 - acc: 0.5051 - val_loss: 1.4936 - val_acc: 0.5626\n",
      "Epoch 13/30\n",
      "6000/6000 [==============================] - 58s 10ms/step - loss: 1.5248 - acc: 0.5428 - val_loss: 1.3867 - val_acc: 0.5993\n",
      "Epoch 14/30\n",
      "6000/6000 [==============================] - 53s 9ms/step - loss: 1.4258 - acc: 0.5759 - val_loss: 1.3063 - val_acc: 0.6250\n",
      "Epoch 15/30\n",
      "6000/6000 [==============================] - 60s 10ms/step - loss: 1.3405 - acc: 0.6042 - val_loss: 1.2248 - val_acc: 0.6521\n",
      "Epoch 16/30\n",
      "6000/6000 [==============================] - 56s 9ms/step - loss: 1.2618 - acc: 0.6303 - val_loss: 1.1508 - val_acc: 0.6762\n",
      "Epoch 17/30\n",
      "6000/6000 [==============================] - 56s 9ms/step - loss: 1.1925 - acc: 0.6541 - val_loss: 1.0913 - val_acc: 0.6967\n",
      "Epoch 18/30\n",
      "6000/6000 [==============================] - 55s 9ms/step - loss: 1.1274 - acc: 0.6761 - val_loss: 1.0274 - val_acc: 0.7166\n",
      "Epoch 19/30\n",
      "6000/6000 [==============================] - 53s 9ms/step - loss: 1.0665 - acc: 0.6965 - val_loss: 0.9737 - val_acc: 0.7338\n",
      "Epoch 20/30\n",
      "6000/6000 [==============================] - 57s 9ms/step - loss: 1.0145 - acc: 0.7138 - val_loss: 0.9232 - val_acc: 0.7506\n",
      "Epoch 21/30\n",
      "6000/6000 [==============================] - 56s 9ms/step - loss: 0.9691 - acc: 0.7290 - val_loss: 0.8874 - val_acc: 0.7637\n",
      "Epoch 22/30\n",
      "6000/6000 [==============================] - 57s 10ms/step - loss: 0.9199 - acc: 0.7453 - val_loss: 0.8459 - val_acc: 0.7768\n",
      "Epoch 23/30\n",
      "6000/6000 [==============================] - 52s 9ms/step - loss: 0.8793 - acc: 0.7588 - val_loss: 0.8086 - val_acc: 0.7896\n",
      "Epoch 24/30\n",
      "6000/6000 [==============================] - 61s 10ms/step - loss: 0.8395 - acc: 0.7717 - val_loss: 0.7688 - val_acc: 0.8015\n",
      "Epoch 25/30\n",
      "6000/6000 [==============================] - 53s 9ms/step - loss: 0.8012 - acc: 0.7850 - val_loss: 0.7347 - val_acc: 0.8115\n",
      "Epoch 26/30\n",
      "6000/6000 [==============================] - 60s 10ms/step - loss: 0.7672 - acc: 0.7966 - val_loss: 0.7003 - val_acc: 0.8210\n",
      "Epoch 27/30\n",
      "6000/6000 [==============================] - 65s 11ms/step - loss: 0.7329 - acc: 0.8075 - val_loss: 0.6699 - val_acc: 0.8316\n",
      "Epoch 28/30\n",
      "6000/6000 [==============================] - 57s 9ms/step - loss: 0.7028 - acc: 0.8173 - val_loss: 0.6413 - val_acc: 0.8406\n",
      "Epoch 29/30\n",
      "6000/6000 [==============================] - 64s 11ms/step - loss: 0.6728 - acc: 0.8271 - val_loss: 0.6151 - val_acc: 0.8482\n",
      "Epoch 30/30\n",
      "6000/6000 [==============================] - 94s 16ms/step - loss: 0.6455 - acc: 0.8358 - val_loss: 0.5910 - val_acc: 0.8554\n"
     ]
    },
    {
     "data": {
      "text/plain": [
       "<keras.callbacks.History at 0x15a19ebe0>"
      ]
     },
     "execution_count": 21,
     "metadata": {},
     "output_type": "execute_result"
    }
   ],
   "source": [
    "from keras.models import Sequential\n",
    "from keras.layers import Dense, Conv2D, Flatten, MaxPool2D, Reshape\n",
    "from keras.callbacks import ModelCheckpoint\n",
    "# create model\n",
    "model = Sequential()\n",
    "# add model layers\n",
    "model.add(Conv2D(20, kernel_size=5, activation='relu', input_shape=(32, 32, 1),padding='same'))\n",
    "model.add(MaxPool2D(pool_size=2, strides=2))\n",
    "# model.add(Conv2D(32, kernel_size=5, activation='relu',padding='same'))\n",
    "# model.add(MaxPool2D(pool_size=2, strides=2))\n",
    "model.add(Flatten())\n",
    "model.add(Dense(24576))\n",
    "model.add(Reshape((32, 32, 24)))\n",
    "# compile model using accuracy to measure model performance\n",
    "model.compile(optimizer='adam', loss=ce, metrics=['accuracy'])\n",
    "# train the model\n",
    "model.fit(gray_imgs, label_array, epochs=30, validation_data=(gray_imgs[0:1000], label_array[0:1000]), batch_size=500)"
   ]
  },
  {
   "cell_type": "code",
   "execution_count": 34,
   "metadata": {},
   "outputs": [
    {
     "name": "stdout",
     "output_type": "stream",
     "text": [
      "6000/6000 [==============================] - 17s 3ms/step\n",
      "training loss(error) = 0.6000187993049622\n",
      "training accuracy = 0.8532037685314814\n"
     ]
    }
   ],
   "source": [
    "train_score = model.evaluate(gray_imgs, label_array, batch_size=500)\n",
    "print('training loss(error) =', train_score[0])\n",
    "print('training accuracy =', train_score[1])"
   ]
  },
  {
   "cell_type": "code",
   "execution_count": 35,
   "metadata": {},
   "outputs": [
    {
     "name": "stdout",
     "output_type": "stream",
     "text": [
      "1000/1000 [==============================] - 2s 2ms/step\n",
      "training loss(error) = 0.5910458564758301\n",
      "training accuracy = 0.8553622961044312\n"
     ]
    }
   ],
   "source": [
    "test_score = model.evaluate(gray_imgs[0:1000], label_array[0:1000], batch_size=500)\n",
    "print('training loss(error) =', test_score[0])\n",
    "print('training accuracy =', test_score[1])"
   ]
  },
  {
   "cell_type": "code",
   "execution_count": 32,
   "metadata": {},
   "outputs": [
    {
     "data": {
      "text/plain": [
       "<matplotlib.image.AxesImage at 0x245ef6978>"
      ]
     },
     "execution_count": 32,
     "metadata": {},
     "output_type": "execute_result"
    },
    {
     "data": {
      "image/png": "[encoded data removed]",
      "text/plain": [
       "<Figure size 432x288 with 2 Axes>"
      ]
     },
     "metadata": {
      "needs_background": "light"
     },
     "output_type": "display_data"
    }
   ],
   "source": [
    "test=gray_imgs[0]\n",
    "test=test.reshape(1,32,32,1)\n",
    "\n",
    "session=tf.Session()\n",
    "result=session.run(tf.argmax(tf.nn.softmax(model.predict(test),-1),-1))\n",
    "result = result.reshape(32,32)\n",
    "result_array=np.zeros((32,32,3),'uint8')\n",
    "cent=np.uint8(km.cluster_centers_)\n",
    "for i in range(32):\n",
    "    for j in range(32):\n",
    "        result_array[i,j,:] = cent[result[i][j]]\n",
    "image.fromarray(result_array)\n",
    "import matplotlib.pyplot as plt\n",
    "plt.subplot(121)\n",
    "plt.imshow(image.fromarray(result_array))\n",
    "plt.subplot(122)\n",
    "plt.imshow(image.fromarray(pixel_array[0]))"
   ]
  },
  {
   "cell_type": "code",
   "execution_count": 23,
   "metadata": {},
   "outputs": [
    {
     "data": {
      "text/plain": [
       "<matplotlib.image.AxesImage at 0x1531496d8>"
      ]
     },
     "execution_count": 23,
     "metadata": {},
     "output_type": "execute_result"
    },
    {
     "data": {
      "image/png": "[encoded data removed]",
      "text/plain": [
       "<Figure size 432x288 with 2 Axes>"
      ]
     },
     "metadata": {
      "needs_background": "light"
     },
     "output_type": "display_data"
    }
   ],
   "source": [
    "test=gray_imgs[1]\n",
    "test=test.reshape(1,32,32,1)\n",
    "session=tf.Session()\n",
    "result=session.run(tf.argmax(tf.nn.softmax(model.predict(test),-1),-1))\n",
    "result = result.reshape(32,32)\n",
    "result_array=np.zeros((32,32,3),'uint8')\n",
    "cent=np.uint8(km.cluster_centers_)\n",
    "for i in range(32):\n",
    "    for j in range(32):\n",
    "        result_array[i,j,:] = cent[result[i][j]]\n",
    "image.fromarray(result_array)\n",
    "\n",
    "plt.subplot(121)\n",
    "plt.imshow(image.fromarray(result_array))\n",
    "plt.subplot(122)\n",
    "plt.imshow(image.fromarray(pixel_array[1]))"
   ]
  },
  {
   "cell_type": "code",
   "execution_count": 24,
   "metadata": {},
   "outputs": [
    {
     "data": {
      "text/plain": [
       "<matplotlib.image.AxesImage at 0x153182ac8>"
      ]
     },
     "execution_count": 24,
     "metadata": {},
     "output_type": "execute_result"
    },
    {
     "data": {
      "image/png": "[encoded data removed]",
      "text/plain": [
       "<Figure size 432x288 with 2 Axes>"
      ]
     },
     "metadata": {
      "needs_background": "light"
     },
     "output_type": "display_data"
    }
   ],
   "source": [
    "test=gray_imgs[2]\n",
    "test=test.reshape(1,32,32,1)\n",
    "session=tf.Session()\n",
    "result=session.run(tf.argmax(tf.nn.softmax(model.predict(test),-1),-1))\n",
    "result = result.reshape(32,32)\n",
    "result_array=np.zeros((32,32,3),'uint8')\n",
    "cent=np.uint8(km.cluster_centers_)\n",
    "for i in range(32):\n",
    "    for j in range(32):\n",
    "        result_array[i,j,:] = cent[result[i][j]]\n",
    "image.fromarray(result_array)\n",
    "\n",
    "plt.subplot(121)\n",
    "plt.imshow(image.fromarray(result_array))\n",
    "plt.subplot(122)\n",
    "plt.imshow(image.fromarray(pixel_array[2]))"
   ]
  },
  {
   "cell_type": "code",
   "execution_count": 25,
   "metadata": {},
   "outputs": [
    {
     "data": {
      "text/plain": [
       "<matplotlib.image.AxesImage at 0x1608ecf28>"
      ]
     },
     "execution_count": 25,
     "metadata": {},
     "output_type": "execute_result"
    },
    {
     "data": {
      "image/png": "[encoded data removed]",
      "text/plain": [
       "<Figure size 432x288 with 2 Axes>"
      ]
     },
     "metadata": {
      "needs_background": "light"
     },
     "output_type": "display_data"
    }
   ],
   "source": [
    "test=gray_imgs[3]\n",
    "test=test.reshape(1,32,32,1)\n",
    "session=tf.Session()\n",
    "result=session.run(tf.argmax(tf.nn.softmax(model.predict(test),-1),-1))\n",
    "result = result.reshape(32,32)\n",
    "result_array=np.zeros((32,32,3),'uint8')\n",
    "cent=np.uint8(km.cluster_centers_)\n",
    "for i in range(32):\n",
    "    for j in range(32):\n",
    "        result_array[i,j,:] = cent[result[i][j]]\n",
    "image.fromarray(result_array)\n",
    "\n",
    "plt.subplot(121)\n",
    "plt.imshow(image.fromarray(result_array))\n",
    "plt.subplot(122)\n",
    "plt.imshow(image.fromarray(pixel_array[3]))"
   ]
  },
  {
   "cell_type": "code",
   "execution_count": 26,
   "metadata": {},
   "outputs": [
    {
     "data": {
      "text/plain": [
       "<matplotlib.image.AxesImage at 0x160a21518>"
      ]
     },
     "execution_count": 26,
     "metadata": {},
     "output_type": "execute_result"
    },
    {
     "data": {
      "image/png": "[encoded data removed]",
      "text/plain": [
       "<Figure size 432x288 with 2 Axes>"
      ]
     },
     "metadata": {
      "needs_background": "light"
     },
     "output_type": "display_data"
    }
   ],
   "source": [
    "test=gray_imgs[4]\n",
    "test=test.reshape(1,32,32,1)\n",
    "session=tf.Session()\n",
    "result=session.run(tf.argmax(tf.nn.softmax(model.predict(test),-1),-1))\n",
    "result = result.reshape(32,32)\n",
    "result_array=np.zeros((32,32,3),'uint8')\n",
    "cent=np.uint8(km.cluster_centers_)\n",
    "for i in range(32):\n",
    "    for j in range(32):\n",
    "        result_array[i,j,:] = cent[result[i][j]]\n",
    "image.fromarray(result_array)\n",
    "\n",
    "plt.subplot(121)\n",
    "plt.imshow(image.fromarray(result_array))\n",
    "plt.subplot(122)\n",
    "plt.imshow(image.fromarray(pixel_array[4]))"
   ]
  },
  {
   "cell_type": "code",
   "execution_count": 27,
   "metadata": {},
   "outputs": [
    {
     "data": {
      "text/plain": [
       "<matplotlib.image.AxesImage at 0x160c52358>"
      ]
     },
     "execution_count": 27,
     "metadata": {},
     "output_type": "execute_result"
    },
    {
     "data": {
      "image/png": "[encoded data removed]",
      "text/plain": [
       "<Figure size 432x288 with 2 Axes>"
      ]
     },
     "metadata": {
      "needs_background": "light"
     },
     "output_type": "display_data"
    }
   ],
   "source": [
    "test=gray_imgs[5]\n",
    "test=test.reshape(1,32,32,1)\n",
    "session=tf.Session()\n",
    "result=session.run(tf.argmax(tf.nn.softmax(model.predict(test),-1),-1))\n",
    "result = result.reshape(32,32)\n",
    "result_array=np.zeros((32,32,3),'uint8')\n",
    "cent=np.uint8(km.cluster_centers_)\n",
    "for i in range(32):\n",
    "    for j in range(32):\n",
    "        result_array[i,j,:] = cent[result[i][j]]\n",
    "image.fromarray(result_array)\n",
    "\n",
    "plt.subplot(121)\n",
    "plt.imshow(image.fromarray(result_array))\n",
    "plt.subplot(122)\n",
    "plt.imshow(image.fromarray(pixel_array[5]))"
   ]
  },
  {
   "cell_type": "code",
   "execution_count": 33,
   "metadata": {},
   "outputs": [
    {
     "data": {
      "text/plain": [
       "<matplotlib.image.AxesImage at 0x245f70470>"
      ]
     },
     "execution_count": 33,
     "metadata": {},
     "output_type": "execute_result"
    },
    {
     "data": {
      "image/png": "[encoded data removed]",
      "text/plain": [
       "<Figure size 432x288 with 2 Axes>"
      ]
     },
     "metadata": {
      "needs_background": "light"
     },
     "output_type": "display_data"
    }
   ],
   "source": [
    "test=gray_imgs[6]\n",
    "test=test.reshape(1,32,32,1)\n",
    "session=tf.Session()\n",
    "result=session.run(tf.argmax(tf.nn.softmax(model.predict(test),-1),-1))\n",
    "result = result.reshape(32,32)\n",
    "result_array=np.zeros((32,32,3),'uint8')\n",
    "cent=np.uint8(km.cluster_centers_)\n",
    "for i in range(32):\n",
    "    for j in range(32):\n",
    "        result_array[i,j,:] = cent[result[i][j]]\n",
    "image.fromarray(result_array)\n",
    "\n",
    "plt.subplot(121)\n",
    "plt.imshow(image.fromarray(result_array))\n",
    "plt.subplot(122)\n",
    "plt.imshow(image.fromarray(pixel_array[6]))"
   ]
  },
  {
   "cell_type": "code",
   "execution_count": 29,
   "metadata": {},
   "outputs": [
    {
     "data": {
      "text/plain": [
       "<matplotlib.image.AxesImage at 0x160df4f98>"
      ]
     },
     "execution_count": 29,
     "metadata": {},
     "output_type": "execute_result"
    },
    {
     "data": {
      "image/png": "[encoded data removed]",
      "text/plain": [
       "<Figure size 432x288 with 2 Axes>"
      ]
     },
     "metadata": {
      "needs_background": "light"
     },
     "output_type": "display_data"
    }
   ],
   "source": [
    "test=gray_imgs[7]\n",
    "test=test.reshape(1,32,32,1)\n",
    "session=tf.Session()\n",
    "result=session.run(tf.argmax(tf.nn.softmax(model.predict(test),-1),-1))\n",
    "result = result.reshape(32,32)\n",
    "result_array=np.zeros((32,32,3),'uint8')\n",
    "cent=np.uint8(km.cluster_centers_)\n",
    "for i in range(32):\n",
    "    for j in range(32):\n",
    "        result_array[i,j,:] = cent[result[i][j]]\n",
    "image.fromarray(result_array)\n",
    "\n",
    "plt.subplot(121)\n",
    "plt.imshow(image.fromarray(result_array))\n",
    "plt.subplot(122)\n",
    "plt.imshow(image.fromarray(pixel_array[7]))"
   ]
  },
  {
   "cell_type": "code",
   "execution_count": 30,
   "metadata": {},
   "outputs": [
    {
     "data": {
      "text/plain": [
       "<matplotlib.image.AxesImage at 0x160ee6dd8>"
      ]
     },
     "execution_count": 30,
     "metadata": {},
     "output_type": "execute_result"
    },
    {
     "data": {
      "image/png": "[encoded data removed]",
      "text/plain": [
       "<Figure size 432x288 with 2 Axes>"
      ]
     },
     "metadata": {
      "needs_background": "light"
     },
     "output_type": "display_data"
    }
   ],
   "source": [
    "test=gray_imgs[8]\n",
    "test=test.reshape(1,32,32,1)\n",
    "session=tf.Session()\n",
    "result=session.run(tf.argmax(tf.nn.softmax(model.predict(test),-1),-1))\n",
    "result = result.reshape(32,32)\n",
    "result_array=np.zeros((32,32,3),'uint8')\n",
    "cent=np.uint8(km.cluster_centers_)\n",
    "for i in range(32):\n",
    "    for j in range(32):\n",
    "        result_array[i,j,:] = cent[result[i][j]]\n",
    "image.fromarray(result_array)\n",
    "\n",
    "plt.subplot(121)\n",
    "plt.imshow(image.fromarray(result_array))\n",
    "plt.subplot(122)\n",
    "plt.imshow(image.fromarray(pixel_array[8]))"
   ]
  },
  {
   "cell_type": "code",
   "execution_count": 31,
   "metadata": {},
   "outputs": [
    {
     "data": {
      "text/plain": [
       "<matplotlib.image.AxesImage at 0x161775c18>"
      ]
     },
     "execution_count": 31,
     "metadata": {},
     "output_type": "execute_result"
    },
    {
     "data": {
      "image/png": "[encoded data removed]",
      "text/plain": [
       "<Figure size 432x288 with 2 Axes>"
      ]
     },
     "metadata": {
      "needs_background": "light"
     },
     "output_type": "display_data"
    }
   ],
   "source": [
    "test=gray_imgs[9]\n",
    "test=test.reshape(1,32,32,1)\n",
    "session=tf.Session()\n",
    "result=session.run(tf.argmax(tf.nn.softmax(model.predict(test),-1),-1))\n",
    "result = result.reshape(32,32)\n",
    "result_array=np.zeros((32,32,3),'uint8')\n",
    "cent=np.uint8(km.cluster_centers_)\n",
    "for i in range(32):\n",
    "    for j in range(32):\n",
    "        result_array[i,j,:] = cent[result[i][j]]\n",
    "image.fromarray(result_array)\n",
    "\n",
    "plt.subplot(121)\n",
    "plt.imshow(image.fromarray(result_array))\n",
    "plt.subplot(122)\n",
    "plt.imshow(image.fromarray(pixel_array[9]))"
   ]
  }
 ],
 "metadata": {
  "kernelspec": {
   "display_name": "Python 3",
   "language": "python",
   "name": "python3"
  },
  "language_info": {
   "codemirror_mode": {
    "name": "ipython",
    "version": 3
   },
   "file_extension": ".py",
   "mimetype": "text/x-python",
   "name": "python",
   "nbconvert_exporter": "python",
   "pygments_lexer": "ipython3",
   "version": "3.6.7"
  }
 },
 "nbformat": 4,
 "nbformat_minor": 2
}
