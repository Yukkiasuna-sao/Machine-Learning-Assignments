{
 "cells": [
  {
   "cell_type": "code",
   "execution_count": 1,
   "metadata": {},
   "outputs": [],
   "source": [
    "def unpickle(file):\n",
    "    import pickle\n",
    "    with open(file, 'rb') as fo:\n",
    "        dict = pickle.load(fo, encoding='bytes')\n",
    "    return dict"
   ]
  },
  {
   "cell_type": "code",
   "execution_count": 2,
   "metadata": {},
   "outputs": [],
   "source": [
    "baches_meta = unpickle('cifar-10-batches-py/batches.meta')"
   ]
  },
  {
   "cell_type": "code",
   "execution_count": 3,
   "metadata": {},
   "outputs": [
    {
     "data": {
      "text/plain": [
       "2"
      ]
     },
     "execution_count": 3,
     "metadata": {},
     "output_type": "execute_result"
    }
   ],
   "source": [
    "class_name=baches_meta[b'label_names']\n",
    "dict_class={}\n",
    "j=0\n",
    "for i in class_name:\n",
    "    dict_class[i]=j\n",
    "    j+=1\n",
    "dict_class[b'bird']"
   ]
  },
  {
   "cell_type": "code",
   "execution_count": 4,
   "metadata": {},
   "outputs": [
    {
     "name": "stdout",
     "output_type": "stream",
     "text": [
      "(1000, 3072)\n",
      "test size =  1000\n",
      "(1032, 3072)\n",
      "(1010, 3072)\n",
      "(965, 3072)\n",
      "(1041, 3072)\n",
      "(952, 3072)\n",
      "train size = 5000\n"
     ]
    }
   ],
   "source": [
    "import numpy as np\n",
    "test_batch=unpickle('cifar-10-batches-py/test_batch')\n",
    "test_labels=test_batch[b'labels']\n",
    "test_data=test_batch[b'data']\n",
    "a=np.argwhere(test_labels==np.uint8(dict_class[b'bird']))\n",
    "bird_test_index=np.ndarray.flatten(a)\n",
    "bird_test_data=test_data[bird_test_index]\n",
    "print(bird_test_data.shape)\n",
    "print('test size = ', bird_test_data.shape[0])\n",
    "\n",
    "train_batch1 = unpickle('cifar-10-batches-py/data_batch_1')\n",
    "train_label1 = train_batch1[b'labels']\n",
    "train_data1 = train_batch1[b'data']\n",
    "a=np.argwhere(train_label1==np.uint8(dict_class[b'bird']))\n",
    "bird_train_index1=np.ndarray.flatten(a)\n",
    "bird_train_data1=train_data1[bird_train_index1]\n",
    "print(bird_train_data1.shape)\n",
    "\n",
    "train_batch2 = unpickle('cifar-10-batches-py/data_batch_2')\n",
    "train_label2 = train_batch2[b'labels']\n",
    "train_data2 = train_batch2[b'data']\n",
    "a=np.argwhere(train_label2==np.uint8(dict_class[b'bird']))\n",
    "bird_train_index2=np.ndarray.flatten(a)\n",
    "bird_train_data2=train_data2[bird_train_index2]\n",
    "print(bird_train_data2.shape) \n",
    "\n",
    "train_batch3 = unpickle('cifar-10-batches-py/data_batch_3')\n",
    "train_label3 = train_batch3[b'labels']\n",
    "train_data3 = train_batch3[b'data']\n",
    "a=np.argwhere(train_label3==np.uint8(dict_class[b'bird']))\n",
    "bird_train_index3=np.ndarray.flatten(a)\n",
    "bird_train_data3=train_data3[bird_train_index3]\n",
    "print(bird_train_data3.shape) \n",
    "\n",
    "train_batch4 = unpickle('cifar-10-batches-py/data_batch_4')\n",
    "train_label4 = train_batch4[b'labels']\n",
    "train_data4 = train_batch4[b'data']\n",
    "a=np.argwhere(train_label4==np.uint8(dict_class[b'bird']))\n",
    "bird_train_index4=np.ndarray.flatten(a)\n",
    "bird_train_data4=train_data4[bird_train_index4]\n",
    "print(bird_train_data4.shape) \n",
    "\n",
    "train_batch5 = unpickle('cifar-10-batches-py/data_batch_5')\n",
    "train_label5 = train_batch5[b'labels']\n",
    "train_data5 = train_batch5[b'data']\n",
    "a=np.argwhere(train_label5==np.uint8(dict_class[b'bird']))\n",
    "bird_train_index5=np.ndarray.flatten(a)\n",
    "bird_train_data5=train_data5[bird_train_index5]\n",
    "print(bird_train_data5.shape) \n",
    "print('train size =', bird_train_data1.shape[0]+bird_train_data2.shape[0]+bird_train_data3.shape[0]+bird_train_data4.shape[0]+bird_train_data5.shape[0])"
   ]
  },
  {
   "cell_type": "code",
   "execution_count": 5,
   "metadata": {},
   "outputs": [
    {
     "data": {
      "text/plain": [
       "(6000, 3072)"
      ]
     },
     "execution_count": 5,
     "metadata": {},
     "output_type": "execute_result"
    }
   ],
   "source": [
    "bird_data = np.concatenate((bird_test_data, bird_train_data1, bird_train_data2, bird_train_data3, bird_train_data4, bird_train_data5), axis=0)\n",
    "bird_data.shape"
   ]
  },
  {
   "cell_type": "markdown",
   "metadata": {},
   "source": [
    "The image is stored in row-major order, so that the first 32 entries of the array are the red channel values of the first row of the image."
   ]
  },
  {
   "cell_type": "code",
   "execution_count": 6,
   "metadata": {},
   "outputs": [
    {
     "data": {
      "text/plain": [
       "array([[100,  68, 116, ...,  68,  94, 100],\n",
       "       [ 66,  66,  64, ..., 146, 145, 144],\n",
       "       [201, 187, 146, ...,  28,  21,  11],\n",
       "       ...,\n",
       "       [ 84,  79,  87, ...,  31,  54,  53],\n",
       "       [188, 186, 187, ..., 186, 171, 170],\n",
       "       [145, 151, 156, ...,  56,  53,  54]], dtype=uint8)"
      ]
     },
     "execution_count": 6,
     "metadata": {},
     "output_type": "execute_result"
    }
   ],
   "source": [
    "bird_data"
   ]
  },
  {
   "cell_type": "code",
   "execution_count": 7,
   "metadata": {},
   "outputs": [],
   "source": [
    "pixel_list = []\n",
    "for i in range(6000):\n",
    "    for j in range(1024):\n",
    "        red = bird_data[i][j]\n",
    "        green = bird_data[i][j+1024]\n",
    "        blue = bird_data[i][j+2048]\n",
    "        pixel = np.array([red, green, blue])\n",
    "        pixel_list.append(pixel) "
   ]
  },
  {
   "cell_type": "code",
   "execution_count": 8,
   "metadata": {
    "scrolled": true
   },
   "outputs": [
    {
     "name": "stdout",
     "output_type": "stream",
     "text": [
      "[[100 103  74]\n",
      " [ 68  91  65]\n",
      " [116 162 109]\n",
      " ...\n",
      " [ 39  41  56]\n",
      " [ 36  38  53]\n",
      " [ 37  39  54]]\n",
      "(6144000, 3)\n"
     ]
    }
   ],
   "source": [
    "pixel_array=np.array(pixel_list)\n",
    "print(pixel_array)\n",
    "print(pixel_array.shape)"
   ]
  },
  {
   "cell_type": "code",
   "execution_count": 9,
   "metadata": {},
   "outputs": [],
   "source": [
    "import PIL.Image as image\n",
    "from sklearn.cluster import KMeans\n",
    "km = KMeans(n_clusters=4)\n",
    "label = km.fit_predict(pixel_array)"
   ]
  },
  {
   "cell_type": "code",
   "execution_count": 10,
   "metadata": {},
   "outputs": [
    {
     "data": {
      "text/plain": [
       "array([[108.8407931 , 108.5153173 ,  82.66315014],\n",
       "       [206.42735866, 211.71114386, 211.39669099],\n",
       "       [156.21599339, 155.48272073, 135.4001235 ],\n",
       "       [ 48.97353502,  49.95089668,  38.5097867 ]])"
      ]
     },
     "execution_count": 10,
     "metadata": {},
     "output_type": "execute_result"
    }
   ],
   "source": [
    "km.cluster_centers_"
   ]
  },
  {
   "cell_type": "code",
   "execution_count": 11,
   "metadata": {},
   "outputs": [
    {
     "data": {
      "text/plain": [
       "dtype('uint8')"
      ]
     },
     "execution_count": 11,
     "metadata": {},
     "output_type": "execute_result"
    }
   ],
   "source": [
    "pixel_array.dtype\n",
    "# out = np.zeros((4,), dtype=np.ndarray)"
   ]
  },
  {
   "cell_type": "code",
   "execution_count": 12,
   "metadata": {},
   "outputs": [
    {
     "data": {
      "text/plain": [
       "array([[1, 0, 0, 0],\n",
       "       [1, 0, 0, 0],\n",
       "       [0, 0, 1, 0],\n",
       "       ...,\n",
       "       [0, 0, 0, 1],\n",
       "       [0, 0, 0, 1],\n",
       "       [0, 0, 0, 1]])"
      ]
     },
     "execution_count": 12,
     "metadata": {},
     "output_type": "execute_result"
    }
   ],
   "source": [
    "label_list = []\n",
    "for x in label:\n",
    "#     for i in range(32):\n",
    "#         for j in range(32):\n",
    "        out = np.zeros((4,), dtype=int)\n",
    "        out[x] += 1\n",
    "        label_list.append(out)\n",
    "#             label_array[i][j]=out\n",
    "label_array = np.array(label_list)\n",
    "label_array"
   ]
  },
  {
   "cell_type": "code",
   "execution_count": 13,
   "metadata": {},
   "outputs": [],
   "source": [
    "label_array=label_array.reshape(6000, 32, 32, 4)"
   ]
  },
  {
   "cell_type": "code",
   "execution_count": 14,
   "metadata": {},
   "outputs": [
    {
     "data": {
      "text/plain": [
       "array([[[[1, 0, 0, 0],\n",
       "         [1, 0, 0, 0],\n",
       "         [0, 0, 1, 0],\n",
       "         ...,\n",
       "         [0, 0, 1, 0],\n",
       "         [0, 0, 1, 0],\n",
       "         [0, 0, 1, 0]],\n",
       "\n",
       "        [[1, 0, 0, 0],\n",
       "         [1, 0, 0, 0],\n",
       "         [0, 0, 1, 0],\n",
       "         ...,\n",
       "         [0, 0, 1, 0],\n",
       "         [0, 0, 1, 0],\n",
       "         [0, 0, 1, 0]],\n",
       "\n",
       "        [[0, 0, 1, 0],\n",
       "         [0, 0, 1, 0],\n",
       "         [0, 0, 1, 0],\n",
       "         ...,\n",
       "         [0, 0, 1, 0],\n",
       "         [0, 0, 1, 0],\n",
       "         [0, 0, 1, 0]],\n",
       "\n",
       "        ...,\n",
       "\n",
       "        [[1, 0, 0, 0],\n",
       "         [1, 0, 0, 0],\n",
       "         [1, 0, 0, 0],\n",
       "         ...,\n",
       "         [0, 0, 1, 0],\n",
       "         [0, 0, 1, 0],\n",
       "         [0, 1, 0, 0]],\n",
       "\n",
       "        [[1, 0, 0, 0],\n",
       "         [1, 0, 0, 0],\n",
       "         [0, 0, 1, 0],\n",
       "         ...,\n",
       "         [0, 0, 1, 0],\n",
       "         [0, 0, 1, 0],\n",
       "         [0, 0, 1, 0]],\n",
       "\n",
       "        [[1, 0, 0, 0],\n",
       "         [0, 0, 1, 0],\n",
       "         [0, 0, 1, 0],\n",
       "         ...,\n",
       "         [1, 0, 0, 0],\n",
       "         [1, 0, 0, 0],\n",
       "         [0, 0, 1, 0]]],\n",
       "\n",
       "\n",
       "       [[[0, 0, 0, 1],\n",
       "         [0, 0, 0, 1],\n",
       "         [0, 0, 0, 1],\n",
       "         ...,\n",
       "         [1, 0, 0, 0],\n",
       "         [1, 0, 0, 0],\n",
       "         [1, 0, 0, 0]],\n",
       "\n",
       "        [[0, 0, 0, 1],\n",
       "         [0, 0, 0, 1],\n",
       "         [0, 0, 0, 1],\n",
       "         ...,\n",
       "         [1, 0, 0, 0],\n",
       "         [1, 0, 0, 0],\n",
       "         [1, 0, 0, 0]],\n",
       "\n",
       "        [[0, 0, 0, 1],\n",
       "         [0, 0, 0, 1],\n",
       "         [0, 0, 0, 1],\n",
       "         ...,\n",
       "         [0, 0, 0, 1],\n",
       "         [0, 0, 0, 1],\n",
       "         [0, 0, 0, 1]],\n",
       "\n",
       "        ...,\n",
       "\n",
       "        [[0, 0, 1, 0],\n",
       "         [1, 0, 0, 0],\n",
       "         [1, 0, 0, 0],\n",
       "         ...,\n",
       "         [0, 0, 1, 0],\n",
       "         [0, 0, 1, 0],\n",
       "         [0, 0, 1, 0]],\n",
       "\n",
       "        [[0, 0, 1, 0],\n",
       "         [0, 0, 1, 0],\n",
       "         [1, 0, 0, 0],\n",
       "         ...,\n",
       "         [0, 0, 1, 0],\n",
       "         [0, 0, 1, 0],\n",
       "         [0, 0, 1, 0]],\n",
       "\n",
       "        [[0, 0, 1, 0],\n",
       "         [0, 0, 1, 0],\n",
       "         [1, 0, 0, 0],\n",
       "         ...,\n",
       "         [0, 0, 1, 0],\n",
       "         [0, 0, 1, 0],\n",
       "         [0, 0, 1, 0]]],\n",
       "\n",
       "\n",
       "       [[[0, 1, 0, 0],\n",
       "         [0, 0, 1, 0],\n",
       "         [1, 0, 0, 0],\n",
       "         ...,\n",
       "         [1, 0, 0, 0],\n",
       "         [1, 0, 0, 0],\n",
       "         [0, 0, 0, 1]],\n",
       "\n",
       "        [[0, 1, 0, 0],\n",
       "         [0, 0, 1, 0],\n",
       "         [1, 0, 0, 0],\n",
       "         ...,\n",
       "         [1, 0, 0, 0],\n",
       "         [0, 0, 0, 1],\n",
       "         [0, 0, 0, 1]],\n",
       "\n",
       "        [[0, 1, 0, 0],\n",
       "         [0, 0, 1, 0],\n",
       "         [1, 0, 0, 0],\n",
       "         ...,\n",
       "         [0, 0, 0, 1],\n",
       "         [0, 0, 0, 1],\n",
       "         [1, 0, 0, 0]],\n",
       "\n",
       "        ...,\n",
       "\n",
       "        [[1, 0, 0, 0],\n",
       "         [0, 0, 1, 0],\n",
       "         [0, 0, 1, 0],\n",
       "         ...,\n",
       "         [0, 0, 0, 1],\n",
       "         [0, 0, 0, 1],\n",
       "         [0, 0, 0, 1]],\n",
       "\n",
       "        [[0, 0, 0, 1],\n",
       "         [1, 0, 0, 0],\n",
       "         [1, 0, 0, 0],\n",
       "         ...,\n",
       "         [1, 0, 0, 0],\n",
       "         [0, 0, 0, 1],\n",
       "         [0, 0, 0, 1]],\n",
       "\n",
       "        [[1, 0, 0, 0],\n",
       "         [1, 0, 0, 0],\n",
       "         [0, 0, 1, 0],\n",
       "         ...,\n",
       "         [0, 0, 0, 1],\n",
       "         [0, 0, 0, 1],\n",
       "         [0, 0, 0, 1]]],\n",
       "\n",
       "\n",
       "       ...,\n",
       "\n",
       "\n",
       "       [[[1, 0, 0, 0],\n",
       "         [0, 0, 0, 1],\n",
       "         [1, 0, 0, 0],\n",
       "         ...,\n",
       "         [1, 0, 0, 0],\n",
       "         [1, 0, 0, 0],\n",
       "         [1, 0, 0, 0]],\n",
       "\n",
       "        [[1, 0, 0, 0],\n",
       "         [1, 0, 0, 0],\n",
       "         [1, 0, 0, 0],\n",
       "         ...,\n",
       "         [1, 0, 0, 0],\n",
       "         [1, 0, 0, 0],\n",
       "         [1, 0, 0, 0]],\n",
       "\n",
       "        [[1, 0, 0, 0],\n",
       "         [1, 0, 0, 0],\n",
       "         [1, 0, 0, 0],\n",
       "         ...,\n",
       "         [1, 0, 0, 0],\n",
       "         [1, 0, 0, 0],\n",
       "         [1, 0, 0, 0]],\n",
       "\n",
       "        ...,\n",
       "\n",
       "        [[1, 0, 0, 0],\n",
       "         [1, 0, 0, 0],\n",
       "         [1, 0, 0, 0],\n",
       "         ...,\n",
       "         [1, 0, 0, 0],\n",
       "         [1, 0, 0, 0],\n",
       "         [1, 0, 0, 0]],\n",
       "\n",
       "        [[1, 0, 0, 0],\n",
       "         [1, 0, 0, 0],\n",
       "         [1, 0, 0, 0],\n",
       "         ...,\n",
       "         [0, 0, 0, 1],\n",
       "         [1, 0, 0, 0],\n",
       "         [1, 0, 0, 0]],\n",
       "\n",
       "        [[1, 0, 0, 0],\n",
       "         [1, 0, 0, 0],\n",
       "         [1, 0, 0, 0],\n",
       "         ...,\n",
       "         [0, 0, 0, 1],\n",
       "         [0, 0, 0, 1],\n",
       "         [0, 0, 0, 1]]],\n",
       "\n",
       "\n",
       "       [[[0, 1, 0, 0],\n",
       "         [0, 1, 0, 0],\n",
       "         [0, 1, 0, 0],\n",
       "         ...,\n",
       "         [0, 1, 0, 0],\n",
       "         [0, 1, 0, 0],\n",
       "         [0, 1, 0, 0]],\n",
       "\n",
       "        [[0, 1, 0, 0],\n",
       "         [0, 1, 0, 0],\n",
       "         [0, 1, 0, 0],\n",
       "         ...,\n",
       "         [0, 1, 0, 0],\n",
       "         [0, 1, 0, 0],\n",
       "         [0, 1, 0, 0]],\n",
       "\n",
       "        [[0, 1, 0, 0],\n",
       "         [0, 1, 0, 0],\n",
       "         [0, 1, 0, 0],\n",
       "         ...,\n",
       "         [0, 1, 0, 0],\n",
       "         [0, 1, 0, 0],\n",
       "         [0, 1, 0, 0]],\n",
       "\n",
       "        ...,\n",
       "\n",
       "        [[0, 1, 0, 0],\n",
       "         [0, 1, 0, 0],\n",
       "         [1, 0, 0, 0],\n",
       "         ...,\n",
       "         [0, 1, 0, 0],\n",
       "         [0, 1, 0, 0],\n",
       "         [0, 1, 0, 0]],\n",
       "\n",
       "        [[0, 1, 0, 0],\n",
       "         [0, 1, 0, 0],\n",
       "         [1, 0, 0, 0],\n",
       "         ...,\n",
       "         [0, 1, 0, 0],\n",
       "         [0, 1, 0, 0],\n",
       "         [0, 1, 0, 0]],\n",
       "\n",
       "        [[0, 1, 0, 0],\n",
       "         [0, 1, 0, 0],\n",
       "         [0, 0, 1, 0],\n",
       "         ...,\n",
       "         [0, 1, 0, 0],\n",
       "         [0, 0, 1, 0],\n",
       "         [0, 0, 1, 0]]],\n",
       "\n",
       "\n",
       "       [[[0, 0, 1, 0],\n",
       "         [0, 0, 1, 0],\n",
       "         [0, 1, 0, 0],\n",
       "         ...,\n",
       "         [0, 0, 1, 0],\n",
       "         [0, 0, 1, 0],\n",
       "         [0, 0, 1, 0]],\n",
       "\n",
       "        [[0, 0, 1, 0],\n",
       "         [0, 1, 0, 0],\n",
       "         [0, 1, 0, 0],\n",
       "         ...,\n",
       "         [0, 0, 1, 0],\n",
       "         [0, 0, 1, 0],\n",
       "         [0, 0, 1, 0]],\n",
       "\n",
       "        [[0, 1, 0, 0],\n",
       "         [0, 1, 0, 0],\n",
       "         [0, 1, 0, 0],\n",
       "         ...,\n",
       "         [0, 0, 1, 0],\n",
       "         [0, 0, 1, 0],\n",
       "         [0, 0, 1, 0]],\n",
       "\n",
       "        ...,\n",
       "\n",
       "        [[0, 0, 0, 1],\n",
       "         [0, 0, 0, 1],\n",
       "         [0, 0, 0, 1],\n",
       "         ...,\n",
       "         [0, 0, 0, 1],\n",
       "         [0, 0, 0, 1],\n",
       "         [0, 0, 0, 1]],\n",
       "\n",
       "        [[0, 0, 0, 1],\n",
       "         [0, 0, 0, 1],\n",
       "         [0, 0, 0, 1],\n",
       "         ...,\n",
       "         [0, 0, 0, 1],\n",
       "         [0, 0, 0, 1],\n",
       "         [0, 0, 0, 1]],\n",
       "\n",
       "        [[0, 0, 0, 1],\n",
       "         [0, 0, 0, 1],\n",
       "         [0, 0, 0, 1],\n",
       "         ...,\n",
       "         [0, 0, 0, 1],\n",
       "         [0, 0, 0, 1],\n",
       "         [0, 0, 0, 1]]]])"
      ]
     },
     "execution_count": 14,
     "metadata": {},
     "output_type": "execute_result"
    }
   ],
   "source": [
    "label_array # output"
   ]
  },
  {
   "cell_type": "code",
   "execution_count": 15,
   "metadata": {},
   "outputs": [
    {
     "data": {
      "image/png": "[encoded data removed]",
      "text/plain": [
       "<PIL.Image.Image image mode=RGB size=32x32 at 0x145C6F748>"
      ]
     },
     "execution_count": 15,
     "metadata": {},
     "output_type": "execute_result"
    }
   ],
   "source": [
    "pixel_array=pixel_array.reshape(6000,32,32,3)\n",
    "org_img = image.fromarray(pixel_array[0])\n",
    "org_img"
   ]
  },
  {
   "cell_type": "code",
   "execution_count": 16,
   "metadata": {},
   "outputs": [
    {
     "data": {
      "image/png": "[encoded data removed]",
      "text/plain": [
       "<PIL.Image.Image image mode=L size=32x32 at 0x151030588>"
      ]
     },
     "execution_count": 16,
     "metadata": {},
     "output_type": "execute_result"
    }
   ],
   "source": [
    "gray_img = org_img.convert(mode='L')\n",
    "gray_img"
   ]
  },
  {
   "cell_type": "code",
   "execution_count": 17,
   "metadata": {},
   "outputs": [],
   "source": [
    "a = map(lambda x: image.fromarray(x), pixel_array)\n",
    "gray_imgs = map(lambda x: x.convert(mode='L'), a)"
   ]
  },
  {
   "cell_type": "code",
   "execution_count": 18,
   "metadata": {},
   "outputs": [],
   "source": [
    "gray_imgs = list(gray_imgs)\n",
    "gray_imgs = np.array(list(map(lambda x: np.array(x), gray_imgs)))"
   ]
  },
  {
   "cell_type": "code",
   "execution_count": 19,
   "metadata": {
    "scrolled": true
   },
   "outputs": [
    {
     "data": {
      "text/plain": [
       "(6000, 32, 32)"
      ]
     },
     "execution_count": 19,
     "metadata": {},
     "output_type": "execute_result"
    }
   ],
   "source": [
    "gray_imgs.shape"
   ]
  },
  {
   "cell_type": "code",
   "execution_count": 20,
   "metadata": {},
   "outputs": [],
   "source": [
    "gray_imgs = gray_imgs.reshape(6000, 32, 32, 1)\n",
    "import tensorflow as tf\n",
    "def ce(y_true, y_pred):\n",
    "        return tf.nn.softmax_cross_entropy_with_logits(labels=y_true,logits=y_pred,dim=3)"
   ]
  },
  {
   "cell_type": "code",
   "execution_count": 21,
   "metadata": {},
   "outputs": [
    {
     "name": "stderr",
     "output_type": "stream",
     "text": [
      "Using TensorFlow backend.\n"
     ]
    },
    {
     "name": "stdout",
     "output_type": "stream",
     "text": [
      "WARNING:tensorflow:From <ipython-input-20-b31499b2da01>:4: softmax_cross_entropy_with_logits (from tensorflow.python.ops.nn_ops) is deprecated and will be removed in a future version.\n",
      "Instructions for updating:\n",
      "\n",
      "Future major versions of TensorFlow will allow gradients to flow\n",
      "into the labels input on backprop by default.\n",
      "\n",
      "See `tf.nn.softmax_cross_entropy_with_logits_v2`.\n",
      "\n",
      "Train on 6000 samples, validate on 1000 samples\n",
      "Epoch 1/30\n",
      "6000/6000 [==============================] - 31s 5ms/step - loss: 58.3459 - acc: 0.2802 - val_loss: 11.4801 - val_acc: 0.2855\n",
      "Epoch 2/30\n",
      "6000/6000 [==============================] - 28s 5ms/step - loss: 4.4625 - acc: 0.2741 - val_loss: 1.6732 - val_acc: 0.2979\n",
      "Epoch 3/30\n",
      "6000/6000 [==============================] - 28s 5ms/step - loss: 1.4480 - acc: 0.3402 - val_loss: 1.2988 - val_acc: 0.3966\n",
      "Epoch 4/30\n",
      "6000/6000 [==============================] - 38s 6ms/step - loss: 1.2518 - acc: 0.4215 - val_loss: 1.1733 - val_acc: 0.4724\n",
      "Epoch 5/30\n",
      "6000/6000 [==============================] - 31s 5ms/step - loss: 1.1271 - acc: 0.4888 - val_loss: 1.0477 - val_acc: 0.5322\n",
      "Epoch 6/30\n",
      "6000/6000 [==============================] - 32s 5ms/step - loss: 1.0139 - acc: 0.5440 - val_loss: 0.9405 - val_acc: 0.5808\n",
      "Epoch 7/30\n",
      "6000/6000 [==============================] - 31s 5ms/step - loss: 0.9230 - acc: 0.5879 - val_loss: 0.8633 - val_acc: 0.6215\n",
      "Epoch 8/30\n",
      "6000/6000 [==============================] - 32s 5ms/step - loss: 0.8493 - acc: 0.6241 - val_loss: 0.7941 - val_acc: 0.6530\n",
      "Epoch 9/30\n",
      "6000/6000 [==============================] - 29s 5ms/step - loss: 0.7908 - acc: 0.6526 - val_loss: 0.7341 - val_acc: 0.6837\n",
      "Epoch 10/30\n",
      "6000/6000 [==============================] - 29s 5ms/step - loss: 0.7372 - acc: 0.6779 - val_loss: 0.6891 - val_acc: 0.7046\n",
      "Epoch 11/30\n",
      "6000/6000 [==============================] - 30s 5ms/step - loss: 0.6843 - acc: 0.7042 - val_loss: 0.6453 - val_acc: 0.7263\n",
      "Epoch 12/30\n",
      "6000/6000 [==============================] - 29s 5ms/step - loss: 0.6533 - acc: 0.7186 - val_loss: 0.6127 - val_acc: 0.7426\n",
      "Epoch 13/30\n",
      "6000/6000 [==============================] - 29s 5ms/step - loss: 0.6108 - acc: 0.7401 - val_loss: 0.5692 - val_acc: 0.7638\n",
      "Epoch 14/30\n",
      "6000/6000 [==============================] - 36s 6ms/step - loss: 0.5715 - acc: 0.7603 - val_loss: 0.5387 - val_acc: 0.7793\n",
      "Epoch 15/30\n",
      "6000/6000 [==============================] - 33s 6ms/step - loss: 0.5456 - acc: 0.7728 - val_loss: 0.5295 - val_acc: 0.7813\n",
      "Epoch 16/30\n",
      "6000/6000 [==============================] - 29s 5ms/step - loss: 0.5233 - acc: 0.7839 - val_loss: 0.4848 - val_acc: 0.8068\n",
      "Epoch 17/30\n",
      "6000/6000 [==============================] - 33s 6ms/step - loss: 0.4899 - acc: 0.8013 - val_loss: 0.4807 - val_acc: 0.8046\n",
      "Epoch 18/30\n",
      "6000/6000 [==============================] - 36s 6ms/step - loss: 0.4750 - acc: 0.8082 - val_loss: 0.4423 - val_acc: 0.8253\n",
      "Epoch 19/30\n",
      "6000/6000 [==============================] - 42s 7ms/step - loss: 0.4580 - acc: 0.8161 - val_loss: 0.4241 - val_acc: 0.8355\n",
      "Epoch 20/30\n",
      "6000/6000 [==============================] - 35s 6ms/step - loss: 0.4386 - acc: 0.8256 - val_loss: 0.4036 - val_acc: 0.8451\n",
      "Epoch 21/30\n",
      "6000/6000 [==============================] - 36s 6ms/step - loss: 0.4257 - acc: 0.8313 - val_loss: 0.4153 - val_acc: 0.8356\n",
      "Epoch 22/30\n",
      "6000/6000 [==============================] - 35s 6ms/step - loss: 0.4018 - acc: 0.8431 - val_loss: 0.3688 - val_acc: 0.8606\n",
      "Epoch 23/30\n",
      "6000/6000 [==============================] - 33s 6ms/step - loss: 0.3776 - acc: 0.8558 - val_loss: 0.3563 - val_acc: 0.8667\n",
      "Epoch 24/30\n",
      "6000/6000 [==============================] - 30s 5ms/step - loss: 0.3598 - acc: 0.8639 - val_loss: 0.3394 - val_acc: 0.8760\n",
      "Epoch 25/30\n",
      "6000/6000 [==============================] - 31s 5ms/step - loss: 0.3476 - acc: 0.8698 - val_loss: 0.3268 - val_acc: 0.8814\n",
      "Epoch 26/30\n",
      "6000/6000 [==============================] - 29s 5ms/step - loss: 0.3322 - acc: 0.8776 - val_loss: 0.3078 - val_acc: 0.8908\n",
      "Epoch 27/30\n",
      "6000/6000 [==============================] - 34s 6ms/step - loss: 0.3197 - acc: 0.8829 - val_loss: 0.3057 - val_acc: 0.8901\n",
      "Epoch 28/30\n",
      "6000/6000 [==============================] - 41s 7ms/step - loss: 0.3057 - acc: 0.8900 - val_loss: 0.2877 - val_acc: 0.8987\n",
      "Epoch 29/30\n",
      "6000/6000 [==============================] - 32s 5ms/step - loss: 0.2971 - acc: 0.8931 - val_loss: 0.2735 - val_acc: 0.9050\n",
      "Epoch 30/30\n",
      "6000/6000 [==============================] - 28s 5ms/step - loss: 0.2879 - acc: 0.8968 - val_loss: 0.2678 - val_acc: 0.9058\n"
     ]
    },
    {
     "data": {
      "text/plain": [
       "<keras.callbacks.History at 0x158935be0>"
      ]
     },
     "execution_count": 21,
     "metadata": {},
     "output_type": "execute_result"
    }
   ],
   "source": [
    "from keras.models import Sequential\n",
    "from keras.layers import Dense, Conv2D, Flatten, MaxPool2D, Reshape\n",
    "from keras.callbacks import ModelCheckpoint\n",
    "# create model\n",
    "model = Sequential()\n",
    "# add model layers\n",
    "model.add(Conv2D(64, kernel_size=5, activation='relu', input_shape=(32, 32, 1),padding='same'))\n",
    "model.add(MaxPool2D(pool_size=2, strides=2))\n",
    "model.add(Conv2D(32, kernel_size=5, activation='relu',padding='same'))\n",
    "model.add(MaxPool2D(pool_size=2, strides=2))\n",
    "model.add(Flatten())\n",
    "model.add(Dense(4096))\n",
    "model.add(Reshape((32, 32, 4)))\n",
    "# compile model using accuracy to measure model performance\n",
    "model.compile(optimizer='adam', loss=ce, metrics=['accuracy'])\n",
    "# train the model\n",
    "model.fit(gray_imgs, label_array, epochs=30, validation_data=(gray_imgs[0:1000], label_array[0:1000]), batch_size=500)"
   ]
  },
  {
   "cell_type": "markdown",
   "metadata": {},
   "source": [
    "# Training error and test error"
   ]
  },
  {
   "cell_type": "code",
   "execution_count": 33,
   "metadata": {},
   "outputs": [
    {
     "name": "stdout",
     "output_type": "stream",
     "text": [
      "6000/6000 [==============================] - 8s 1ms/step\n",
      "training loss(error) = 0.27248356739679974\n",
      "training accuracy = 0.9041788727045059\n"
     ]
    }
   ],
   "source": [
    "train_score = model.evaluate(gray_imgs, label_array, batch_size=500)\n",
    "print('training loss(error) =', train_score[0])\n",
    "print('training accuracy =', train_score[1])"
   ]
  },
  {
   "cell_type": "code",
   "execution_count": 34,
   "metadata": {},
   "outputs": [
    {
     "name": "stdout",
     "output_type": "stream",
     "text": [
      "1000/1000 [==============================] - 1s 1ms/step\n",
      "training loss(error) = 0.2678048461675644\n",
      "training accuracy = 0.9057539105415344\n"
     ]
    }
   ],
   "source": [
    "test_score = model.evaluate(gray_imgs[0:1000], label_array[0:1000], batch_size=500)\n",
    "print('training loss(error) =', test_score[0])\n",
    "print('training accuracy =', test_score[1])"
   ]
  },
  {
   "cell_type": "markdown",
   "metadata": {},
   "source": [
    "# The plot on the left is the colorized image. The plot on the right is the original image."
   ]
  },
  {
   "cell_type": "code",
   "execution_count": 32,
   "metadata": {},
   "outputs": [
    {
     "data": {
      "text/plain": [
       "<matplotlib.image.AxesImage at 0x15fbaccf8>"
      ]
     },
     "execution_count": 32,
     "metadata": {},
     "output_type": "execute_result"
    },
    {
     "data": {
      "image/png": "[encoded data removed]",
      "text/plain": [
       "<Figure size 432x288 with 2 Axes>"
      ]
     },
     "metadata": {
      "needs_background": "light"
     },
     "output_type": "display_data"
    }
   ],
   "source": [
    "test=gray_imgs[0]\n",
    "test=test.reshape(1,32,32,1)\n",
    "\n",
    "session=tf.Session()\n",
    "result=session.run(tf.argmax(tf.nn.softmax(model.predict(test),-1),-1))\n",
    "result = result.reshape(32,32)\n",
    "result_array=np.zeros((32,32,3),'uint8')\n",
    "cent=np.uint8(km.cluster_centers_)\n",
    "for i in range(32):\n",
    "    for j in range(32):\n",
    "        result_array[i,j,:] = cent[result[i][j]]\n",
    "image.fromarray(result_array)\n",
    "import matplotlib.pyplot as plt\n",
    "plt.subplot(121)\n",
    "plt.imshow(image.fromarray(result_array))\n",
    "plt.subplot(122)\n",
    "plt.imshow(image.fromarray(pixel_array[0]))"
   ]
  },
  {
   "cell_type": "code",
   "execution_count": 23,
   "metadata": {},
   "outputs": [
    {
     "data": {
      "text/plain": [
       "<matplotlib.image.AxesImage at 0x15bcf7a20>"
      ]
     },
     "execution_count": 23,
     "metadata": {},
     "output_type": "execute_result"
    },
    {
     "data": {
      "image/png": "[encoded data removed]",
      "text/plain": [
       "<Figure size 432x288 with 2 Axes>"
      ]
     },
     "metadata": {
      "needs_background": "light"
     },
     "output_type": "display_data"
    }
   ],
   "source": [
    "test=gray_imgs[1]\n",
    "test=test.reshape(1,32,32,1)\n",
    "session=tf.Session()\n",
    "result=session.run(tf.argmax(tf.nn.softmax(model.predict(test),-1),-1))\n",
    "result = result.reshape(32,32)\n",
    "result_array=np.zeros((32,32,3),'uint8')\n",
    "cent=np.uint8(km.cluster_centers_)\n",
    "for i in range(32):\n",
    "    for j in range(32):\n",
    "        result_array[i,j,:] = cent[result[i][j]]\n",
    "image.fromarray(result_array)\n",
    "\n",
    "plt.subplot(121)\n",
    "plt.imshow(image.fromarray(result_array))\n",
    "plt.subplot(122)\n",
    "plt.imshow(image.fromarray(pixel_array[1]))"
   ]
  },
  {
   "cell_type": "code",
   "execution_count": 24,
   "metadata": {},
   "outputs": [
    {
     "data": {
      "text/plain": [
       "<matplotlib.image.AxesImage at 0x15bd71e10>"
      ]
     },
     "execution_count": 24,
     "metadata": {},
     "output_type": "execute_result"
    },
    {
     "data": {
      "image/png": "[encoded data removed]",
      "text/plain": [
       "<Figure size 432x288 with 2 Axes>"
      ]
     },
     "metadata": {
      "needs_background": "light"
     },
     "output_type": "display_data"
    }
   ],
   "source": [
    "test=gray_imgs[2]\n",
    "test=test.reshape(1,32,32,1)\n",
    "session=tf.Session()\n",
    "result=session.run(tf.argmax(tf.nn.softmax(model.predict(test),-1),-1))\n",
    "result = result.reshape(32,32)\n",
    "result_array=np.zeros((32,32,3),'uint8')\n",
    "cent=np.uint8(km.cluster_centers_)\n",
    "for i in range(32):\n",
    "    for j in range(32):\n",
    "        result_array[i,j,:] = cent[result[i][j]]\n",
    "image.fromarray(result_array)\n",
    "\n",
    "plt.subplot(121)\n",
    "plt.imshow(image.fromarray(result_array))\n",
    "plt.subplot(122)\n",
    "plt.imshow(image.fromarray(pixel_array[2]))"
   ]
  },
  {
   "cell_type": "code",
   "execution_count": 25,
   "metadata": {},
   "outputs": [
    {
     "data": {
      "text/plain": [
       "<matplotlib.image.AxesImage at 0x15beac2e8>"
      ]
     },
     "execution_count": 25,
     "metadata": {},
     "output_type": "execute_result"
    },
    {
     "data": {
      "image/png": "[encoded data removed]",
      "text/plain": [
       "<Figure size 432x288 with 2 Axes>"
      ]
     },
     "metadata": {
      "needs_background": "light"
     },
     "output_type": "display_data"
    }
   ],
   "source": [
    "test=gray_imgs[3]\n",
    "test=test.reshape(1,32,32,1)\n",
    "session=tf.Session()\n",
    "result=session.run(tf.argmax(tf.nn.softmax(model.predict(test),-1),-1))\n",
    "result = result.reshape(32,32)\n",
    "result_array=np.zeros((32,32,3),'uint8')\n",
    "cent=np.uint8(km.cluster_centers_)\n",
    "for i in range(32):\n",
    "    for j in range(32):\n",
    "        result_array[i,j,:] = cent[result[i][j]]\n",
    "image.fromarray(result_array)\n",
    "\n",
    "plt.subplot(121)\n",
    "plt.imshow(image.fromarray(result_array))\n",
    "plt.subplot(122)\n",
    "plt.imshow(image.fromarray(pixel_array[3]))"
   ]
  },
  {
   "cell_type": "code",
   "execution_count": 26,
   "metadata": {},
   "outputs": [
    {
     "data": {
      "text/plain": [
       "<matplotlib.image.AxesImage at 0x15f48d898>"
      ]
     },
     "execution_count": 26,
     "metadata": {},
     "output_type": "execute_result"
    },
    {
     "data": {
      "image/png": "[encoded data removed]",
      "text/plain": [
       "<Figure size 432x288 with 2 Axes>"
      ]
     },
     "metadata": {
      "needs_background": "light"
     },
     "output_type": "display_data"
    }
   ],
   "source": [
    "test=gray_imgs[4]\n",
    "test=test.reshape(1,32,32,1)\n",
    "session=tf.Session()\n",
    "result=session.run(tf.argmax(tf.nn.softmax(model.predict(test),-1),-1))\n",
    "result = result.reshape(32,32)\n",
    "result_array=np.zeros((32,32,3),'uint8')\n",
    "cent=np.uint8(km.cluster_centers_)\n",
    "for i in range(32):\n",
    "    for j in range(32):\n",
    "        result_array[i,j,:] = cent[result[i][j]]\n",
    "image.fromarray(result_array)\n",
    "\n",
    "plt.subplot(121)\n",
    "plt.imshow(image.fromarray(result_array))\n",
    "plt.subplot(122)\n",
    "plt.imshow(image.fromarray(pixel_array[4]))"
   ]
  },
  {
   "cell_type": "code",
   "execution_count": 27,
   "metadata": {},
   "outputs": [
    {
     "data": {
      "text/plain": [
       "<matplotlib.image.AxesImage at 0x15f5c06d8>"
      ]
     },
     "execution_count": 27,
     "metadata": {},
     "output_type": "execute_result"
    },
    {
     "data": {
      "image/png": "[encoded data removed]",
      "text/plain": [
       "<Figure size 432x288 with 2 Axes>"
      ]
     },
     "metadata": {
      "needs_background": "light"
     },
     "output_type": "display_data"
    }
   ],
   "source": [
    "test=gray_imgs[5]\n",
    "test=test.reshape(1,32,32,1)\n",
    "session=tf.Session()\n",
    "result=session.run(tf.argmax(tf.nn.softmax(model.predict(test),-1),-1))\n",
    "result = result.reshape(32,32)\n",
    "result_array=np.zeros((32,32,3),'uint8')\n",
    "cent=np.uint8(km.cluster_centers_)\n",
    "for i in range(32):\n",
    "    for j in range(32):\n",
    "        result_array[i,j,:] = cent[result[i][j]]\n",
    "image.fromarray(result_array)\n",
    "\n",
    "plt.subplot(121)\n",
    "plt.imshow(image.fromarray(result_array))\n",
    "plt.subplot(122)\n",
    "plt.imshow(image.fromarray(pixel_array[5]))"
   ]
  },
  {
   "cell_type": "code",
   "execution_count": 28,
   "metadata": {},
   "outputs": [
    {
     "data": {
      "text/plain": [
       "<matplotlib.image.AxesImage at 0x15f7f1518>"
      ]
     },
     "execution_count": 28,
     "metadata": {},
     "output_type": "execute_result"
    },
    {
     "data": {
      "image/png": "[encoded data removed]",
      "text/plain": [
       "<Figure size 432x288 with 2 Axes>"
      ]
     },
     "metadata": {
      "needs_background": "light"
     },
     "output_type": "display_data"
    }
   ],
   "source": [
    "test=gray_imgs[6]\n",
    "test=test.reshape(1,32,32,1)\n",
    "session=tf.Session()\n",
    "result=session.run(tf.argmax(tf.nn.softmax(model.predict(test),-1),-1))\n",
    "result = result.reshape(32,32)\n",
    "result_array=np.zeros((32,32,3),'uint8')\n",
    "cent=np.uint8(km.cluster_centers_)\n",
    "for i in range(32):\n",
    "    for j in range(32):\n",
    "        result_array[i,j,:] = cent[result[i][j]]\n",
    "image.fromarray(result_array)\n",
    "\n",
    "plt.subplot(121)\n",
    "plt.imshow(image.fromarray(result_array))\n",
    "plt.subplot(122)\n",
    "plt.imshow(image.fromarray(pixel_array[6]))"
   ]
  },
  {
   "cell_type": "code",
   "execution_count": 29,
   "metadata": {},
   "outputs": [
    {
     "data": {
      "text/plain": [
       "<matplotlib.image.AxesImage at 0x15f868358>"
      ]
     },
     "execution_count": 29,
     "metadata": {},
     "output_type": "execute_result"
    },
    {
     "data": {
      "image/png": "[encoded data removed]",
      "text/plain": [
       "<Figure size 432x288 with 2 Axes>"
      ]
     },
     "metadata": {
      "needs_background": "light"
     },
     "output_type": "display_data"
    }
   ],
   "source": [
    "test=gray_imgs[7]\n",
    "test=test.reshape(1,32,32,1)\n",
    "session=tf.Session()\n",
    "result=session.run(tf.argmax(tf.nn.softmax(model.predict(test),-1),-1))\n",
    "result = result.reshape(32,32)\n",
    "result_array=np.zeros((32,32,3),'uint8')\n",
    "cent=np.uint8(km.cluster_centers_)\n",
    "for i in range(32):\n",
    "    for j in range(32):\n",
    "        result_array[i,j,:] = cent[result[i][j]]\n",
    "image.fromarray(result_array)\n",
    "\n",
    "plt.subplot(121)\n",
    "plt.imshow(image.fromarray(result_array))\n",
    "plt.subplot(122)\n",
    "plt.imshow(image.fromarray(pixel_array[7]))"
   ]
  },
  {
   "cell_type": "code",
   "execution_count": 30,
   "metadata": {},
   "outputs": [
    {
     "data": {
      "text/plain": [
       "<matplotlib.image.AxesImage at 0x15f99e198>"
      ]
     },
     "execution_count": 30,
     "metadata": {},
     "output_type": "execute_result"
    },
    {
     "data": {
      "image/png": "[encoded data removed]",
      "text/plain": [
       "<Figure size 432x288 with 2 Axes>"
      ]
     },
     "metadata": {
      "needs_background": "light"
     },
     "output_type": "display_data"
    }
   ],
   "source": [
    "test=gray_imgs[8]\n",
    "test=test.reshape(1,32,32,1)\n",
    "session=tf.Session()\n",
    "result=session.run(tf.argmax(tf.nn.softmax(model.predict(test),-1),-1))\n",
    "result = result.reshape(32,32)\n",
    "result_array=np.zeros((32,32,3),'uint8')\n",
    "cent=np.uint8(km.cluster_centers_)\n",
    "for i in range(32):\n",
    "    for j in range(32):\n",
    "        result_array[i,j,:] = cent[result[i][j]]\n",
    "image.fromarray(result_array)\n",
    "\n",
    "plt.subplot(121)\n",
    "plt.imshow(image.fromarray(result_array))\n",
    "plt.subplot(122)\n",
    "plt.imshow(image.fromarray(pixel_array[8]))"
   ]
  },
  {
   "cell_type": "code",
   "execution_count": 31,
   "metadata": {},
   "outputs": [
    {
     "data": {
      "text/plain": [
       "<matplotlib.image.AxesImage at 0x15fa88f98>"
      ]
     },
     "execution_count": 31,
     "metadata": {},
     "output_type": "execute_result"
    },
    {
     "data": {
      "image/png": "[encoded data removed]",
      "text/plain": [
       "<Figure size 432x288 with 2 Axes>"
      ]
     },
     "metadata": {
      "needs_background": "light"
     },
     "output_type": "display_data"
    }
   ],
   "source": [
    "test=gray_imgs[9]\n",
    "test=test.reshape(1,32,32,1)\n",
    "session=tf.Session()\n",
    "result=session.run(tf.argmax(tf.nn.softmax(model.predict(test),-1),-1))\n",
    "result = result.reshape(32,32)\n",
    "result_array=np.zeros((32,32,3),'uint8')\n",
    "cent=np.uint8(km.cluster_centers_)\n",
    "for i in range(32):\n",
    "    for j in range(32):\n",
    "        result_array[i,j,:] = cent[result[i][j]]\n",
    "image.fromarray(result_array)\n",
    "\n",
    "plt.subplot(121)\n",
    "plt.imshow(image.fromarray(result_array))\n",
    "plt.subplot(122)\n",
    "plt.imshow(image.fromarray(pixel_array[9]))"
   ]
  }
 ],
 "metadata": {
  "kernelspec": {
   "display_name": "Python 3",
   "language": "python",
   "name": "python3"
  },
  "language_info": {
   "codemirror_mode": {
    "name": "ipython",
    "version": 3
   },
   "file_extension": ".py",
   "mimetype": "text/x-python",
   "name": "python",
   "nbconvert_exporter": "python",
   "pygments_lexer": "ipython3",
   "version": "3.6.7"
  }
 },
 "nbformat": 4,
 "nbformat_minor": 2
}
