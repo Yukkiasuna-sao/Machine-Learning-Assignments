{
 "cells": [
  {
   "cell_type": "code",
   "execution_count": 1,
   "metadata": {},
   "outputs": [],
   "source": [
    "def unpickle(file):\n",
    "    import pickle\n",
    "    with open(file, 'rb') as fo:\n",
    "        dict = pickle.load(fo, encoding='bytes')\n",
    "    return dict"
   ]
  },
  {
   "cell_type": "code",
   "execution_count": 2,
   "metadata": {},
   "outputs": [],
   "source": [
    "baches_meta = unpickle('cifar-10-batches-py/batches.meta')"
   ]
  },
  {
   "cell_type": "code",
   "execution_count": 3,
   "metadata": {},
   "outputs": [
    {
     "data": {
      "text/plain": [
       "2"
      ]
     },
     "execution_count": 3,
     "metadata": {},
     "output_type": "execute_result"
    }
   ],
   "source": [
    "class_name=baches_meta[b'label_names']\n",
    "dict_class={}\n",
    "j=0\n",
    "for i in class_name:\n",
    "    dict_class[i]=j\n",
    "    j+=1\n",
    "dict_class[b'bird']"
   ]
  },
  {
   "cell_type": "code",
   "execution_count": 4,
   "metadata": {},
   "outputs": [
    {
     "name": "stdout",
     "output_type": "stream",
     "text": [
      "(1000, 3072)\n",
      "test size =  1000\n",
      "(1032, 3072)\n",
      "(1010, 3072)\n",
      "(965, 3072)\n",
      "(1041, 3072)\n",
      "(952, 3072)\n",
      "train size = 5000\n"
     ]
    }
   ],
   "source": [
    "import numpy as np\n",
    "test_batch=unpickle('cifar-10-batches-py/test_batch')\n",
    "test_labels=test_batch[b'labels']\n",
    "test_data=test_batch[b'data']\n",
    "a=np.argwhere(test_labels==np.uint8(dict_class[b'bird']))\n",
    "bird_test_index=np.ndarray.flatten(a)\n",
    "bird_test_data=test_data[bird_test_index]\n",
    "print(bird_test_data.shape)\n",
    "print('test size = ', bird_test_data.shape[0])\n",
    "\n",
    "train_batch1 = unpickle('cifar-10-batches-py/data_batch_1')\n",
    "train_label1 = train_batch1[b'labels']\n",
    "train_data1 = train_batch1[b'data']\n",
    "a=np.argwhere(train_label1==np.uint8(dict_class[b'bird']))\n",
    "bird_train_index1=np.ndarray.flatten(a)\n",
    "bird_train_data1=train_data1[bird_train_index1]\n",
    "print(bird_train_data1.shape)\n",
    "\n",
    "train_batch2 = unpickle('cifar-10-batches-py/data_batch_2')\n",
    "train_label2 = train_batch2[b'labels']\n",
    "train_data2 = train_batch2[b'data']\n",
    "a=np.argwhere(train_label2==np.uint8(dict_class[b'bird']))\n",
    "bird_train_index2=np.ndarray.flatten(a)\n",
    "bird_train_data2=train_data2[bird_train_index2]\n",
    "print(bird_train_data2.shape) \n",
    "\n",
    "train_batch3 = unpickle('cifar-10-batches-py/data_batch_3')\n",
    "train_label3 = train_batch3[b'labels']\n",
    "train_data3 = train_batch3[b'data']\n",
    "a=np.argwhere(train_label3==np.uint8(dict_class[b'bird']))\n",
    "bird_train_index3=np.ndarray.flatten(a)\n",
    "bird_train_data3=train_data3[bird_train_index3]\n",
    "print(bird_train_data3.shape) \n",
    "\n",
    "train_batch4 = unpickle('cifar-10-batches-py/data_batch_4')\n",
    "train_label4 = train_batch4[b'labels']\n",
    "train_data4 = train_batch4[b'data']\n",
    "a=np.argwhere(train_label4==np.uint8(dict_class[b'bird']))\n",
    "bird_train_index4=np.ndarray.flatten(a)\n",
    "bird_train_data4=train_data4[bird_train_index4]\n",
    "print(bird_train_data4.shape) \n",
    "\n",
    "train_batch5 = unpickle('cifar-10-batches-py/data_batch_5')\n",
    "train_label5 = train_batch5[b'labels']\n",
    "train_data5 = train_batch5[b'data']\n",
    "a=np.argwhere(train_label5==np.uint8(dict_class[b'bird']))\n",
    "bird_train_index5=np.ndarray.flatten(a)\n",
    "bird_train_data5=train_data5[bird_train_index5]\n",
    "print(bird_train_data5.shape) \n",
    "print('train size =', bird_train_data1.shape[0]+bird_train_data2.shape[0]+bird_train_data3.shape[0]+bird_train_data4.shape[0]+bird_train_data5.shape[0])"
   ]
  },
  {
   "cell_type": "code",
   "execution_count": 5,
   "metadata": {},
   "outputs": [
    {
     "data": {
      "text/plain": [
       "(6000, 3072)"
      ]
     },
     "execution_count": 5,
     "metadata": {},
     "output_type": "execute_result"
    }
   ],
   "source": [
    "bird_data = np.concatenate((bird_test_data, bird_train_data1, bird_train_data2, bird_train_data3, bird_train_data4, bird_train_data5), axis=0)\n",
    "bird_data.shape"
   ]
  },
  {
   "cell_type": "markdown",
   "metadata": {},
   "source": [
    "The image is stored in row-major order, so that the first 32 entries of the array are the red channel values of the first row of the image."
   ]
  },
  {
   "cell_type": "code",
   "execution_count": 6,
   "metadata": {},
   "outputs": [
    {
     "data": {
      "text/plain": [
       "array([[100,  68, 116, ...,  68,  94, 100],\n",
       "       [ 66,  66,  64, ..., 146, 145, 144],\n",
       "       [201, 187, 146, ...,  28,  21,  11],\n",
       "       ...,\n",
       "       [ 84,  79,  87, ...,  31,  54,  53],\n",
       "       [188, 186, 187, ..., 186, 171, 170],\n",
       "       [145, 151, 156, ...,  56,  53,  54]], dtype=uint8)"
      ]
     },
     "execution_count": 6,
     "metadata": {},
     "output_type": "execute_result"
    }
   ],
   "source": [
    "bird_data"
   ]
  },
  {
   "cell_type": "code",
   "execution_count": 7,
   "metadata": {},
   "outputs": [],
   "source": [
    "pixel_list = []\n",
    "for i in range(6000):\n",
    "    for j in range(1024):\n",
    "        red = bird_data[i][j]\n",
    "        green = bird_data[i][j+1024]\n",
    "        blue = bird_data[i][j+2048]\n",
    "        pixel = np.array([red, green, blue])\n",
    "        pixel_list.append(pixel) "
   ]
  },
  {
   "cell_type": "code",
   "execution_count": 8,
   "metadata": {
    "scrolled": true
   },
   "outputs": [
    {
     "name": "stdout",
     "output_type": "stream",
     "text": [
      "[[100 103  74]\n",
      " [ 68  91  65]\n",
      " [116 162 109]\n",
      " ...\n",
      " [ 39  41  56]\n",
      " [ 36  38  53]\n",
      " [ 37  39  54]]\n",
      "(6144000, 3)\n"
     ]
    }
   ],
   "source": [
    "pixel_array=np.array(pixel_list)\n",
    "print(pixel_array)\n",
    "print(pixel_array.shape)"
   ]
  },
  {
   "cell_type": "code",
   "execution_count": 9,
   "metadata": {},
   "outputs": [],
   "source": [
    "import PIL.Image as image\n",
    "from sklearn.cluster import KMeans\n",
    "km = KMeans(n_clusters=16)\n",
    "label = km.fit_predict(pixel_array)"
   ]
  },
  {
   "cell_type": "code",
   "execution_count": 10,
   "metadata": {},
   "outputs": [
    {
     "data": {
      "text/plain": [
       "array([[ 72.50314397,  75.52838611,  65.275731  ],\n",
       "       [214.21280694, 209.46739288, 196.83241482],\n",
       "       [165.37220359, 153.01328731,  94.73262104],\n",
       "       [ 51.98222586,  52.43475421,  38.57580578],\n",
       "       [241.47788759, 242.75448916, 241.17858337],\n",
       "       [116.45888483, 157.16905598, 201.67948854],\n",
       "       [127.66653196, 127.90807287, 117.07386025],\n",
       "       [ 20.59701364,  21.40834436,  17.48943408],\n",
       "       [101.53639134,  94.76288016,  49.4171721 ],\n",
       "       [177.5757335 , 178.61678444, 173.98197916],\n",
       "       [101.09123431, 102.16551235,  90.87258656],\n",
       "       [ 64.58738037, 109.57917487, 157.53074774],\n",
       "       [154.18819349, 153.04386037, 141.08841276],\n",
       "       [131.28702944, 127.30111432,  73.28020758],\n",
       "       [198.03074297, 181.35505274, 131.73896681],\n",
       "       [170.61489457, 201.00890195, 230.07098167]])"
      ]
     },
     "execution_count": 10,
     "metadata": {},
     "output_type": "execute_result"
    }
   ],
   "source": [
    "km.cluster_centers_"
   ]
  },
  {
   "cell_type": "code",
   "execution_count": 11,
   "metadata": {},
   "outputs": [
    {
     "data": {
      "text/plain": [
       "dtype('uint8')"
      ]
     },
     "execution_count": 11,
     "metadata": {},
     "output_type": "execute_result"
    }
   ],
   "source": [
    "pixel_array.dtype\n",
    "# out = np.zeros((4,), dtype=np.ndarray)"
   ]
  },
  {
   "cell_type": "code",
   "execution_count": 12,
   "metadata": {},
   "outputs": [
    {
     "data": {
      "text/plain": [
       "array([[0, 0, 0, ..., 0, 0, 0],\n",
       "       [1, 0, 0, ..., 0, 0, 0],\n",
       "       [0, 0, 0, ..., 0, 0, 0],\n",
       "       ...,\n",
       "       [0, 0, 0, ..., 0, 0, 0],\n",
       "       [0, 0, 0, ..., 0, 0, 0],\n",
       "       [0, 0, 0, ..., 0, 0, 0]])"
      ]
     },
     "execution_count": 12,
     "metadata": {},
     "output_type": "execute_result"
    }
   ],
   "source": [
    "label_list = []\n",
    "for x in label:\n",
    "        out = np.zeros((16,), dtype=int)\n",
    "        out[x] += 1\n",
    "        label_list.append(out)\n",
    "label_array = np.array(label_list)\n",
    "label_array"
   ]
  },
  {
   "cell_type": "code",
   "execution_count": 13,
   "metadata": {},
   "outputs": [],
   "source": [
    "label_array=label_array.reshape(6000, 32, 32, 16)"
   ]
  },
  {
   "cell_type": "code",
   "execution_count": 14,
   "metadata": {},
   "outputs": [
    {
     "data": {
      "text/plain": [
       "array([[[[0, 0, 0, ..., 0, 0, 0],\n",
       "         [1, 0, 0, ..., 0, 0, 0],\n",
       "         [0, 0, 0, ..., 0, 0, 0],\n",
       "         ...,\n",
       "         [0, 0, 0, ..., 0, 0, 0],\n",
       "         [0, 0, 0, ..., 0, 0, 0],\n",
       "         [0, 0, 0, ..., 0, 0, 0]],\n",
       "\n",
       "        [[0, 0, 0, ..., 0, 0, 0],\n",
       "         [0, 0, 0, ..., 0, 0, 0],\n",
       "         [0, 0, 0, ..., 0, 0, 0],\n",
       "         ...,\n",
       "         [0, 0, 0, ..., 0, 0, 0],\n",
       "         [0, 0, 0, ..., 0, 0, 0],\n",
       "         [0, 0, 0, ..., 0, 0, 0]],\n",
       "\n",
       "        [[0, 0, 0, ..., 0, 0, 0],\n",
       "         [0, 0, 0, ..., 0, 0, 0],\n",
       "         [0, 0, 0, ..., 0, 0, 0],\n",
       "         ...,\n",
       "         [0, 0, 0, ..., 0, 0, 0],\n",
       "         [0, 0, 0, ..., 0, 0, 0],\n",
       "         [0, 0, 0, ..., 0, 0, 0]],\n",
       "\n",
       "        ...,\n",
       "\n",
       "        [[0, 0, 0, ..., 0, 0, 0],\n",
       "         [0, 0, 0, ..., 0, 0, 0],\n",
       "         [0, 0, 0, ..., 0, 0, 0],\n",
       "         ...,\n",
       "         [0, 0, 1, ..., 0, 0, 0],\n",
       "         [0, 0, 0, ..., 0, 0, 0],\n",
       "         [0, 0, 0, ..., 0, 0, 0]],\n",
       "\n",
       "        [[0, 0, 0, ..., 0, 0, 0],\n",
       "         [0, 0, 0, ..., 0, 0, 0],\n",
       "         [0, 0, 0, ..., 0, 0, 0],\n",
       "         ...,\n",
       "         [0, 0, 1, ..., 0, 0, 0],\n",
       "         [0, 0, 0, ..., 0, 1, 0],\n",
       "         [0, 0, 0, ..., 0, 1, 0]],\n",
       "\n",
       "        [[0, 0, 0, ..., 0, 0, 0],\n",
       "         [0, 0, 0, ..., 0, 0, 0],\n",
       "         [0, 0, 0, ..., 0, 0, 0],\n",
       "         ...,\n",
       "         [0, 0, 0, ..., 0, 0, 0],\n",
       "         [0, 0, 0, ..., 1, 0, 0],\n",
       "         [0, 0, 1, ..., 0, 0, 0]]],\n",
       "\n",
       "\n",
       "       [[[1, 0, 0, ..., 0, 0, 0],\n",
       "         [1, 0, 0, ..., 0, 0, 0],\n",
       "         [1, 0, 0, ..., 0, 0, 0],\n",
       "         ...,\n",
       "         [0, 0, 0, ..., 0, 0, 0],\n",
       "         [0, 0, 0, ..., 0, 0, 0],\n",
       "         [0, 0, 0, ..., 0, 0, 0]],\n",
       "\n",
       "        [[1, 0, 0, ..., 0, 0, 0],\n",
       "         [1, 0, 0, ..., 0, 0, 0],\n",
       "         [0, 0, 0, ..., 0, 0, 0],\n",
       "         ...,\n",
       "         [0, 0, 0, ..., 0, 0, 0],\n",
       "         [0, 0, 0, ..., 0, 0, 0],\n",
       "         [0, 0, 0, ..., 0, 0, 0]],\n",
       "\n",
       "        [[0, 0, 0, ..., 0, 0, 0],\n",
       "         [1, 0, 0, ..., 0, 0, 0],\n",
       "         [0, 0, 0, ..., 0, 0, 0],\n",
       "         ...,\n",
       "         [1, 0, 0, ..., 0, 0, 0],\n",
       "         [1, 0, 0, ..., 0, 0, 0],\n",
       "         [1, 0, 0, ..., 0, 0, 0]],\n",
       "\n",
       "        ...,\n",
       "\n",
       "        [[0, 0, 0, ..., 0, 0, 0],\n",
       "         [0, 0, 0, ..., 0, 0, 0],\n",
       "         [1, 0, 0, ..., 0, 0, 0],\n",
       "         ...,\n",
       "         [0, 0, 0, ..., 0, 1, 0],\n",
       "         [0, 0, 0, ..., 0, 1, 0],\n",
       "         [0, 0, 0, ..., 0, 1, 0]],\n",
       "\n",
       "        [[0, 0, 0, ..., 0, 0, 0],\n",
       "         [0, 0, 0, ..., 0, 0, 0],\n",
       "         [0, 0, 0, ..., 0, 0, 0],\n",
       "         ...,\n",
       "         [0, 0, 0, ..., 0, 1, 0],\n",
       "         [0, 0, 0, ..., 0, 1, 0],\n",
       "         [0, 0, 0, ..., 0, 1, 0]],\n",
       "\n",
       "        [[0, 0, 0, ..., 0, 0, 0],\n",
       "         [0, 0, 0, ..., 0, 0, 0],\n",
       "         [0, 0, 0, ..., 0, 0, 0],\n",
       "         ...,\n",
       "         [0, 0, 0, ..., 0, 1, 0],\n",
       "         [0, 0, 0, ..., 0, 1, 0],\n",
       "         [0, 0, 0, ..., 0, 1, 0]]],\n",
       "\n",
       "\n",
       "       [[[0, 1, 0, ..., 0, 0, 0],\n",
       "         [0, 0, 0, ..., 0, 1, 0],\n",
       "         [0, 0, 1, ..., 0, 0, 0],\n",
       "         ...,\n",
       "         [0, 0, 0, ..., 0, 0, 0],\n",
       "         [0, 0, 0, ..., 0, 0, 0],\n",
       "         [0, 0, 0, ..., 0, 0, 0]],\n",
       "\n",
       "        [[0, 1, 0, ..., 0, 0, 0],\n",
       "         [0, 0, 1, ..., 0, 0, 0],\n",
       "         [0, 0, 0, ..., 1, 0, 0],\n",
       "         ...,\n",
       "         [0, 0, 0, ..., 0, 0, 0],\n",
       "         [0, 0, 0, ..., 0, 0, 0],\n",
       "         [0, 0, 0, ..., 0, 0, 0]],\n",
       "\n",
       "        [[0, 1, 0, ..., 0, 0, 0],\n",
       "         [0, 0, 1, ..., 0, 0, 0],\n",
       "         [0, 0, 0, ..., 0, 0, 0],\n",
       "         ...,\n",
       "         [0, 0, 0, ..., 0, 0, 0],\n",
       "         [0, 0, 0, ..., 0, 0, 0],\n",
       "         [1, 0, 0, ..., 0, 0, 0]],\n",
       "\n",
       "        ...,\n",
       "\n",
       "        [[0, 0, 0, ..., 0, 0, 0],\n",
       "         [0, 0, 0, ..., 0, 0, 0],\n",
       "         [0, 0, 0, ..., 0, 0, 0],\n",
       "         ...,\n",
       "         [0, 0, 0, ..., 0, 0, 0],\n",
       "         [0, 0, 0, ..., 0, 0, 0],\n",
       "         [0, 0, 0, ..., 0, 0, 0]],\n",
       "\n",
       "        [[0, 0, 0, ..., 0, 0, 0],\n",
       "         [1, 0, 0, ..., 0, 0, 0],\n",
       "         [0, 0, 0, ..., 0, 0, 0],\n",
       "         ...,\n",
       "         [1, 0, 0, ..., 0, 0, 0],\n",
       "         [0, 0, 0, ..., 0, 0, 0],\n",
       "         [0, 0, 0, ..., 0, 0, 0]],\n",
       "\n",
       "        [[0, 0, 0, ..., 0, 0, 0],\n",
       "         [0, 0, 0, ..., 0, 0, 0],\n",
       "         [0, 0, 0, ..., 0, 0, 0],\n",
       "         ...,\n",
       "         [0, 0, 0, ..., 0, 0, 0],\n",
       "         [0, 0, 0, ..., 0, 0, 0],\n",
       "         [0, 0, 0, ..., 0, 0, 0]]],\n",
       "\n",
       "\n",
       "       ...,\n",
       "\n",
       "\n",
       "       [[[0, 0, 0, ..., 0, 0, 0],\n",
       "         [1, 0, 0, ..., 0, 0, 0],\n",
       "         [1, 0, 0, ..., 0, 0, 0],\n",
       "         ...,\n",
       "         [0, 0, 0, ..., 1, 0, 0],\n",
       "         [0, 0, 0, ..., 1, 0, 0],\n",
       "         [0, 0, 0, ..., 1, 0, 0]],\n",
       "\n",
       "        [[0, 0, 0, ..., 0, 0, 0],\n",
       "         [0, 0, 0, ..., 0, 0, 0],\n",
       "         [0, 0, 0, ..., 0, 0, 0],\n",
       "         ...,\n",
       "         [0, 0, 0, ..., 0, 0, 0],\n",
       "         [0, 0, 0, ..., 0, 0, 0],\n",
       "         [0, 0, 0, ..., 1, 0, 0]],\n",
       "\n",
       "        [[0, 0, 0, ..., 0, 0, 0],\n",
       "         [0, 0, 0, ..., 0, 0, 0],\n",
       "         [1, 0, 0, ..., 0, 0, 0],\n",
       "         ...,\n",
       "         [0, 0, 0, ..., 1, 0, 0],\n",
       "         [0, 0, 0, ..., 1, 0, 0],\n",
       "         [0, 0, 0, ..., 0, 0, 0]],\n",
       "\n",
       "        ...,\n",
       "\n",
       "        [[0, 0, 0, ..., 0, 0, 0],\n",
       "         [0, 0, 0, ..., 0, 0, 0],\n",
       "         [1, 0, 0, ..., 0, 0, 0],\n",
       "         ...,\n",
       "         [0, 0, 0, ..., 1, 0, 0],\n",
       "         [0, 0, 0, ..., 0, 0, 0],\n",
       "         [0, 0, 0, ..., 0, 0, 0]],\n",
       "\n",
       "        [[0, 0, 0, ..., 0, 0, 0],\n",
       "         [1, 0, 0, ..., 0, 0, 0],\n",
       "         [0, 0, 0, ..., 0, 0, 0],\n",
       "         ...,\n",
       "         [0, 0, 0, ..., 0, 0, 0],\n",
       "         [0, 0, 0, ..., 0, 0, 0],\n",
       "         [1, 0, 0, ..., 0, 0, 0]],\n",
       "\n",
       "        [[0, 0, 0, ..., 0, 0, 0],\n",
       "         [0, 0, 0, ..., 0, 0, 0],\n",
       "         [0, 0, 0, ..., 0, 0, 0],\n",
       "         ...,\n",
       "         [0, 0, 0, ..., 0, 0, 0],\n",
       "         [1, 0, 0, ..., 0, 0, 0],\n",
       "         [1, 0, 0, ..., 0, 0, 0]]],\n",
       "\n",
       "\n",
       "       [[[0, 1, 0, ..., 0, 0, 0],\n",
       "         [0, 0, 0, ..., 0, 0, 0],\n",
       "         [0, 1, 0, ..., 0, 0, 0],\n",
       "         ...,\n",
       "         [0, 0, 0, ..., 0, 0, 0],\n",
       "         [0, 0, 0, ..., 0, 0, 0],\n",
       "         [0, 0, 0, ..., 0, 0, 0]],\n",
       "\n",
       "        [[0, 0, 0, ..., 0, 0, 0],\n",
       "         [0, 0, 0, ..., 0, 0, 0],\n",
       "         [0, 0, 0, ..., 0, 0, 0],\n",
       "         ...,\n",
       "         [0, 0, 0, ..., 0, 0, 0],\n",
       "         [0, 0, 0, ..., 0, 0, 0],\n",
       "         [0, 0, 0, ..., 0, 0, 0]],\n",
       "\n",
       "        [[0, 0, 0, ..., 0, 0, 0],\n",
       "         [0, 0, 0, ..., 0, 0, 0],\n",
       "         [0, 0, 0, ..., 0, 0, 0],\n",
       "         ...,\n",
       "         [0, 0, 0, ..., 0, 0, 0],\n",
       "         [0, 0, 0, ..., 0, 0, 0],\n",
       "         [0, 0, 0, ..., 0, 0, 0]],\n",
       "\n",
       "        ...,\n",
       "\n",
       "        [[0, 1, 0, ..., 0, 0, 0],\n",
       "         [0, 0, 0, ..., 0, 0, 0],\n",
       "         [0, 0, 0, ..., 0, 0, 0],\n",
       "         ...,\n",
       "         [0, 0, 0, ..., 0, 0, 0],\n",
       "         [0, 1, 0, ..., 0, 0, 0],\n",
       "         [0, 1, 0, ..., 0, 0, 0]],\n",
       "\n",
       "        [[0, 1, 0, ..., 0, 0, 0],\n",
       "         [0, 0, 0, ..., 0, 0, 0],\n",
       "         [0, 0, 0, ..., 0, 0, 0],\n",
       "         ...,\n",
       "         [0, 0, 0, ..., 0, 0, 0],\n",
       "         [0, 0, 0, ..., 0, 0, 0],\n",
       "         [0, 0, 0, ..., 0, 0, 0]],\n",
       "\n",
       "        [[0, 0, 0, ..., 0, 0, 0],\n",
       "         [0, 0, 0, ..., 0, 0, 0],\n",
       "         [0, 0, 0, ..., 0, 0, 0],\n",
       "         ...,\n",
       "         [0, 0, 0, ..., 0, 0, 0],\n",
       "         [0, 0, 0, ..., 0, 0, 0],\n",
       "         [0, 0, 0, ..., 0, 0, 0]]],\n",
       "\n",
       "\n",
       "       [[[0, 0, 0, ..., 0, 0, 0],\n",
       "         [0, 0, 0, ..., 0, 0, 0],\n",
       "         [0, 0, 0, ..., 0, 0, 0],\n",
       "         ...,\n",
       "         [0, 0, 0, ..., 0, 0, 0],\n",
       "         [0, 0, 0, ..., 0, 0, 0],\n",
       "         [0, 0, 0, ..., 0, 0, 0]],\n",
       "\n",
       "        [[0, 0, 0, ..., 0, 0, 0],\n",
       "         [0, 0, 0, ..., 0, 0, 0],\n",
       "         [0, 0, 0, ..., 0, 0, 0],\n",
       "         ...,\n",
       "         [0, 0, 0, ..., 0, 0, 0],\n",
       "         [0, 0, 0, ..., 0, 0, 0],\n",
       "         [0, 0, 0, ..., 0, 0, 0]],\n",
       "\n",
       "        [[0, 0, 0, ..., 0, 0, 1],\n",
       "         [0, 0, 0, ..., 0, 0, 1],\n",
       "         [0, 0, 0, ..., 0, 0, 1],\n",
       "         ...,\n",
       "         [0, 0, 0, ..., 0, 0, 0],\n",
       "         [0, 0, 0, ..., 0, 0, 0],\n",
       "         [0, 0, 0, ..., 0, 0, 0]],\n",
       "\n",
       "        ...,\n",
       "\n",
       "        [[1, 0, 0, ..., 0, 0, 0],\n",
       "         [1, 0, 0, ..., 0, 0, 0],\n",
       "         [1, 0, 0, ..., 0, 0, 0],\n",
       "         ...,\n",
       "         [0, 0, 0, ..., 0, 0, 0],\n",
       "         [0, 0, 0, ..., 0, 0, 0],\n",
       "         [0, 0, 0, ..., 0, 0, 0]],\n",
       "\n",
       "        [[0, 0, 0, ..., 0, 0, 0],\n",
       "         [0, 0, 0, ..., 0, 0, 0],\n",
       "         [0, 0, 0, ..., 0, 0, 0],\n",
       "         ...,\n",
       "         [0, 0, 0, ..., 0, 0, 0],\n",
       "         [0, 0, 0, ..., 0, 0, 0],\n",
       "         [0, 0, 0, ..., 0, 0, 0]],\n",
       "\n",
       "        [[0, 0, 0, ..., 0, 0, 0],\n",
       "         [0, 0, 0, ..., 0, 0, 0],\n",
       "         [0, 0, 0, ..., 0, 0, 0],\n",
       "         ...,\n",
       "         [0, 0, 0, ..., 0, 0, 0],\n",
       "         [0, 0, 0, ..., 0, 0, 0],\n",
       "         [0, 0, 0, ..., 0, 0, 0]]]])"
      ]
     },
     "execution_count": 14,
     "metadata": {},
     "output_type": "execute_result"
    }
   ],
   "source": [
    "label_array # output"
   ]
  },
  {
   "cell_type": "code",
   "execution_count": 15,
   "metadata": {},
   "outputs": [
    {
     "data": {
      "image/png": "[encoded data removed]",
      "text/plain": [
       "<PIL.Image.Image image mode=RGB size=32x32 at 0x14BBC96D8>"
      ]
     },
     "execution_count": 15,
     "metadata": {},
     "output_type": "execute_result"
    }
   ],
   "source": [
    "pixel_array=pixel_array.reshape(6000,32,32,3)\n",
    "org_img = image.fromarray(pixel_array[0])\n",
    "org_img"
   ]
  },
  {
   "cell_type": "code",
   "execution_count": 16,
   "metadata": {},
   "outputs": [
    {
     "data": {
      "image/png": "[encoded data removed]",
      "text/plain": [
       "<PIL.Image.Image image mode=L size=32x32 at 0x156EE35C0>"
      ]
     },
     "execution_count": 16,
     "metadata": {},
     "output_type": "execute_result"
    }
   ],
   "source": [
    "gray_img = org_img.convert(mode='L')\n",
    "gray_img"
   ]
  },
  {
   "cell_type": "code",
   "execution_count": 17,
   "metadata": {},
   "outputs": [],
   "source": [
    "a = map(lambda x: image.fromarray(x), pixel_array)\n",
    "gray_imgs = map(lambda x: x.convert(mode='L'), a)"
   ]
  },
  {
   "cell_type": "code",
   "execution_count": 18,
   "metadata": {},
   "outputs": [],
   "source": [
    "gray_imgs = list(gray_imgs)\n",
    "gray_imgs = np.array(list(map(lambda x: np.array(x), gray_imgs)))"
   ]
  },
  {
   "cell_type": "code",
   "execution_count": 19,
   "metadata": {
    "scrolled": true
   },
   "outputs": [
    {
     "data": {
      "text/plain": [
       "(6000, 32, 32)"
      ]
     },
     "execution_count": 19,
     "metadata": {},
     "output_type": "execute_result"
    }
   ],
   "source": [
    "gray_imgs.shape"
   ]
  },
  {
   "cell_type": "code",
   "execution_count": 20,
   "metadata": {},
   "outputs": [],
   "source": [
    "gray_imgs = gray_imgs.reshape(6000, 32, 32, 1)\n",
    "import tensorflow as tf\n",
    "def ce(y_true, y_pred):\n",
    "        return tf.nn.softmax_cross_entropy_with_logits(labels=y_true,logits=y_pred,dim=3)"
   ]
  },
  {
   "cell_type": "code",
   "execution_count": 21,
   "metadata": {},
   "outputs": [
    {
     "name": "stderr",
     "output_type": "stream",
     "text": [
      "Using TensorFlow backend.\n"
     ]
    },
    {
     "name": "stdout",
     "output_type": "stream",
     "text": [
      "WARNING:tensorflow:From <ipython-input-20-b31499b2da01>:4: softmax_cross_entropy_with_logits (from tensorflow.python.ops.nn_ops) is deprecated and will be removed in a future version.\n",
      "Instructions for updating:\n",
      "\n",
      "Future major versions of TensorFlow will allow gradients to flow\n",
      "into the labels input on backprop by default.\n",
      "\n",
      "See `tf.nn.softmax_cross_entropy_with_logits_v2`.\n",
      "\n",
      "Train on 6000 samples, validate on 1000 samples\n",
      "Epoch 1/30\n",
      "6000/6000 [==============================] - 40s 7ms/step - loss: 131.1045 - acc: 0.0706 - val_loss: 95.3171 - val_acc: 0.0768\n",
      "Epoch 2/30\n",
      "6000/6000 [==============================] - 30s 5ms/step - loss: 41.4449 - acc: 0.0841 - val_loss: 9.1866 - val_acc: 0.0872\n",
      "Epoch 3/30\n",
      "6000/6000 [==============================] - 35s 6ms/step - loss: 5.0183 - acc: 0.0887 - val_loss: 3.1906 - val_acc: 0.0958\n",
      "Epoch 4/30\n",
      "6000/6000 [==============================] - 33s 6ms/step - loss: 2.9046 - acc: 0.1054 - val_loss: 2.7259 - val_acc: 0.1208\n",
      "Epoch 5/30\n",
      "6000/6000 [==============================] - 32s 5ms/step - loss: 2.6706 - acc: 0.1292 - val_loss: 2.5979 - val_acc: 0.1490\n",
      "Epoch 6/30\n",
      "6000/6000 [==============================] - 32s 5ms/step - loss: 2.5555 - acc: 0.1595 - val_loss: 2.4720 - val_acc: 0.1845\n",
      "Epoch 7/30\n",
      "6000/6000 [==============================] - 31s 5ms/step - loss: 2.4379 - acc: 0.1940 - val_loss: 2.3518 - val_acc: 0.2247\n",
      "Epoch 8/30\n",
      "6000/6000 [==============================] - 32s 5ms/step - loss: 2.3234 - acc: 0.2306 - val_loss: 2.2281 - val_acc: 0.2648\n",
      "Epoch 9/30\n",
      "6000/6000 [==============================] - 33s 5ms/step - loss: 2.2143 - acc: 0.2645 - val_loss: 2.1238 - val_acc: 0.3000\n",
      "Epoch 10/30\n",
      "6000/6000 [==============================] - 34s 6ms/step - loss: 2.1176 - acc: 0.2949 - val_loss: 2.0340 - val_acc: 0.3283\n",
      "Epoch 11/30\n",
      "6000/6000 [==============================] - 34s 6ms/step - loss: 2.0331 - acc: 0.3220 - val_loss: 1.9517 - val_acc: 0.3550\n",
      "Epoch 12/30\n",
      "6000/6000 [==============================] - 50s 8ms/step - loss: 1.9553 - acc: 0.3472 - val_loss: 1.8775 - val_acc: 0.3816\n",
      "Epoch 13/30\n",
      "6000/6000 [==============================] - 34s 6ms/step - loss: 1.8873 - acc: 0.3699 - val_loss: 1.8094 - val_acc: 0.4041\n",
      "Epoch 14/30\n",
      "6000/6000 [==============================] - 40s 7ms/step - loss: 1.8234 - acc: 0.3911 - val_loss: 1.7436 - val_acc: 0.4275\n",
      "Epoch 15/30\n",
      "6000/6000 [==============================] - 36s 6ms/step - loss: 1.7643 - acc: 0.4114 - val_loss: 1.6826 - val_acc: 0.4465\n",
      "Epoch 16/30\n",
      "6000/6000 [==============================] - 30s 5ms/step - loss: 1.7048 - acc: 0.4320 - val_loss: 1.6189 - val_acc: 0.4697\n",
      "Epoch 17/30\n",
      "6000/6000 [==============================] - 31s 5ms/step - loss: 1.6470 - acc: 0.4518 - val_loss: 1.5705 - val_acc: 0.4894\n",
      "Epoch 18/30\n",
      "6000/6000 [==============================] - 31s 5ms/step - loss: 1.5949 - acc: 0.4711 - val_loss: 1.5057 - val_acc: 0.5097\n",
      "Epoch 19/30\n",
      "6000/6000 [==============================] - 31s 5ms/step - loss: 1.5382 - acc: 0.4902 - val_loss: 1.4501 - val_acc: 0.5309\n",
      "Epoch 20/30\n",
      "6000/6000 [==============================] - 31s 5ms/step - loss: 1.4803 - acc: 0.5113 - val_loss: 1.3809 - val_acc: 0.5532\n",
      "Epoch 21/30\n",
      "6000/6000 [==============================] - 32s 5ms/step - loss: 1.4222 - acc: 0.5327 - val_loss: 1.3251 - val_acc: 0.5727\n",
      "Epoch 22/30\n",
      "6000/6000 [==============================] - 37s 6ms/step - loss: 1.3616 - acc: 0.5548 - val_loss: 1.2644 - val_acc: 0.5970\n",
      "Epoch 23/30\n",
      "6000/6000 [==============================] - 34s 6ms/step - loss: 1.3053 - acc: 0.5759 - val_loss: 1.2091 - val_acc: 0.6165\n",
      "Epoch 24/30\n",
      "6000/6000 [==============================] - 33s 6ms/step - loss: 1.2516 - acc: 0.5958 - val_loss: 1.1611 - val_acc: 0.6333\n",
      "Epoch 25/30\n",
      "6000/6000 [==============================] - 33s 6ms/step - loss: 1.2040 - acc: 0.6125 - val_loss: 1.1142 - val_acc: 0.6537\n",
      "Epoch 26/30\n",
      "6000/6000 [==============================] - 30s 5ms/step - loss: 1.1534 - acc: 0.6312 - val_loss: 1.0641 - val_acc: 0.6707\n",
      "Epoch 27/30\n",
      "6000/6000 [==============================] - 33s 5ms/step - loss: 1.1079 - acc: 0.6472 - val_loss: 1.0156 - val_acc: 0.6882\n",
      "Epoch 28/30\n",
      "6000/6000 [==============================] - 30s 5ms/step - loss: 1.0591 - acc: 0.6659 - val_loss: 0.9739 - val_acc: 0.7025\n",
      "Epoch 29/30\n",
      "6000/6000 [==============================] - 32s 5ms/step - loss: 1.0152 - acc: 0.6819 - val_loss: 0.9364 - val_acc: 0.7144\n",
      "Epoch 30/30\n",
      "6000/6000 [==============================] - 32s 5ms/step - loss: 0.9770 - acc: 0.6956 - val_loss: 0.8951 - val_acc: 0.7299\n"
     ]
    },
    {
     "data": {
      "text/plain": [
       "<keras.callbacks.History at 0x15e7e7be0>"
      ]
     },
     "execution_count": 21,
     "metadata": {},
     "output_type": "execute_result"
    }
   ],
   "source": [
    "from keras.models import Sequential\n",
    "from keras.layers import Dense, Conv2D, Flatten, MaxPool2D, Reshape\n",
    "from keras.callbacks import ModelCheckpoint\n",
    "# create model\n",
    "model = Sequential()\n",
    "# add model layers\n",
    "model.add(Conv2D(20, kernel_size=5, activation='relu', input_shape=(32, 32, 1),padding='same'))\n",
    "model.add(MaxPool2D(pool_size=2, strides=2))\n",
    "# model.add(Conv2D(32, kernel_size=5, activation='relu',padding='same'))\n",
    "# model.add(MaxPool2D(pool_size=2, strides=2))\n",
    "model.add(Flatten())\n",
    "model.add(Dense(16384))\n",
    "model.add(Reshape((32, 32, 16)))\n",
    "# compile model using accuracy to measure model performance\n",
    "model.compile(optimizer='adam', loss=ce, metrics=['accuracy'])\n",
    "# train the model\n",
    "model.fit(gray_imgs, label_array, epochs=30, validation_data=(gray_imgs[0:1000], label_array[0:1000]), batch_size=500)"
   ]
  },
  {
   "cell_type": "code",
   "execution_count": 32,
   "metadata": {},
   "outputs": [
    {
     "data": {
      "text/plain": [
       "<matplotlib.image.AxesImage at 0x17082d978>"
      ]
     },
     "execution_count": 32,
     "metadata": {},
     "output_type": "execute_result"
    },
    {
     "data": {
      "image/png": "[encoded data removed]",
      "text/plain": [
       "<Figure size 432x288 with 2 Axes>"
      ]
     },
     "metadata": {
      "needs_background": "light"
     },
     "output_type": "display_data"
    }
   ],
   "source": [
    "test=gray_imgs[0]\n",
    "test=test.reshape(1,32,32,1)\n",
    "\n",
    "session=tf.Session()\n",
    "result=session.run(tf.argmax(tf.nn.softmax(model.predict(test),-1),-1))\n",
    "result = result.reshape(32,32)\n",
    "result_array=np.zeros((32,32,3),'uint8')\n",
    "cent=np.uint8(km.cluster_centers_)\n",
    "for i in range(32):\n",
    "    for j in range(32):\n",
    "        result_array[i,j,:] = cent[result[i][j]]\n",
    "image.fromarray(result_array)\n",
    "import matplotlib.pyplot as plt\n",
    "plt.subplot(121)\n",
    "plt.imshow(image.fromarray(result_array))\n",
    "plt.subplot(122)\n",
    "plt.imshow(image.fromarray(pixel_array[0]))"
   ]
  },
  {
   "cell_type": "code",
   "execution_count": 23,
   "metadata": {},
   "outputs": [
    {
     "data": {
      "text/plain": [
       "<matplotlib.image.AxesImage at 0x1577946a0>"
      ]
     },
     "execution_count": 23,
     "metadata": {},
     "output_type": "execute_result"
    },
    {
     "data": {
      "image/png": "[encoded data removed]",
      "text/plain": [
       "<Figure size 432x288 with 2 Axes>"
      ]
     },
     "metadata": {
      "needs_background": "light"
     },
     "output_type": "display_data"
    }
   ],
   "source": [
    "test=gray_imgs[1]\n",
    "test=test.reshape(1,32,32,1)\n",
    "session=tf.Session()\n",
    "result=session.run(tf.argmax(tf.nn.softmax(model.predict(test),-1),-1))\n",
    "result = result.reshape(32,32)\n",
    "result_array=np.zeros((32,32,3),'uint8')\n",
    "cent=np.uint8(km.cluster_centers_)\n",
    "for i in range(32):\n",
    "    for j in range(32):\n",
    "        result_array[i,j,:] = cent[result[i][j]]\n",
    "image.fromarray(result_array)\n",
    "\n",
    "plt.subplot(121)\n",
    "plt.imshow(image.fromarray(result_array))\n",
    "plt.subplot(122)\n",
    "plt.imshow(image.fromarray(pixel_array[1]))"
   ]
  },
  {
   "cell_type": "code",
   "execution_count": 24,
   "metadata": {},
   "outputs": [
    {
     "data": {
      "text/plain": [
       "<matplotlib.image.AxesImage at 0x1577caa90>"
      ]
     },
     "execution_count": 24,
     "metadata": {},
     "output_type": "execute_result"
    },
    {
     "data": {
      "image/png": "[encoded data removed]",
      "text/plain": [
       "<Figure size 432x288 with 2 Axes>"
      ]
     },
     "metadata": {
      "needs_background": "light"
     },
     "output_type": "display_data"
    }
   ],
   "source": [
    "test=gray_imgs[2]\n",
    "test=test.reshape(1,32,32,1)\n",
    "session=tf.Session()\n",
    "result=session.run(tf.argmax(tf.nn.softmax(model.predict(test),-1),-1))\n",
    "result = result.reshape(32,32)\n",
    "result_array=np.zeros((32,32,3),'uint8')\n",
    "cent=np.uint8(km.cluster_centers_)\n",
    "for i in range(32):\n",
    "    for j in range(32):\n",
    "        result_array[i,j,:] = cent[result[i][j]]\n",
    "image.fromarray(result_array)\n",
    "\n",
    "plt.subplot(121)\n",
    "plt.imshow(image.fromarray(result_array))\n",
    "plt.subplot(122)\n",
    "plt.imshow(image.fromarray(pixel_array[2]))"
   ]
  },
  {
   "cell_type": "code",
   "execution_count": 25,
   "metadata": {},
   "outputs": [
    {
     "data": {
      "text/plain": [
       "<matplotlib.image.AxesImage at 0x15f061f28>"
      ]
     },
     "execution_count": 25,
     "metadata": {},
     "output_type": "execute_result"
    },
    {
     "data": {
      "image/png": "[encoded data removed]",
      "text/plain": [
       "<Figure size 432x288 with 2 Axes>"
      ]
     },
     "metadata": {
      "needs_background": "light"
     },
     "output_type": "display_data"
    }
   ],
   "source": [
    "test=gray_imgs[3]\n",
    "test=test.reshape(1,32,32,1)\n",
    "session=tf.Session()\n",
    "result=session.run(tf.argmax(tf.nn.softmax(model.predict(test),-1),-1))\n",
    "result = result.reshape(32,32)\n",
    "result_array=np.zeros((32,32,3),'uint8')\n",
    "cent=np.uint8(km.cluster_centers_)\n",
    "for i in range(32):\n",
    "    for j in range(32):\n",
    "        result_array[i,j,:] = cent[result[i][j]]\n",
    "image.fromarray(result_array)\n",
    "\n",
    "plt.subplot(121)\n",
    "plt.imshow(image.fromarray(result_array))\n",
    "plt.subplot(122)\n",
    "plt.imshow(image.fromarray(pixel_array[3]))"
   ]
  },
  {
   "cell_type": "code",
   "execution_count": 33,
   "metadata": {},
   "outputs": [
    {
     "data": {
      "text/plain": [
       "<matplotlib.image.AxesImage at 0x1708a8470>"
      ]
     },
     "execution_count": 33,
     "metadata": {},
     "output_type": "execute_result"
    },
    {
     "data": {
      "image/png": "[encoded data removed]",
      "text/plain": [
       "<Figure size 432x288 with 2 Axes>"
      ]
     },
     "metadata": {
      "needs_background": "light"
     },
     "output_type": "display_data"
    }
   ],
   "source": [
    "test=gray_imgs[4]\n",
    "test=test.reshape(1,32,32,1)\n",
    "session=tf.Session()\n",
    "result=session.run(tf.argmax(tf.nn.softmax(model.predict(test),-1),-1))\n",
    "result = result.reshape(32,32)\n",
    "result_array=np.zeros((32,32,3),'uint8')\n",
    "cent=np.uint8(km.cluster_centers_)\n",
    "for i in range(32):\n",
    "    for j in range(32):\n",
    "        result_array[i,j,:] = cent[result[i][j]]\n",
    "image.fromarray(result_array)\n",
    "\n",
    "plt.subplot(121)\n",
    "plt.imshow(image.fromarray(result_array))\n",
    "plt.subplot(122)\n",
    "plt.imshow(image.fromarray(pixel_array[4]))"
   ]
  },
  {
   "cell_type": "code",
   "execution_count": 27,
   "metadata": {},
   "outputs": [
    {
     "data": {
      "text/plain": [
       "<matplotlib.image.AxesImage at 0x165b54358>"
      ]
     },
     "execution_count": 27,
     "metadata": {},
     "output_type": "execute_result"
    },
    {
     "data": {
      "image/png": "[encoded data removed]",
      "text/plain": [
       "<Figure size 432x288 with 2 Axes>"
      ]
     },
     "metadata": {
      "needs_background": "light"
     },
     "output_type": "display_data"
    }
   ],
   "source": [
    "test=gray_imgs[5]\n",
    "test=test.reshape(1,32,32,1)\n",
    "session=tf.Session()\n",
    "result=session.run(tf.argmax(tf.nn.softmax(model.predict(test),-1),-1))\n",
    "result = result.reshape(32,32)\n",
    "result_array=np.zeros((32,32,3),'uint8')\n",
    "cent=np.uint8(km.cluster_centers_)\n",
    "for i in range(32):\n",
    "    for j in range(32):\n",
    "        result_array[i,j,:] = cent[result[i][j]]\n",
    "image.fromarray(result_array)\n",
    "\n",
    "plt.subplot(121)\n",
    "plt.imshow(image.fromarray(result_array))\n",
    "plt.subplot(122)\n",
    "plt.imshow(image.fromarray(pixel_array[5]))"
   ]
  },
  {
   "cell_type": "code",
   "execution_count": 28,
   "metadata": {},
   "outputs": [
    {
     "data": {
      "text/plain": [
       "<matplotlib.image.AxesImage at 0x16ff0e198>"
      ]
     },
     "execution_count": 28,
     "metadata": {},
     "output_type": "execute_result"
    },
    {
     "data": {
      "image/png": "[encoded data removed]",
      "text/plain": [
       "<Figure size 432x288 with 2 Axes>"
      ]
     },
     "metadata": {
      "needs_background": "light"
     },
     "output_type": "display_data"
    }
   ],
   "source": [
    "test=gray_imgs[6]\n",
    "test=test.reshape(1,32,32,1)\n",
    "session=tf.Session()\n",
    "result=session.run(tf.argmax(tf.nn.softmax(model.predict(test),-1),-1))\n",
    "result = result.reshape(32,32)\n",
    "result_array=np.zeros((32,32,3),'uint8')\n",
    "cent=np.uint8(km.cluster_centers_)\n",
    "for i in range(32):\n",
    "    for j in range(32):\n",
    "        result_array[i,j,:] = cent[result[i][j]]\n",
    "image.fromarray(result_array)\n",
    "\n",
    "plt.subplot(121)\n",
    "plt.imshow(image.fromarray(result_array))\n",
    "plt.subplot(122)\n",
    "plt.imshow(image.fromarray(pixel_array[6]))"
   ]
  },
  {
   "cell_type": "code",
   "execution_count": 29,
   "metadata": {},
   "outputs": [
    {
     "data": {
      "text/plain": [
       "<matplotlib.image.AxesImage at 0x16ff7af98>"
      ]
     },
     "execution_count": 29,
     "metadata": {},
     "output_type": "execute_result"
    },
    {
     "data": {
      "image/png": "[encoded data removed]",
      "text/plain": [
       "<Figure size 432x288 with 2 Axes>"
      ]
     },
     "metadata": {
      "needs_background": "light"
     },
     "output_type": "display_data"
    }
   ],
   "source": [
    "test=gray_imgs[7]\n",
    "test=test.reshape(1,32,32,1)\n",
    "session=tf.Session()\n",
    "result=session.run(tf.argmax(tf.nn.softmax(model.predict(test),-1),-1))\n",
    "result = result.reshape(32,32)\n",
    "result_array=np.zeros((32,32,3),'uint8')\n",
    "cent=np.uint8(km.cluster_centers_)\n",
    "for i in range(32):\n",
    "    for j in range(32):\n",
    "        result_array[i,j,:] = cent[result[i][j]]\n",
    "image.fromarray(result_array)\n",
    "\n",
    "plt.subplot(121)\n",
    "plt.imshow(image.fromarray(result_array))\n",
    "plt.subplot(122)\n",
    "plt.imshow(image.fromarray(pixel_array[7]))"
   ]
  },
  {
   "cell_type": "code",
   "execution_count": 30,
   "metadata": {},
   "outputs": [
    {
     "data": {
      "text/plain": [
       "<matplotlib.image.AxesImage at 0x1704d9dd8>"
      ]
     },
     "execution_count": 30,
     "metadata": {},
     "output_type": "execute_result"
    },
    {
     "data": {
      "image/png": "[encoded data removed]",
      "text/plain": [
       "<Figure size 432x288 with 2 Axes>"
      ]
     },
     "metadata": {
      "needs_background": "light"
     },
     "output_type": "display_data"
    }
   ],
   "source": [
    "test=gray_imgs[8]\n",
    "test=test.reshape(1,32,32,1)\n",
    "session=tf.Session()\n",
    "result=session.run(tf.argmax(tf.nn.softmax(model.predict(test),-1),-1))\n",
    "result = result.reshape(32,32)\n",
    "result_array=np.zeros((32,32,3),'uint8')\n",
    "cent=np.uint8(km.cluster_centers_)\n",
    "for i in range(32):\n",
    "    for j in range(32):\n",
    "        result_array[i,j,:] = cent[result[i][j]]\n",
    "image.fromarray(result_array)\n",
    "\n",
    "plt.subplot(121)\n",
    "plt.imshow(image.fromarray(result_array))\n",
    "plt.subplot(122)\n",
    "plt.imshow(image.fromarray(pixel_array[8]))"
   ]
  },
  {
   "cell_type": "code",
   "execution_count": 31,
   "metadata": {},
   "outputs": [
    {
     "data": {
      "text/plain": [
       "<matplotlib.image.AxesImage at 0x17060fc18>"
      ]
     },
     "execution_count": 31,
     "metadata": {},
     "output_type": "execute_result"
    },
    {
     "data": {
      "image/png": "[encoded data removed]",
      "text/plain": [
       "<Figure size 432x288 with 2 Axes>"
      ]
     },
     "metadata": {
      "needs_background": "light"
     },
     "output_type": "display_data"
    }
   ],
   "source": [
    "test=gray_imgs[9]\n",
    "test=test.reshape(1,32,32,1)\n",
    "session=tf.Session()\n",
    "result=session.run(tf.argmax(tf.nn.softmax(model.predict(test),-1),-1))\n",
    "result = result.reshape(32,32)\n",
    "result_array=np.zeros((32,32,3),'uint8')\n",
    "cent=np.uint8(km.cluster_centers_)\n",
    "for i in range(32):\n",
    "    for j in range(32):\n",
    "        result_array[i,j,:] = cent[result[i][j]]\n",
    "image.fromarray(result_array)\n",
    "\n",
    "plt.subplot(121)\n",
    "plt.imshow(image.fromarray(result_array))\n",
    "plt.subplot(122)\n",
    "plt.imshow(image.fromarray(pixel_array[9]))"
   ]
  }
 ],
 "metadata": {
  "kernelspec": {
   "display_name": "Python 3",
   "language": "python",
   "name": "python3"
  },
  "language_info": {
   "codemirror_mode": {
    "name": "ipython",
    "version": 3
   },
   "file_extension": ".py",
   "mimetype": "text/x-python",
   "name": "python",
   "nbconvert_exporter": "python",
   "pygments_lexer": "ipython3",
   "version": "3.6.7"
  }
 },
 "nbformat": 4,
 "nbformat_minor": 2
}
